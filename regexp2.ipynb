{
 "cells": [
  {
   "cell_type": "markdown",
   "id": "21c2db44",
   "metadata": {},
   "source": [
    "# Assignment on REGULAR EXPRESSIOSN\n"
   ]
  },
  {
   "cell_type": "code",
   "execution_count": 60,
   "id": "55778280",
   "metadata": {},
   "outputs": [],
   "source": [
    "import regex as re\n"
   ]
  },
  {
   "cell_type": "markdown",
   "id": "b706b308",
   "metadata": {},
   "source": [
    "#1.Write a Python program to check that a string contains only a certain set of characters (in\n",
    "#this case a-z, A-Z and 0-9)."
   ]
  },
  {
   "cell_type": "code",
   "execution_count": 42,
   "id": "9d8229fc",
   "metadata": {},
   "outputs": [
    {
     "name": "stdout",
     "output_type": "stream",
     "text": [
      "True\n",
      "False\n"
     ]
    }
   ],
   "source": [
    "#Answer\n",
    "string1=\"HELLO world 123\"\n",
    "string2=\"HELLO @@@ Batch 12304&&&\"\n",
    "pattern2=\"r(^[A-Za-z0-9]+)*\"\n",
    "res1=re.search(pattern2,string1)\n",
    "res2=re.search(pattern2,string2)\n",
    "print(bool(res1))\n",
    "print(bool(res2))"
   ]
  },
  {
   "cell_type": "markdown",
   "id": "1e6af53e",
   "metadata": {},
   "source": [
    "#2. Create a function in python that matches a string that has an a followed by zero or more bs\n"
   ]
  },
  {
   "cell_type": "code",
   "execution_count": 82,
   "id": "de7e004d",
   "metadata": {},
   "outputs": [
    {
     "name": "stdout",
     "output_type": "stream",
     "text": [
      "['a', 'ab', 'abbbb']\n"
     ]
    }
   ],
   "source": [
    "# solution 1 Normal pattern to find a match in given string\n",
    "string_1=\" this is a begning abc abbbbccc session \"\n",
    "pat=\"ab*\"\n",
    "res=re.findall(pat,string_1)\n",
    "print(res)\n",
    "\n"
   ]
  },
  {
   "cell_type": "code",
   "execution_count": 83,
   "id": "d6050683",
   "metadata": {},
   "outputs": [
    {
     "name": "stdout",
     "output_type": "stream",
     "text": [
      "match!\n",
      "match!\n"
     ]
    }
   ],
   "source": [
    "# solution 2 Using functions to find a match in the given string\n",
    "import re\n",
    "def match_1(string1):\n",
    "        pat = 'ab*'\n",
    "        if re.search(pat,  string1):\n",
    "                return 'match!'\n",
    "        else:\n",
    "                return('No match!')\n",
    "\n",
    "print(match_1(\"acxmy\"))\n",
    "print(match_1(\"abc\"))"
   ]
  },
  {
   "cell_type": "markdown",
   "id": "16af6f23",
   "metadata": {},
   "source": [
    "#3.Create a function in python that matches a string that has an a followed by one or more bs\n"
   ]
  },
  {
   "cell_type": "code",
   "execution_count": 75,
   "id": "5ef56922",
   "metadata": {},
   "outputs": [
    {
     "name": "stdout",
     "output_type": "stream",
     "text": [
      "['ab', 'abbbb']\n"
     ]
    }
   ],
   "source": [
    "# solution 1 Normal pattern to find a match in given string\n",
    "string_1=\" this is a begining abc abbbbccc session \"\n",
    "pat=\"ab+\"\n",
    "res=re.findall(pat,string_1)\n",
    "print(res)"
   ]
  },
  {
   "cell_type": "code",
   "execution_count": 84,
   "id": "22f24dff",
   "metadata": {},
   "outputs": [
    {
     "name": "stdout",
     "output_type": "stream",
     "text": [
      "No match!\n",
      "match!\n"
     ]
    }
   ],
   "source": [
    "# solution 2 Using functions to find a match in the given string\n",
    "import re\n",
    "def match_1(string1):\n",
    "        pat = 'ab+'\n",
    "        if re.search(pat,  string1):\n",
    "                return 'match!'\n",
    "        else:\n",
    "                return('No match!')\n",
    "\n",
    "print(match_1(\"acxmy\"))\n",
    "print(match_1(\"abc\"))\n"
   ]
  },
  {
   "cell_type": "markdown",
   "id": "6bc1dee9",
   "metadata": {},
   "source": [
    "#4.Create a function in Python and use RegEx that matches a string that has an a followed by\n",
    "#zero or one b"
   ]
  },
  {
   "cell_type": "code",
   "execution_count": 118,
   "id": "a52674e1",
   "metadata": {},
   "outputs": [
    {
     "name": "stdout",
     "output_type": "stream",
     "text": [
      "match!\n",
      "match!\n",
      "No match!\n"
     ]
    }
   ],
   "source": [
    "import re\n",
    "def match_1(string1):\n",
    "        pat = 'ab?'\n",
    "        if re.search(pat,  string1):\n",
    "                return 'match!'\n",
    "        else:\n",
    "                return('No match!')\n",
    "\n",
    "print(match_1(\"caxmy\"))\n",
    "print(match_1(\"abc\"))\n",
    "print(match_1(\"xyzc\"))\n"
   ]
  },
  {
   "cell_type": "markdown",
   "id": "fdbbd1ec",
   "metadata": {},
   "source": [
    "#5.Write a Python program that matches a string that has an a followed by three bs"
   ]
  },
  {
   "cell_type": "code",
   "execution_count": 119,
   "id": "1b654133",
   "metadata": {},
   "outputs": [
    {
     "name": "stdout",
     "output_type": "stream",
     "text": [
      "match!\n",
      "No match!\n",
      "No match!\n"
     ]
    }
   ],
   "source": [
    "import re\n",
    "def match_1(string1):\n",
    "        pat = 'ab{3}?'\n",
    "        if re.search(pat,  string1):\n",
    "                return 'match!'\n",
    "        else:\n",
    "                return('No match!')\n",
    "\n",
    "print(match_1(\"abbbbbxmy\"))\n",
    "print(match_1(\"abc\"))\n",
    "print(match_1(\"abbxmy\"))"
   ]
  },
  {
   "cell_type": "markdown",
   "id": "9c0bdc09",
   "metadata": {},
   "source": [
    "#6.Write a regular expression in Python to split a string into uppercase letters."
   ]
  },
  {
   "cell_type": "code",
   "execution_count": 131,
   "id": "d13ee324",
   "metadata": {},
   "outputs": [
    {
     "name": "stdout",
     "output_type": "stream",
     "text": [
      "['Importance', 'Of', 'Regular', 'Expressions', 'In', 'Python']\n"
     ]
    }
   ],
   "source": [
    "\n",
    "import re\n",
    "sample = \"ImportanceOfRegularExpressionsInPython\"\n",
    "print(re.findall('[A-Z][^A-Z]*', sample))"
   ]
  },
  {
   "cell_type": "markdown",
   "id": "2b6b46a7",
   "metadata": {},
   "source": [
    "#7.Write a Python program that matches a string that has an a followed by two to three b."
   ]
  },
  {
   "cell_type": "code",
   "execution_count": 132,
   "id": "ce6742f7",
   "metadata": {},
   "outputs": [
    {
     "name": "stdout",
     "output_type": "stream",
     "text": [
      "match!\n",
      "No match!\n",
      "match!\n"
     ]
    }
   ],
   "source": [
    "def match_1(string1):\n",
    "        pat = 'ab{2,3}?'\n",
    "        if re.search(pat,  string1):\n",
    "                return 'match!'\n",
    "        else:\n",
    "                return('No match!')\n",
    "\n",
    "print(match_1(\"abbbbbxmy\"))\n",
    "print(match_1(\"abc\"))\n",
    "print(match_1(\"abbxmy\"))"
   ]
  },
  {
   "cell_type": "markdown",
   "id": "78b51ec4",
   "metadata": {},
   "source": [
    "#8.Write a Python program to find sequences of lowercase letters joined with a underscore."
   ]
  },
  {
   "cell_type": "code",
   "execution_count": 199,
   "id": "47f19358",
   "metadata": {},
   "outputs": [
    {
     "name": "stdout",
     "output_type": "stream",
     "text": [
      "['gandhi_ji', ' in in_dia']\n"
     ]
    }
   ],
   "source": [
    "import regex as re\n",
    "sample2 = \"gandhi_ji IS a GREAT_MAN in in_dia\"\n",
    "pat2=\"[^A-Z]+[_]\\w+\"\n",
    "print(re.findall(pat2, sample2))"
   ]
  },
  {
   "cell_type": "markdown",
   "id": "c91292ad",
   "metadata": {},
   "source": [
    "#9.Write a Python program that matches a string that has an a followed by anything, ending in b"
   ]
  },
  {
   "cell_type": "code",
   "execution_count": 24,
   "id": "f2c53ef6",
   "metadata": {},
   "outputs": [
    {
     "name": "stdout",
     "output_type": "stream",
     "text": [
      "No match!\n",
      "match!\n",
      "No match!\n"
     ]
    }
   ],
   "source": [
    "def match_1(string1):\n",
    "        pat = 'a.+?b$'\n",
    "        if re.search(pat,  string1):\n",
    "                return 'match!'\n",
    "        else:\n",
    "                return('No match!')\n",
    "\n",
    "print(match_1(\"hiooabbbbbxmy\"))\n",
    "print(match_1(\"ahkjb\"))\n",
    "print(match_1(\"ab\"))"
   ]
  },
  {
   "cell_type": "markdown",
   "id": "c83c63eb",
   "metadata": {},
   "source": [
    "#10.Write a Python program that matches a word at the beginning of a string"
   ]
  },
  {
   "cell_type": "code",
   "execution_count": 31,
   "id": "d8f40c4a",
   "metadata": {},
   "outputs": [
    {
     "name": "stdout",
     "output_type": "stream",
     "text": [
      "match!\n"
     ]
    }
   ],
   "source": [
    "def match_1(string1):\n",
    "        pat = '^\\w+'\n",
    "        if re.search(pat,  string1):\n",
    "                return 'match!'\n",
    "        else:\n",
    "                return('No match!')\n",
    "\n",
    "print(match_1(\"this is internship\"))\n"
   ]
  },
  {
   "cell_type": "markdown",
   "id": "43907a87",
   "metadata": {},
   "source": [
    "#11.Write a Python program to match a string that contains only upper and lowercase letters,\n",
    "#numbers, and underscores.\n"
   ]
  },
  {
   "cell_type": "code",
   "execution_count": 34,
   "id": "bad1ae3c",
   "metadata": {},
   "outputs": [
    {
     "name": "stdout",
     "output_type": "stream",
     "text": [
      "No match!\n",
      "match!\n"
     ]
    }
   ],
   "source": [
    "def match_2(string1):\n",
    "        pat = '^[a-zA-Z0-9_]*$'\n",
    "        if re.search(pat,  string1):\n",
    "                return 'match!'\n",
    "        else:\n",
    "                return('No match!')\n",
    "\n",
    "print(match_2(\"this is internship\"))\n",
    "print(match_2(\"Batch_2304\"))\n"
   ]
  },
  {
   "cell_type": "markdown",
   "id": "b02dfd02",
   "metadata": {},
   "source": [
    "#12.Write a Python program where a string will start with a specific number."
   ]
  },
  {
   "cell_type": "code",
   "execution_count": 40,
   "id": "998e5c6c",
   "metadata": {},
   "outputs": [
    {
     "name": "stdout",
     "output_type": "stream",
     "text": [
      "No match!\n",
      "match!\n"
     ]
    }
   ],
   "source": [
    "\n",
    "def match_2(string1):\n",
    "        pat='^[0-9][a-zA-Z]*'\n",
    "        if re.search(pat,  string1):\n",
    "                return 'match!'\n",
    "        else:\n",
    "                return('No match!')\n",
    "\n",
    "print(match_2(\"internship2304\"))\n",
    "print(match_2(\"2304intyership\"))\n"
   ]
  },
  {
   "cell_type": "markdown",
   "id": "5f488169",
   "metadata": {},
   "source": [
    "#13.Write a Python program to remove leading zeros from an IP address\n"
   ]
  },
  {
   "cell_type": "code",
   "execution_count": 45,
   "id": "f53218f4",
   "metadata": {},
   "outputs": [
    {
     "name": "stdout",
     "output_type": "stream",
     "text": [
      "256.9.64.106\n"
     ]
    }
   ],
   "source": [
    "ipaddress = \"256.009.064.106\"\n",
    "pat= re.sub('\\.[0]*', '.', ipaddress)\n",
    "print(pat)"
   ]
  },
  {
   "cell_type": "markdown",
   "id": "feb96887",
   "metadata": {},
   "source": [
    "#14.Write a regular expression in python to match a date string in the form of Month name\n",
    "followed by day number and year stored in a text file.\n"
   ]
  },
  {
   "cell_type": "code",
   "execution_count": 48,
   "id": "504a922b",
   "metadata": {},
   "outputs": [
    {
     "name": "stdout",
     "output_type": "stream",
     "text": [
      "August 15th 1947\n"
     ]
    }
   ],
   "source": [
    "inputtxt= \"On August 15th 1947 that India was declared independent from British colonialism, and the reins of control were handed over to the leaders of the Country\"\n",
    "pat = \"([a-zA-Z]+) (\\d+[a-z]+) (\\d+)\"\n",
    "res=re.search(pat,inputtxt)\n",
    "print(res.group())"
   ]
  },
  {
   "cell_type": "markdown",
   "id": "6ba9aaa6",
   "metadata": {},
   "source": [
    "#15.Write a Python program to search some literals strings in a string. Go to the editor"
   ]
  },
  {
   "cell_type": "code",
   "execution_count": 15,
   "id": "e8b5913a",
   "metadata": {},
   "outputs": [
    {
     "name": "stdout",
     "output_type": "stream",
     "text": [
      "<regex.Match object; span=(16, 20), match='fox '>\n"
     ]
    }
   ],
   "source": [
    "import regex as re\n",
    "string1=\"The quick brown fox jumps over the lazy dog\"\n",
    "x=re.search(\"fox \",string1)\n",
    "print(x)"
   ]
  },
  {
   "cell_type": "code",
   "execution_count": 57,
   "id": "50ab506b",
   "metadata": {},
   "outputs": [
    {
     "name": "stdout",
     "output_type": "stream",
     "text": [
      "['fox']\n",
      "[]\n",
      "[]\n"
     ]
    }
   ],
   "source": [
    "pat1=['fox','dog','horse']\n",
    "inputtxt=\"The quick brown fox jumps over the lazy dog\"\n",
    "for inputtxt in pat1:\n",
    "    #res= re.search(\"pat1\",inputtxt) --------->didnot able to fetch all 3\n",
    "    res=re.findall(\"fox\",inputtxt) #------>only able to fetch a single word\n",
    "    print(res)\n",
    "    "
   ]
  },
  {
   "cell_type": "markdown",
   "id": "7926906d",
   "metadata": {},
   "source": [
    "#16.Write a Python program to search a literals string in a string and also find the location within the original string where the pattern occurs\n"
   ]
  },
  {
   "cell_type": "code",
   "execution_count": 63,
   "id": "cf58058a",
   "metadata": {},
   "outputs": [
    {
     "name": "stdout",
     "output_type": "stream",
     "text": [
      "<regex.Match object; span=(16, 19), match='fox'>\n",
      "(16, 19)\n"
     ]
    }
   ],
   "source": [
    "inputtxt=\"The quick brown fox jumps over the lazy dog\"\n",
    "res=re.search(\"fox\",inputtxt)\n",
    "print(res)\n",
    "print(res.span())#----->to find the exact location of the string where it is starts and ends"
   ]
  },
  {
   "cell_type": "markdown",
   "id": "dd397bc9",
   "metadata": {},
   "source": [
    "#17.Write a Python program to find the substrings within a string"
   ]
  },
  {
   "cell_type": "code",
   "execution_count": 66,
   "id": "0fb17c57",
   "metadata": {},
   "outputs": [
    {
     "name": "stdout",
     "output_type": "stream",
     "text": [
      "['exercises', 'exercises', 'exercises']\n",
      "matched\n",
      "matched\n",
      "matched\n"
     ]
    }
   ],
   "source": [
    "sample=\"Python exercises, PHP exercises, C# exercises\"\n",
    "pat1=\"exercises\"\n",
    "res=re.findall(pat1,sample)\n",
    "print(res)\n",
    "for sample in res:\n",
    "    print('matched')\n",
    "    "
   ]
  },
  {
   "cell_type": "markdown",
   "id": "a7259711",
   "metadata": {},
   "source": [
    "#18.Write a Python program to find the occurrence and position of the substrings within a string."
   ]
  },
  {
   "cell_type": "code",
   "execution_count": 88,
   "id": "f6e87670",
   "metadata": {},
   "outputs": [
    {
     "name": "stdout",
     "output_type": "stream",
     "text": [
      "['exercises', 'exercises', 'exercises']\n",
      "7 16\n",
      "22 31\n",
      "36 45\n"
     ]
    }
   ],
   "source": [
    "sample=\"Python exercises, PHP exercises, C# exercises\"\n",
    "pat1=\"exercises\"\n",
    "res=re.findall(pat1,sample)\n",
    "print(res)\n",
    "\n",
    "for match in re.finditer(pat1, sample):\n",
    "    res1=match.start()\n",
    "    res2=match.end()\n",
    "    print(res1,res2)"
   ]
  },
  {
   "cell_type": "markdown",
   "id": "cc2e905d",
   "metadata": {},
   "source": [
    "#19.Write a Python program to convert a date of yyyy-mm-dd format to dd-mm-yyyy format"
   ]
  },
  {
   "cell_type": "code",
   "execution_count": 98,
   "id": "d8d564aa",
   "metadata": {},
   "outputs": [
    {
     "name": "stdout",
     "output_type": "stream",
     "text": [
      "\n"
     ]
    }
   ],
   "source": [
    "date1=\"2022-09-15\"\n",
    "replace=re.sub(r'(\\d{4})-(\\d{1,2})-(\\d{1,2})',\"\",date1) #-------->replacement string am not sure so given null value\n",
    "print(replace)\n",
    "\n",
    "\n"
   ]
  },
  {
   "cell_type": "markdown",
   "id": "f135df73",
   "metadata": {},
   "source": [
    "#20.Write a Python program to find all words starting with 'a' or 'e' in a given string."
   ]
  },
  {
   "cell_type": "code",
   "execution_count": 105,
   "id": "23b50126",
   "metadata": {},
   "outputs": [
    {
     "name": "stdout",
     "output_type": "stream",
     "text": [
      "['an', 'apple', 'eggs', 'and', 'eggplant']\n"
     ]
    }
   ],
   "source": [
    "\n",
    "string=\"I bought an apple,eggs and eggplant\"\n",
    "pat1=\"[ae]\\w+\"\n",
    "res=re.findall(pat1,string)\n",
    "print(res)\n"
   ]
  },
  {
   "cell_type": "markdown",
   "id": "f25cb168",
   "metadata": {},
   "source": [
    "#21 Write a Python program to separate and print the numbers and their position of a given string."
   ]
  },
  {
   "cell_type": "code",
   "execution_count": 117,
   "id": "6fd42bc7",
   "metadata": {},
   "outputs": [
    {
     "name": "stdout",
     "output_type": "stream",
     "text": [
      "<regex.Match object; span=(15, 19), match='2304'>\n",
      "15\n"
     ]
    }
   ],
   "source": [
    "str=\"i am from batch2304\"\n",
    "pat1=\"\\d+\" #------pattern to fetch digits from string\n",
    "res=re.search(pat1,str)\n",
    "print(res)\n",
    "print(res.start())##----- the result starts from 15th position\n"
   ]
  },
  {
   "cell_type": "markdown",
   "id": "18dbe68f",
   "metadata": {},
   "source": [
    "#22.Write a regular expression in python program to extract maximum numeric value from a string"
   ]
  },
  {
   "cell_type": "code",
   "execution_count": 131,
   "id": "b7c4e076",
   "metadata": {},
   "outputs": [
    {
     "name": "stdout",
     "output_type": "stream",
     "text": [
      "['75', '23', '98', '105', '75', '5']\n",
      "the maximum number in the string is : 105\n"
     ]
    }
   ],
   "source": [
    "txt=\"sachin score 75, 23 ,98,105,75 in last 5 matches \"\n",
    "pat=\"\\d+\"\n",
    "res=re.findall(pat,txt)\n",
    "print(res)\n",
    "num=map(int,res)\n",
    "print(\"the maximum number in the string is :\", max(num))"
   ]
  },
  {
   "cell_type": "markdown",
   "id": "7be94727",
   "metadata": {},
   "source": [
    "#23.Write a Regex in Python to put spaces between words starting with capital letters"
   ]
  },
  {
   "cell_type": "code",
   "execution_count": 144,
   "id": "a823845d",
   "metadata": {},
   "outputs": [
    {
     "name": "stdout",
     "output_type": "stream",
     "text": [
      "['Hello', 'Worldhere']\n",
      "Hello Worldhere\n"
     ]
    }
   ],
   "source": [
    "txt=\"HelloWorldhere\"\n",
    "\n",
    "result=re.findall(r\"[A-Z][a-z]*\",txt)\n",
    "print(result)\n",
    "print(' '.join((result)))"
   ]
  },
  {
   "cell_type": "markdown",
   "id": "3ee53dbb",
   "metadata": {},
   "source": [
    "#24Python regex to find sequences of one upper case letter followed by lower case letters\n",
    "\n"
   ]
  },
  {
   "cell_type": "code",
   "execution_count": 152,
   "id": "1b9eaffe",
   "metadata": {},
   "outputs": [
    {
     "name": "stdout",
     "output_type": "stream",
     "text": [
      "['Hello', 'Python', 'Progranmers']\n"
     ]
    }
   ],
   "source": [
    "txt=\"Hello worldhere Python Progranmers\"\n",
    "\n",
    "result=re.findall(r\"[A-Z][a-z]+\",txt)\n",
    "print(result)"
   ]
  },
  {
   "cell_type": "markdown",
   "id": "82e02d8c",
   "metadata": {},
   "source": [
    "#25- Write a Python program to remove duplicate words from Sentence using Regular Expression"
   ]
  },
  {
   "cell_type": "code",
   "execution_count": 176,
   "id": "e1aa27ce",
   "metadata": {},
   "outputs": [
    {
     "name": "stdout",
     "output_type": "stream",
     "text": [
      "the string after removing duplicate is: my house  is near by\n"
     ]
    }
   ],
   "source": [
    "\n",
    "str=\"my house house  is is near by\"\n",
    "pat=r\"\\b(\\w+)(?:\\W+\\1\\b)+\"\n",
    "x=re.sub(pat,r'\\1',str)\n",
    "print(\"the string after removing duplicate is:\",x)"
   ]
  },
  {
   "cell_type": "markdown",
   "id": "ff4210ff",
   "metadata": {},
   "source": [
    "#26.  Write a python program using RegEx to accept string ending with alphanumeric character."
   ]
  },
  {
   "cell_type": "code",
   "execution_count": 168,
   "id": "ed72c48c",
   "metadata": {},
   "outputs": [
    {
     "name": "stdout",
     "output_type": "stream",
     "text": [
      "matches and its alphanumeric string\n",
      "no match so notan alphanumeic string\n"
     ]
    }
   ],
   "source": [
    "\n",
    "\n",
    "\n",
    " def alphanum(str):\n",
    "        pat=\"[a-zA-Z0-9]$\"\n",
    "        if(re.search(pat,str)):\n",
    "            return('matches and its alphanumeric string')\n",
    "        else:\n",
    "            return('no match so notan alphanumeic string')\n",
    "            \n",
    "print(alphanum(\"this is the string123\"))\n",
    "print(alphanum(\"this is $$$$$\"))"
   ]
  },
  {
   "cell_type": "markdown",
   "id": "d6ff7fa0",
   "metadata": {},
   "source": [
    "#27.Write a python program using RegEx to extract the hashtags."
   ]
  },
  {
   "cell_type": "code",
   "execution_count": 192,
   "id": "80689cbc",
   "metadata": {},
   "outputs": [
    {
     "name": "stdout",
     "output_type": "stream",
     "text": [
      "the text with hashtag is : ['#Doltiwal', '#xyzabc', '#Demonetization']\n"
     ]
    }
   ],
   "source": [
    "text=\"\"\"RT @kapil_kausik: #Doltiwal I mean #xyzabc is \"hurt\" by #Demonetization as the same has rendered USELESS <ed><U+00A0><U+00BD><ed><U+00B1><U+0089> \"acquired funds\" No wo\"\"\"\n",
    "pat=r\"#[a-zA-Z0-9_]+\"\n",
    "result=re.findall(pat,text)\n",
    "print(\"the text with hashtag is :\",result)"
   ]
  },
  {
   "cell_type": "markdown",
   "id": "98dc0503",
   "metadata": {},
   "source": [
    "#28.Write a python program using RegEx to remove <U+..> like symbols"
   ]
  },
  {
   "cell_type": "code",
   "execution_count": 193,
   "id": "54507a8e",
   "metadata": {},
   "outputs": [
    {
     "name": "stdout",
     "output_type": "stream",
     "text": [
      "the new text is: @Jags123456 Bharat band on 28??<ed><ed>Those who  are protesting #demonetization  are all different party leaders\n"
     ]
    }
   ],
   "source": [
    "sample=\"@Jags123456 Bharat band on 28??<ed><U+00A0><U+00BD><ed><U+00B8><U+0082>Those who  are protesting #demonetization  are all different party leaders\"\n",
    "pat=re.sub(r\"<U\\+[A-Z0-9]+>\", \"\", sample)\n",
    "print(\"the new text is:\",pat)\n"
   ]
  },
  {
   "cell_type": "markdown",
   "id": "f73a53d5",
   "metadata": {},
   "source": [
    "#29Write a python program to extract dates from the text stored in the text file."
   ]
  },
  {
   "cell_type": "code",
   "execution_count": 198,
   "id": "411bc5da",
   "metadata": {},
   "outputs": [
    {
     "ename": "SyntaxError",
     "evalue": "(unicode error) 'unicodeescape' codec can't decode bytes in position 3-4: truncated \\UXXXXXXXX escape (947519293.py, line 1)",
     "output_type": "error",
     "traceback": [
      "\u001b[1;36m  File \u001b[1;32m\"C:\\Users\\Premium\\AppData\\Local\\Temp\\ipykernel_11560\\947519293.py\"\u001b[1;36m, line \u001b[1;32m1\u001b[0m\n\u001b[1;33m    with open(\"/C:\\Users\\Premium\\Desktop\\sampledate.txt\") as file1:\u001b[0m\n\u001b[1;37m                                                        ^\u001b[0m\n\u001b[1;31mSyntaxError\u001b[0m\u001b[1;31m:\u001b[0m (unicode error) 'unicodeescape' codec can't decode bytes in position 3-4: truncated \\UXXXXXXXX escape\n"
     ]
    }
   ],
   "source": [
    "with open(\"C:\\Users\\Premium\\Desktop\\sampledate.txt\") as file1:\n",
    "    \n",
    "    for line in file1:\n",
    "        dates=re.findall(r\"\\d{2}-\\d{2}-\\d{4}\", file1)\n",
    "        print(dates)\n",
    "        \n",
    "        ###unable to find error pls chk"
   ]
  },
  {
   "cell_type": "markdown",
   "id": "4692a20b",
   "metadata": {},
   "source": [
    "#30.- Write a Python program to replace all occurrences of a space, comma, or dot with a colon."
   ]
  },
  {
   "cell_type": "code",
   "execution_count": 218,
   "id": "ba5c3842",
   "metadata": {},
   "outputs": [
    {
     "name": "stdout",
     "output_type": "stream",
     "text": [
      "the new text is : Python:Exercises::PHP:exercises:\n"
     ]
    }
   ],
   "source": [
    "\n",
    "sample = \"Python Exercises, PHP exercises.\"\n",
    "\n",
    "res=re.sub(\"[\\s , .]\",\":\",sample)\n",
    "print(\"the new text is :\",res)"
   ]
  },
  {
   "cell_type": "code",
   "execution_count": null,
   "id": "bb207b70",
   "metadata": {},
   "outputs": [],
   "source": []
  }
 ],
 "metadata": {
  "kernelspec": {
   "display_name": "Python 3 (ipykernel)",
   "language": "python",
   "name": "python3"
  },
  "language_info": {
   "codemirror_mode": {
    "name": "ipython",
    "version": 3
   },
   "file_extension": ".py",
   "mimetype": "text/x-python",
   "name": "python",
   "nbconvert_exporter": "python",
   "pygments_lexer": "ipython3",
   "version": "3.9.13"
  }
 },
 "nbformat": 4,
 "nbformat_minor": 5
}
