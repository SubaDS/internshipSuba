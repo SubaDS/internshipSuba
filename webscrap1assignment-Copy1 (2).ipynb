{
 "cells": [
  {
   "cell_type": "markdown",
   "id": "2683879a",
   "metadata": {},
   "source": [
    "#python program to display all the header tags from wikipedia.org and make data frame"
   ]
  },
  {
   "cell_type": "code",
   "execution_count": 5,
   "id": "3585f61e",
   "metadata": {
    "scrolled": true
   },
   "outputs": [
    {
     "name": "stdout",
     "output_type": "stream",
     "text": [
      "Requirement already satisfied: bs4 in c:\\users\\premium\\anaconda3\\lib\\site-packages (0.0.1)\n",
      "Requirement already satisfied: beautifulsoup4 in c:\\users\\premium\\anaconda3\\lib\\site-packages (from bs4) (4.11.1)\n",
      "Requirement already satisfied: soupsieve>1.2 in c:\\users\\premium\\anaconda3\\lib\\site-packages (from beautifulsoup4->bs4) (2.3.1)\n",
      "Requirement already satisfied: requests in c:\\users\\premium\\anaconda3\\lib\\site-packages (2.28.1)\n",
      "Requirement already satisfied: idna<4,>=2.5 in c:\\users\\premium\\anaconda3\\lib\\site-packages (from requests) (3.3)\n",
      "Requirement already satisfied: urllib3<1.27,>=1.21.1 in c:\\users\\premium\\anaconda3\\lib\\site-packages (from requests) (1.26.11)\n",
      "Requirement already satisfied: charset-normalizer<3,>=2 in c:\\users\\premium\\anaconda3\\lib\\site-packages (from requests) (2.0.4)\n",
      "Requirement already satisfied: certifi>=2017.4.17 in c:\\users\\premium\\anaconda3\\lib\\site-packages (from requests) (2022.9.14)\n"
     ]
    }
   ],
   "source": [
    "!pip install bs4\n",
    "!pip install requests"
   ]
  },
  {
   "cell_type": "code",
   "execution_count": 6,
   "id": "a6a74536",
   "metadata": {},
   "outputs": [],
   "source": [
    "from bs4 import BeautifulSoup\n",
    "import requests\n"
   ]
  },
  {
   "cell_type": "code",
   "execution_count": 3,
   "id": "201b807c",
   "metadata": {},
   "outputs": [],
   "source": [
    "page1=requests.get('https://en.wikipedia.org/wiki/Main_Page')\n"
   ]
  },
  {
   "cell_type": "code",
   "execution_count": 4,
   "id": "f9f20fe3",
   "metadata": {},
   "outputs": [
    {
     "data": {
      "text/plain": [
       "<Response [200]>"
      ]
     },
     "execution_count": 4,
     "metadata": {},
     "output_type": "execute_result"
    }
   ],
   "source": [
    "page1"
   ]
  },
  {
   "cell_type": "code",
   "execution_count": 6,
   "id": "eb081489",
   "metadata": {},
   "outputs": [],
   "source": [
    "soup1=BeautifulSoup(page1.content)"
   ]
  },
  {
   "cell_type": "code",
   "execution_count": 155,
   "id": "09a8741d",
   "metadata": {},
   "outputs": [],
   "source": [
    "#soup1 #### making all the content pages not run since it loads large datas"
   ]
  },
  {
   "cell_type": "code",
   "execution_count": 12,
   "id": "8b9cb898",
   "metadata": {},
   "outputs": [],
   "source": [
    "soup2 = BeautifulSoup(page1.text, 'html.parser')"
   ]
  },
  {
   "cell_type": "code",
   "execution_count": 14,
   "id": "c39da009",
   "metadata": {},
   "outputs": [],
   "source": [
    "tags=[]\n",
    "for i in soup2.find_all(['h1','h2','h3']):\n",
    "    tags.append(i.text)\n"
   ]
  },
  {
   "cell_type": "code",
   "execution_count": 15,
   "id": "2111ec70",
   "metadata": {},
   "outputs": [
    {
     "data": {
      "text/plain": [
       "['Main Page',\n",
       " 'Welcome to Wikipedia',\n",
       " \"From today's featured article\",\n",
       " 'Did you know\\xa0...',\n",
       " 'In the news',\n",
       " 'On this day',\n",
       " \"Today's featured picture\",\n",
       " 'Other areas of Wikipedia',\n",
       " \"Wikipedia's sister projects\",\n",
       " 'Wikipedia languages']"
      ]
     },
     "execution_count": 15,
     "metadata": {},
     "output_type": "execute_result"
    }
   ],
   "source": [
    "tags"
   ]
  },
  {
   "cell_type": "code",
   "execution_count": 16,
   "id": "4adfe85b",
   "metadata": {},
   "outputs": [
    {
     "name": "stdout",
     "output_type": "stream",
     "text": [
      "10\n"
     ]
    }
   ],
   "source": [
    "print(len(tags))"
   ]
  },
  {
   "cell_type": "code",
   "execution_count": 17,
   "id": "10ca8a9d",
   "metadata": {},
   "outputs": [],
   "source": [
    "#making dataframes\n",
    "import pandas as pd\n",
    "df1=pd.DataFrame({'Header_Tags':tags})"
   ]
  },
  {
   "cell_type": "code",
   "execution_count": 18,
   "id": "5b489ae3",
   "metadata": {},
   "outputs": [
    {
     "data": {
      "text/html": [
       "<div>\n",
       "<style scoped>\n",
       "    .dataframe tbody tr th:only-of-type {\n",
       "        vertical-align: middle;\n",
       "    }\n",
       "\n",
       "    .dataframe tbody tr th {\n",
       "        vertical-align: top;\n",
       "    }\n",
       "\n",
       "    .dataframe thead th {\n",
       "        text-align: right;\n",
       "    }\n",
       "</style>\n",
       "<table border=\"1\" class=\"dataframe\">\n",
       "  <thead>\n",
       "    <tr style=\"text-align: right;\">\n",
       "      <th></th>\n",
       "      <th>Header_Tags</th>\n",
       "    </tr>\n",
       "  </thead>\n",
       "  <tbody>\n",
       "    <tr>\n",
       "      <th>0</th>\n",
       "      <td>Main Page</td>\n",
       "    </tr>\n",
       "    <tr>\n",
       "      <th>1</th>\n",
       "      <td>Welcome to Wikipedia</td>\n",
       "    </tr>\n",
       "    <tr>\n",
       "      <th>2</th>\n",
       "      <td>From today's featured article</td>\n",
       "    </tr>\n",
       "    <tr>\n",
       "      <th>3</th>\n",
       "      <td>Did you know ...</td>\n",
       "    </tr>\n",
       "    <tr>\n",
       "      <th>4</th>\n",
       "      <td>In the news</td>\n",
       "    </tr>\n",
       "    <tr>\n",
       "      <th>5</th>\n",
       "      <td>On this day</td>\n",
       "    </tr>\n",
       "    <tr>\n",
       "      <th>6</th>\n",
       "      <td>Today's featured picture</td>\n",
       "    </tr>\n",
       "    <tr>\n",
       "      <th>7</th>\n",
       "      <td>Other areas of Wikipedia</td>\n",
       "    </tr>\n",
       "    <tr>\n",
       "      <th>8</th>\n",
       "      <td>Wikipedia's sister projects</td>\n",
       "    </tr>\n",
       "    <tr>\n",
       "      <th>9</th>\n",
       "      <td>Wikipedia languages</td>\n",
       "    </tr>\n",
       "  </tbody>\n",
       "</table>\n",
       "</div>"
      ],
      "text/plain": [
       "                     Header_Tags\n",
       "0                      Main Page\n",
       "1           Welcome to Wikipedia\n",
       "2  From today's featured article\n",
       "3               Did you know ...\n",
       "4                    In the news\n",
       "5                    On this day\n",
       "6       Today's featured picture\n",
       "7       Other areas of Wikipedia\n",
       "8    Wikipedia's sister projects\n",
       "9            Wikipedia languages"
      ]
     },
     "execution_count": 18,
     "metadata": {},
     "output_type": "execute_result"
    }
   ],
   "source": [
    "df1"
   ]
  },
  {
   "cell_type": "markdown",
   "id": "39f9e962",
   "metadata": {},
   "source": [
    "#Write s python program to display list of respected former presidents of India(i.e. Name , Term ofoffice)\n",
    "from https://presidentofindia.nic.in/former-presidents.htm and make data frame."
   ]
  },
  {
   "cell_type": "code",
   "execution_count": 7,
   "id": "f5f8e719",
   "metadata": {},
   "outputs": [
    {
     "data": {
      "text/plain": [
       "<Response [200]>"
      ]
     },
     "execution_count": 7,
     "metadata": {},
     "output_type": "execute_result"
    }
   ],
   "source": [
    "page2=requests.get('https://presidentofindia.nic.in/former-presidents')\n",
    "page2"
   ]
  },
  {
   "cell_type": "code",
   "execution_count": 156,
   "id": "579d661d",
   "metadata": {},
   "outputs": [],
   "source": [
    "soup2=BeautifulSoup(page2.content)\n",
    "#soup2"
   ]
  },
  {
   "cell_type": "code",
   "execution_count": 9,
   "id": "13398d55",
   "metadata": {},
   "outputs": [],
   "source": [
    "soup_new = BeautifulSoup(page2.text, 'html.parser')"
   ]
  },
  {
   "cell_type": "code",
   "execution_count": 29,
   "id": "86c396f0",
   "metadata": {},
   "outputs": [
    {
     "data": {
      "text/plain": [
       "'\\nShri Ram Nath Kovind\\n14th President of India\\n'"
      ]
     },
     "execution_count": 29,
     "metadata": {},
     "output_type": "execute_result"
    }
   ],
   "source": [
    "n1=soup_new.find('div',class_=\"desc-sec\")\n",
    "n1.text"
   ]
  },
  {
   "cell_type": "code",
   "execution_count": 31,
   "id": "d5e570a5",
   "metadata": {},
   "outputs": [],
   "source": [
    "names=[]\n",
    "for i in soup_new.find_all('div',class_=\"desc-sec\"):\n",
    "    names.append(i.text)\n",
    "    names"
   ]
  },
  {
   "cell_type": "code",
   "execution_count": 32,
   "id": "19d83ff5",
   "metadata": {},
   "outputs": [
    {
     "data": {
      "text/plain": [
       "['\\nShri Ram Nath Kovind\\n14th President of India\\n',\n",
       " '\\nShri Pranab Mukherjee\\n13th President of India\\n',\n",
       " '\\nSmt Pratibha Devisingh Patil\\n12th President of India\\n',\n",
       " '\\nDR. A.P.J. Abdul Kalam\\n11th President of India\\n',\n",
       " '\\nShri K. R. Narayanan\\n10th President of India\\n',\n",
       " '\\nDr Shankar Dayal Sharma\\n9th  President of India\\n',\n",
       " '\\nShri R Venkataraman\\n8th President of India\\n',\n",
       " '\\nGiani Zail Singh\\n7th President of India\\n',\n",
       " '\\nShri Neelam Sanjiva Reddy\\n6th President of India\\n',\n",
       " '\\nDr. Fakhruddin Ali Ahmed\\n5th President of India\\n',\n",
       " '\\nShri Varahagiri Venkata Giri\\n4th President of India\\n',\n",
       " '\\nDr. Zakir Husain\\n3rd President of India\\n',\n",
       " '\\nDr. Sarvepalli Radhakrishnan\\n2nd President of India\\n',\n",
       " '\\nDr. Rajendra Prasad\\n1st President of India\\n']"
      ]
     },
     "execution_count": 32,
     "metadata": {},
     "output_type": "execute_result"
    }
   ],
   "source": [
    "names"
   ]
  },
  {
   "cell_type": "code",
   "execution_count": 10,
   "id": "7be64e31",
   "metadata": {},
   "outputs": [
    {
     "ename": "AttributeError",
     "evalue": "'NoneType' object has no attribute 'text'",
     "output_type": "error",
     "traceback": [
      "\u001b[1;31m---------------------------------------------------------------------------\u001b[0m",
      "\u001b[1;31mAttributeError\u001b[0m                            Traceback (most recent call last)",
      "\u001b[1;32m~\\AppData\\Local\\Temp\\ipykernel_6636\\3365276557.py\u001b[0m in \u001b[0;36m<module>\u001b[1;34m\u001b[0m\n\u001b[0;32m      1\u001b[0m \u001b[0mterms\u001b[0m \u001b[1;33m=\u001b[0m\u001b[0msoup_new\u001b[0m\u001b[1;33m.\u001b[0m\u001b[0mfind\u001b[0m\u001b[1;33m(\u001b[0m\u001b[1;34m'div'\u001b[0m\u001b[1;33m,\u001b[0m\u001b[0mclass_\u001b[0m\u001b[1;33m=\u001b[0m\u001b[1;34m\"wgl-services_text\"\u001b[0m\u001b[1;33m)\u001b[0m\u001b[1;33m\u001b[0m\u001b[1;33m\u001b[0m\u001b[0m\n\u001b[1;32m----> 2\u001b[1;33m \u001b[0mterms\u001b[0m\u001b[1;33m.\u001b[0m\u001b[0mtext\u001b[0m\u001b[1;33m\u001b[0m\u001b[1;33m\u001b[0m\u001b[0m\n\u001b[0m\u001b[0;32m      3\u001b[0m \u001b[1;33m\u001b[0m\u001b[0m\n\u001b[0;32m      4\u001b[0m \u001b[1;31m########## cannot fetch terms of office data properly to find tags and class#####\u001b[0m\u001b[1;33m\u001b[0m\u001b[1;33m\u001b[0m\u001b[0m\n",
      "\u001b[1;31mAttributeError\u001b[0m: 'NoneType' object has no attribute 'text'"
     ]
    }
   ],
   "source": [
    "terms =soup_new.find('div',class_=\"wgl-services_text\")\n",
    "terms.text\n",
    "\n",
    "########## cannot fetch terms of office data properly to find tags and class#####"
   ]
  },
  {
   "cell_type": "code",
   "execution_count": 44,
   "id": "a1e80e56",
   "metadata": {},
   "outputs": [
    {
     "ename": "AttributeError",
     "evalue": "'NoneType' object has no attribute 'text'",
     "output_type": "error",
     "traceback": [
      "\u001b[1;31m---------------------------------------------------------------------------\u001b[0m",
      "\u001b[1;31mAttributeError\u001b[0m                            Traceback (most recent call last)",
      "\u001b[1;32m~\\AppData\\Local\\Temp\\ipykernel_16688\\3869991013.py\u001b[0m in \u001b[0;36m<module>\u001b[1;34m\u001b[0m\n\u001b[0;32m      1\u001b[0m \u001b[0mterm_of_office\u001b[0m \u001b[1;33m=\u001b[0m \u001b[0msoup_new\u001b[0m\u001b[1;33m.\u001b[0m\u001b[0mfind\u001b[0m\u001b[1;33m(\u001b[0m\u001b[1;34m'span'\u001b[0m\u001b[1;33m,\u001b[0m \u001b[0mclass_\u001b[0m\u001b[1;33m=\u001b[0m\u001b[1;34m'terms'\u001b[0m\u001b[1;33m)\u001b[0m\u001b[1;33m\u001b[0m\u001b[1;33m\u001b[0m\u001b[0m\n\u001b[1;32m----> 2\u001b[1;33m \u001b[0mterm_of_office\u001b[0m\u001b[1;33m.\u001b[0m\u001b[0mtext\u001b[0m\u001b[1;33m\u001b[0m\u001b[1;33m\u001b[0m\u001b[0m\n\u001b[0m",
      "\u001b[1;31mAttributeError\u001b[0m: 'NoneType' object has no attribute 'text'"
     ]
    }
   ],
   "source": [
    "#term_of_office = soup_new.find('span', class_='terms')\n",
    "#term_of_office.text"
   ]
  },
  {
   "cell_type": "code",
   "execution_count": 53,
   "id": "82f567bb",
   "metadata": {},
   "outputs": [
    {
     "name": "stdout",
     "output_type": "stream",
     "text": [
      "14\n"
     ]
    }
   ],
   "source": [
    "print(len(names))"
   ]
  },
  {
   "cell_type": "code",
   "execution_count": 54,
   "id": "1ba11164",
   "metadata": {},
   "outputs": [],
   "source": [
    "#making dataframes\n",
    "import pandas as pd\n",
    "df2=pd.DataFrame({'List_of_president_names':names})"
   ]
  },
  {
   "cell_type": "code",
   "execution_count": 55,
   "id": "79d44d31",
   "metadata": {},
   "outputs": [
    {
     "data": {
      "text/html": [
       "<div>\n",
       "<style scoped>\n",
       "    .dataframe tbody tr th:only-of-type {\n",
       "        vertical-align: middle;\n",
       "    }\n",
       "\n",
       "    .dataframe tbody tr th {\n",
       "        vertical-align: top;\n",
       "    }\n",
       "\n",
       "    .dataframe thead th {\n",
       "        text-align: right;\n",
       "    }\n",
       "</style>\n",
       "<table border=\"1\" class=\"dataframe\">\n",
       "  <thead>\n",
       "    <tr style=\"text-align: right;\">\n",
       "      <th></th>\n",
       "      <th>List_of_president_names</th>\n",
       "    </tr>\n",
       "  </thead>\n",
       "  <tbody>\n",
       "    <tr>\n",
       "      <th>0</th>\n",
       "      <td>\\nShri Ram Nath Kovind\\n14th President of India\\n</td>\n",
       "    </tr>\n",
       "    <tr>\n",
       "      <th>1</th>\n",
       "      <td>\\nShri Pranab Mukherjee\\n13th President of Ind...</td>\n",
       "    </tr>\n",
       "    <tr>\n",
       "      <th>2</th>\n",
       "      <td>\\nSmt Pratibha Devisingh Patil\\n12th President...</td>\n",
       "    </tr>\n",
       "    <tr>\n",
       "      <th>3</th>\n",
       "      <td>\\nDR. A.P.J. Abdul Kalam\\n11th President of In...</td>\n",
       "    </tr>\n",
       "    <tr>\n",
       "      <th>4</th>\n",
       "      <td>\\nShri K. R. Narayanan\\n10th President of India\\n</td>\n",
       "    </tr>\n",
       "    <tr>\n",
       "      <th>5</th>\n",
       "      <td>\\nDr Shankar Dayal Sharma\\n9th  President of I...</td>\n",
       "    </tr>\n",
       "    <tr>\n",
       "      <th>6</th>\n",
       "      <td>\\nShri R Venkataraman\\n8th President of India\\n</td>\n",
       "    </tr>\n",
       "    <tr>\n",
       "      <th>7</th>\n",
       "      <td>\\nGiani Zail Singh\\n7th President of India\\n</td>\n",
       "    </tr>\n",
       "    <tr>\n",
       "      <th>8</th>\n",
       "      <td>\\nShri Neelam Sanjiva Reddy\\n6th President of ...</td>\n",
       "    </tr>\n",
       "    <tr>\n",
       "      <th>9</th>\n",
       "      <td>\\nDr. Fakhruddin Ali Ahmed\\n5th President of I...</td>\n",
       "    </tr>\n",
       "    <tr>\n",
       "      <th>10</th>\n",
       "      <td>\\nShri Varahagiri Venkata Giri\\n4th President ...</td>\n",
       "    </tr>\n",
       "    <tr>\n",
       "      <th>11</th>\n",
       "      <td>\\nDr. Zakir Husain\\n3rd President of India\\n</td>\n",
       "    </tr>\n",
       "    <tr>\n",
       "      <th>12</th>\n",
       "      <td>\\nDr. Sarvepalli Radhakrishnan\\n2nd President ...</td>\n",
       "    </tr>\n",
       "    <tr>\n",
       "      <th>13</th>\n",
       "      <td>\\nDr. Rajendra Prasad\\n1st President of India\\n</td>\n",
       "    </tr>\n",
       "  </tbody>\n",
       "</table>\n",
       "</div>"
      ],
      "text/plain": [
       "                              List_of_president_names\n",
       "0   \\nShri Ram Nath Kovind\\n14th President of India\\n\n",
       "1   \\nShri Pranab Mukherjee\\n13th President of Ind...\n",
       "2   \\nSmt Pratibha Devisingh Patil\\n12th President...\n",
       "3   \\nDR. A.P.J. Abdul Kalam\\n11th President of In...\n",
       "4   \\nShri K. R. Narayanan\\n10th President of India\\n\n",
       "5   \\nDr Shankar Dayal Sharma\\n9th  President of I...\n",
       "6     \\nShri R Venkataraman\\n8th President of India\\n\n",
       "7        \\nGiani Zail Singh\\n7th President of India\\n\n",
       "8   \\nShri Neelam Sanjiva Reddy\\n6th President of ...\n",
       "9   \\nDr. Fakhruddin Ali Ahmed\\n5th President of I...\n",
       "10  \\nShri Varahagiri Venkata Giri\\n4th President ...\n",
       "11       \\nDr. Zakir Husain\\n3rd President of India\\n\n",
       "12  \\nDr. Sarvepalli Radhakrishnan\\n2nd President ...\n",
       "13    \\nDr. Rajendra Prasad\\n1st President of India\\n"
      ]
     },
     "execution_count": 55,
     "metadata": {},
     "output_type": "execute_result"
    }
   ],
   "source": [
    "df2"
   ]
  },
  {
   "cell_type": "markdown",
   "id": "4bc4725a",
   "metadata": {},
   "source": [
    "#### Write a python program to scrape cricket rankings from icc-cricket.com. You have to scrape and make data frame\n",
    "a) Top 10 ODI teams in men’s cricket along with the records for matches, points and rating.\n",
    "b) Top 10 ODI Batsmen along with the records of their team andrating.\n",
    "c) Top 10 ODI bowlers along with the records of their team andrating."
   ]
  },
  {
   "cell_type": "code",
   "execution_count": 39,
   "id": "bcab6a12",
   "metadata": {},
   "outputs": [],
   "source": [
    "from bs4 import BeautifulSoup\n",
    "import requests"
   ]
  },
  {
   "cell_type": "code",
   "execution_count": 40,
   "id": "8a62117b",
   "metadata": {},
   "outputs": [
    {
     "data": {
      "text/plain": [
       "<Response [200]>"
      ]
     },
     "execution_count": 40,
     "metadata": {},
     "output_type": "execute_result"
    }
   ],
   "source": [
    "page3=requests.get('https://www.icc-cricket.com/rankings/mens/team-rankings/odi')\n",
    "page3\n",
    "                   "
   ]
  },
  {
   "cell_type": "code",
   "execution_count": 157,
   "id": "2bfe74ee",
   "metadata": {},
   "outputs": [],
   "source": [
    "soupodi=BeautifulSoup(page3.content)\n",
    "#soupodi\n"
   ]
  },
  {
   "cell_type": "code",
   "execution_count": 42,
   "id": "08c50637",
   "metadata": {},
   "outputs": [],
   "source": [
    "soup_odi1 = BeautifulSoup(page3.text, 'html.parser')"
   ]
  },
  {
   "cell_type": "code",
   "execution_count": 51,
   "id": "c7455b1e",
   "metadata": {},
   "outputs": [],
   "source": [
    "\n",
    "#Scrapping  all the team names\n",
    "#od=soup_odi1.find('span', class_=\"u-hide-phablet\")--- for 1 team\n",
    "\n",
    "#od.text\n",
    "\n",
    "team = soup_odi1.find_all(\"span\",class_=\"u-hide-phablet\")\n",
    "                          \n",
    "team_name = []\n",
    "\n",
    "for i in team:\n",
    "    team_name.append(i.text)\n",
    "    \n",
    "\n"
   ]
  },
  {
   "cell_type": "code",
   "execution_count": 52,
   "id": "862e4b68",
   "metadata": {},
   "outputs": [
    {
     "data": {
      "text/plain": [
       "['Australia',\n",
       " 'Pakistan',\n",
       " 'India',\n",
       " 'New Zealand',\n",
       " 'England',\n",
       " 'South Africa',\n",
       " 'Bangladesh',\n",
       " 'Afghanistan',\n",
       " 'Sri Lanka',\n",
       " 'West Indies',\n",
       " 'Zimbabwe',\n",
       " 'Scotland',\n",
       " 'Ireland',\n",
       " 'Netherlands',\n",
       " 'Nepal',\n",
       " 'Namibia',\n",
       " 'United States',\n",
       " 'Oman',\n",
       " 'UAE']"
      ]
     },
     "execution_count": 52,
     "metadata": {},
     "output_type": "execute_result"
    }
   ],
   "source": [
    "team_name"
   ]
  },
  {
   "cell_type": "code",
   "execution_count": 55,
   "id": "c12be0f2",
   "metadata": {},
   "outputs": [],
   "source": [
    "match=soup_odi1.find_all('td',class_=\"rankings-block__banner--matches\")\n",
    "\n",
    "matches = []\n",
    "\n",
    "for i in match:\n",
    "    matches.append(i.text)\n",
    "    \n",
    "\n"
   ]
  },
  {
   "cell_type": "code",
   "execution_count": 56,
   "id": "28dcb440",
   "metadata": {},
   "outputs": [
    {
     "data": {
      "text/plain": [
       "['23']"
      ]
     },
     "execution_count": 56,
     "metadata": {},
     "output_type": "execute_result"
    }
   ],
   "source": [
    "matches"
   ]
  },
  {
   "cell_type": "code",
   "execution_count": 67,
   "id": "03508b60",
   "metadata": {},
   "outputs": [
    {
     "data": {
      "text/plain": [
       "['2,714']"
      ]
     },
     "execution_count": 67,
     "metadata": {},
     "output_type": "execute_result"
    }
   ],
   "source": [
    "od2=soup_odi1.find_all('td',class_=\"rankings-block__banner--points\")\n",
    "points=[]\n",
    "\n",
    "for i in od2:\n",
    "    points.append(i.text)\n",
    "\n",
    "points"
   ]
  },
  {
   "cell_type": "code",
   "execution_count": 69,
   "id": "3005303d",
   "metadata": {},
   "outputs": [
    {
     "data": {
      "text/plain": [
       "['\\n                            118\\n                            ',\n",
       " '',\n",
       " '\\n',\n",
       " '',\n",
       " '\\n']"
      ]
     },
     "execution_count": 69,
     "metadata": {},
     "output_type": "execute_result"
    }
   ],
   "source": [
    "od3=soup_odi1.find('td',class_=\"rankings-block__banner--rating u-text-right\")\n",
    "Ratings=[]\n",
    "for i in od3:\n",
    "    Ratings.append(i.text)\n",
    "    \n",
    "Ratings"
   ]
  },
  {
   "cell_type": "code",
   "execution_count": 72,
   "id": "40a2b309",
   "metadata": {},
   "outputs": [],
   "source": [
    "\n",
    "##Only able to fetch list of teams and 1 team records .\n",
    "###unable to put in proper position of scrapping other team records\n"
   ]
  },
  {
   "cell_type": "code",
   "execution_count": 65,
   "id": "7554b131",
   "metadata": {},
   "outputs": [
    {
     "data": {
      "text/plain": [
       "'20'"
      ]
     },
     "execution_count": 65,
     "metadata": {},
     "output_type": "execute_result"
    }
   ],
   "source": [
    "#tried to fetch other team details\n",
    "mat=soup_odi1.find('td',class_=\"table-body__cell u-center-text\")\n",
    "mat.text\n",
    "                       \n",
    "                       "
   ]
  },
  {
   "cell_type": "code",
   "execution_count": null,
   "id": "14c5985f",
   "metadata": {},
   "outputs": [],
   "source": [
    "####BATSMAN RANKING WITH ODI BATSMAN RANKING#####"
   ]
  },
  {
   "cell_type": "code",
   "execution_count": 12,
   "id": "37a41e3a",
   "metadata": {},
   "outputs": [
    {
     "data": {
      "text/plain": [
       "<Response [200]>"
      ]
     },
     "execution_count": 12,
     "metadata": {},
     "output_type": "execute_result"
    }
   ],
   "source": [
    "pagebat=requests.get('https://www.icc-cricket.com/rankings/mens/player-rankings/odi')\n",
    "pagebat"
   ]
  },
  {
   "cell_type": "code",
   "execution_count": 158,
   "id": "6c088d78",
   "metadata": {},
   "outputs": [],
   "source": [
    "soupbat=BeautifulSoup(pagebat.content)\n",
    "#soupbat"
   ]
  },
  {
   "cell_type": "code",
   "execution_count": 15,
   "id": "0c192f55",
   "metadata": {},
   "outputs": [],
   "source": [
    "\n"
   ]
  },
  {
   "cell_type": "code",
   "execution_count": 29,
   "id": "2f3e0e2c",
   "metadata": {},
   "outputs": [
    {
     "data": {
      "text/plain": [
       "'\\n\\n\\nPos\\nPlayer\\nTeam\\nRating\\n\\n\\n\\n\\n\\n\\n\\n                                    2\\n                                \\n\\n\\n(0)\\n\\n\\n\\n\\nRassie van der Dussen\\n\\n\\n\\nSA\\n\\n777\\n\\n\\n\\n\\n\\n                                    3\\n                                \\n\\n\\n(0)\\n\\n\\n\\n\\nFakhar Zaman\\n\\n\\n\\nPAK\\n\\n755\\n\\n\\n\\n\\n\\n                                    4\\n                                \\n\\n\\n(0)\\n\\n\\n\\n\\nImam-ul-Haq\\n\\n\\n\\nPAK\\n\\n745\\n\\n\\n\\n\\n\\n                                    5\\n                                \\n\\n\\n(0)\\n\\n\\n\\n\\nShubman Gill\\n\\n\\n\\nIND\\n\\n738\\n\\n\\n\\n\\n\\n                                    6\\n                                \\n\\n\\n(0)\\n\\n\\n\\n\\nHarry Tector\\n\\n\\n\\nIRE\\n\\n726\\n\\n\\n\\n\\n\\n                                    =\\n                                \\n\\n\\n(0)\\n\\n\\n\\n\\nDavid Warner\\n\\n\\n\\nAUS\\n\\n726\\n\\n\\n\\n\\n\\n                                    8\\n                                \\n\\n\\n(0)\\n\\n\\n\\n\\nVirat Kohli\\n\\n\\n\\nIND\\n\\n719\\n\\n\\n\\n\\n\\n                                    9\\n                                \\n\\n\\n(0)\\n\\n\\n\\n\\nQuinton de Kock\\n\\n\\n\\nSA\\n\\n718\\n\\n\\n\\n\\n\\n                                    10\\n                                \\n\\n\\n(0)\\n\\n\\n\\n\\nRohit Sharma\\n\\n\\n\\nIND\\n\\n707\\n\\n\\n'"
      ]
     },
     "execution_count": 29,
     "metadata": {},
     "output_type": "execute_result"
    }
   ],
   "source": [
    "odibat=soup_bat1.find('table',class_=\"table rankings-card-table\")\n",
    "odibat.text\n",
    "\n"
   ]
  },
  {
   "cell_type": "code",
   "execution_count": 38,
   "id": "2d88a09b",
   "metadata": {},
   "outputs": [],
   "source": [
    "######Dont know how to split the datas seperately.after this only we can put it in Dataframe\n",
    "\n",
    "#import pandas as pd\n",
    "#df=pd.DataFrame({'List_of_ODI_batsman':odibat})"
   ]
  },
  {
   "cell_type": "markdown",
   "id": "b5f84443",
   "metadata": {},
   "source": [
    "ODI Womens team Ratings\n"
   ]
  },
  {
   "cell_type": "code",
   "execution_count": 74,
   "id": "570df306",
   "metadata": {},
   "outputs": [
    {
     "data": {
      "text/plain": [
       "<Response [200]>"
      ]
     },
     "execution_count": 74,
     "metadata": {},
     "output_type": "execute_result"
    }
   ],
   "source": [
    "pagewo=requests.get('https://www.icc-cricket.com/rankings/womens/overview')\n",
    "pagewo"
   ]
  },
  {
   "cell_type": "code",
   "execution_count": 75,
   "id": "3b9da378",
   "metadata": {},
   "outputs": [],
   "source": [
    "soupwo=BeautifulSoup(pagewo.content)"
   ]
  },
  {
   "cell_type": "code",
   "execution_count": 76,
   "id": "03a97cfd",
   "metadata": {},
   "outputs": [],
   "source": [
    "soup_wom = BeautifulSoup(pagewo.text, 'html.parser')"
   ]
  },
  {
   "cell_type": "code",
   "execution_count": 82,
   "id": "206d5135",
   "metadata": {},
   "outputs": [],
   "source": [
    "wom_t = soup_wom.find_all('div',class_=\"rankings-block__container rankings-block__container--teams\")\n",
    "                          \n",
    "wom_team = []\n",
    "\n",
    "for i in wom_t:\n",
    "    wom_team.append(i.text)\n",
    "    \n"
   ]
  },
  {
   "cell_type": "code",
   "execution_count": 83,
   "id": "8b99d05b",
   "metadata": {},
   "outputs": [
    {
     "data": {
      "text/plain": [
       "['\\n\\n\\nwodi\\nODI Team Rankings\\n\\n\\n\\n\\nShare\\n\\n\\n\\n\\n\\n\\n\\n\\n\\n\\n\\n\\n\\n\\n\\n\\nURL Copied\\n\\n\\n\\n\\n\\n\\n\\n                    1\\n                \\n\\nAustralia\\n165\\n\\n\\n\\n\\n\\n\\n\\n\\n\\nPos\\nTeam\\nRating\\n\\n\\n\\n\\n\\n                                2\\n                            \\n\\n\\n                                England\\n                            \\n125\\n\\n\\n\\n                                3\\n                            \\n\\n\\n                                South Africa\\n                            \\n119\\n\\n\\n\\n                                4\\n                            \\n\\n\\n                                India\\n                            \\n101\\n\\n\\n\\n                                5\\n                            \\n\\n\\n                                New Zealand\\n                            \\n96\\n\\n\\n\\n\\nView Full Table\\n\\n',\n",
       " '\\n\\n\\nwt20i\\nT20I Team Rankings\\n\\n\\n\\n\\nShare\\n\\n\\n\\n\\n\\n\\n\\n\\n\\n\\n\\n\\n\\n\\n\\n\\nURL Copied\\n\\n\\n\\n\\n\\n\\n\\n                    1\\n                \\n\\nAustralia\\n303\\n\\n\\n\\n\\n\\n\\n\\n\\n\\nPos\\nTeam\\nRating\\n\\n\\n\\n\\n\\n                                2\\n                            \\n\\n\\n                                England\\n                            \\n282\\n\\n\\n\\n                                3\\n                            \\n\\n\\n                                New Zealand\\n                            \\n268\\n\\n\\n\\n                                4\\n                            \\n\\n\\n                                India\\n                            \\n265\\n\\n\\n\\n                                5\\n                            \\n\\n\\n                                South Africa\\n                            \\n253\\n\\n\\n\\n\\nView Full Table\\n\\n']"
      ]
     },
     "execution_count": 83,
     "metadata": {},
     "output_type": "execute_result"
    }
   ],
   "source": [
    "wom_team"
   ]
  },
  {
   "cell_type": "markdown",
   "id": "70ff69d1",
   "metadata": {},
   "source": [
    "#Write a python program to scrape mentioned news details from https://www.cnbc.com/world/?region=world and make data frame-\n",
    "i) Headline\n",
    "ii) Time\n",
    "iii) News Link"
   ]
  },
  {
   "cell_type": "code",
   "execution_count": 91,
   "id": "42174ce7",
   "metadata": {},
   "outputs": [],
   "source": [
    "from bs4 import BeautifulSoup\n",
    "import requests\n",
    "pg4=requests.get(\"https://www.cnbc.com/world/?region=world\")"
   ]
  },
  {
   "cell_type": "code",
   "execution_count": 92,
   "id": "18918362",
   "metadata": {},
   "outputs": [
    {
     "data": {
      "text/plain": [
       "<Response [200]>"
      ]
     },
     "execution_count": 92,
     "metadata": {},
     "output_type": "execute_result"
    }
   ],
   "source": [
    "pg4\n"
   ]
  },
  {
   "cell_type": "code",
   "execution_count": 154,
   "id": "1e3cd184",
   "metadata": {},
   "outputs": [],
   "source": [
    "newsoup=BeautifulSoup(pg4.content)\n",
    "#newsoup"
   ]
  },
  {
   "cell_type": "code",
   "execution_count": 94,
   "id": "c0813bbb",
   "metadata": {},
   "outputs": [],
   "source": [
    "soupnews=BeautifulSoup(pg4.text,'html.parser')"
   ]
  },
  {
   "cell_type": "code",
   "execution_count": 8,
   "id": "180f7a34",
   "metadata": {},
   "outputs": [
    {
     "data": {
      "text/plain": [
       "'Trump election probe grand jury arrives at court amid indictment speculation'"
      ]
     },
     "execution_count": 8,
     "metadata": {},
     "output_type": "execute_result"
    }
   ],
   "source": [
    "head=soupnews.find('a',class_=\"LatestNews-headline\")\n",
    "head.text"
   ]
  },
  {
   "cell_type": "code",
   "execution_count": 99,
   "id": "2a6d0037",
   "metadata": {},
   "outputs": [],
   "source": [
    "hn=[]\n",
    "for i in soupnews.find_all('a',class_=\"LatestNews-headline\"):\n",
    "    hn.append(i.text)\n",
    "    hn"
   ]
  },
  {
   "cell_type": "code",
   "execution_count": 100,
   "id": "97f1adc4",
   "metadata": {},
   "outputs": [
    {
     "data": {
      "text/plain": [
       "['CNBC Daily Open: Could the market bears be right?',\n",
       " 'Europe markets open lower as investors digest earnings and U.S. rating downgrade',\n",
       " 'Goldman Sachs names ‘directors’ cut’ conviction list stocks — and adds 2 names ',\n",
       " 'U.S. House committee flags MSCI, BlackRock for China investments',\n",
       " \"Ukraine has tested its allies' patience with its military strategy and demands\",\n",
       " \"How to potect your money in the UK's mortgage crisis — as a renter and homeowner\",\n",
       " \"Bank of England's next move divides economists as data paints a mixed picture\",\n",
       " 'Bank of Japan douses hopes that policy tweak marks the end of easy policy',\n",
       " \"CNBC's top 200 global fintech companies: The complete list\",\n",
       " \"From banking giants to lending up-and-comers — here are the world's top fintechs\",\n",
       " 'Are Saudi Arabia and Turkey the new peace brokers of the Russia-Ukraine war?',\n",
       " 'One tech fund manager has outperformed for 10 years using a unique strategy',\n",
       " \"India's rice export ban to hurt millions. These countries will be worst hit\",\n",
       " 'Report: Russian forces carried out grisly war crimes on Kherson prisoners',\n",
       " \"Pioneer delivers strong quarterly results — but that isn't what shines the brightest\",\n",
       " \"Pinterest CEO on user growth: 'Gen Z is our fastest-growing cohort'\",\n",
       " 'China turns to rural tourism and smart appliances to boost consumption',\n",
       " 'We expected more from Starbucks, but remain believers in the coffee brand  ',\n",
       " \"Wall Street looks past AMD's light guide, leading us to make a price target change\",\n",
       " 'CNBC Daily Open: Market bears refuse to concede',\n",
       " 'Want to play the EV boom? Citi names 4 top battery stocks',\n",
       " 'Here’s where to invest $100,000 right now, according to the pros',\n",
       " \"Cramer's Lightning Round: Verizon is 'going nowhere'\",\n",
       " 'Nikkei leads losses in Asia and falls over 2%; Hong Kong also selling off as Fitch downgrades U.S.',\n",
       " \"Cramer breaks down July's top 15 stocks in the Russell 1000\",\n",
       " \"Uber shares dip after mixed second-quarter results. Here's what the pros say\",\n",
       " 'Stock futures fall after Fitch downgrades U.S. rating, earnings season continues',\n",
       " 'Fitch downgrades U.S. long-term rating to AA+ from AAA',\n",
       " 'Stocks making the biggest moves after hours: SolarEdge Technologies and more ',\n",
       " 'Trump sought to  ‘exploit the violence and chaos’ of Jan. 6 with lies, indictment says']"
      ]
     },
     "execution_count": 100,
     "metadata": {},
     "output_type": "execute_result"
    }
   ],
   "source": [
    "hn"
   ]
  },
  {
   "cell_type": "code",
   "execution_count": 101,
   "id": "d421abc5",
   "metadata": {},
   "outputs": [],
   "source": [
    "times=[]\n",
    "for i in soupnews.find_all('span',class_=\"LatestNews-wrapper\"):\n",
    "    times.append(i.text)\n",
    "    times"
   ]
  },
  {
   "cell_type": "code",
   "execution_count": 102,
   "id": "6308fc61",
   "metadata": {},
   "outputs": [
    {
     "data": {
      "text/plain": [
       "['23 Min Ago',\n",
       " '1 Hour Ago',\n",
       " '2 Hours Ago',\n",
       " '2 Hours Ago',\n",
       " '2 Hours Ago',\n",
       " '2 Hours Ago',\n",
       " '2 Hours Ago',\n",
       " '2 Hours Ago',\n",
       " '3 Hours Ago',\n",
       " '3 Hours Ago',\n",
       " '5 Hours Ago',\n",
       " '5 Hours Ago',\n",
       " '6 Hours Ago',\n",
       " '6 Hours Ago',\n",
       " '7 Hours Ago',\n",
       " '7 Hours Ago',\n",
       " '7 Hours Ago',\n",
       " '7 Hours Ago',\n",
       " '7 Hours Ago',\n",
       " '7 Hours Ago',\n",
       " '7 Hours Ago',\n",
       " '8 Hours Ago',\n",
       " '8 Hours Ago',\n",
       " '8 Hours Ago',\n",
       " '8 Hours Ago',\n",
       " '9 Hours Ago',\n",
       " '10 Hours Ago',\n",
       " '10 Hours Ago',\n",
       " '10 Hours Ago',\n",
       " '11 Hours Ago']"
      ]
     },
     "execution_count": 102,
     "metadata": {},
     "output_type": "execute_result"
    }
   ],
   "source": [
    "times"
   ]
  },
  {
   "cell_type": "code",
   "execution_count": 110,
   "id": "1111fde8",
   "metadata": {},
   "outputs": [],
   "source": [
    "links=[]\n",
    "\n",
    "#scrap the url links\n",
    "\n",
    "for i in soupnews.find_all('a',class_=\"LatestNews-headline\"):\n",
    "    links.append(i.get('href'))\n",
    "\n"
   ]
  },
  {
   "cell_type": "code",
   "execution_count": 111,
   "id": "2f0a8315",
   "metadata": {},
   "outputs": [
    {
     "data": {
      "text/plain": [
       "['https://www.cnbc.com/2023/08/02/stock-markets-could-the-market-bears-be-right.html',\n",
       " 'https://www.cnbc.com/2023/08/02/european-markets-open-to-close-earnings-data-and-news.html',\n",
       " 'https://www.cnbc.com/2023/08/02/goldman-sachs-names-directors-cut-conviction-list-stocks-and-adds-2-names-.html',\n",
       " 'https://www.cnbc.com/2023/08/02/us-house-committee-flags-msci-blackrock-for-china-investments.html',\n",
       " 'https://www.cnbc.com/2023/08/02/ukraines-military-strategy-and-demands-have-tested-allies-patience.html',\n",
       " 'https://www.cnbc.com/2023/08/02/uk-mortgage-crisis-experts-explain-how-to-protect-your-money.html',\n",
       " 'https://www.cnbc.com/2023/08/02/bank-of-englands-next-move-divides-economists-as-data-paints-a-mixed-picture.html',\n",
       " 'https://www.cnbc.com/2023/08/02/boj-ycc-pushback.html',\n",
       " 'https://www.cnbc.com/2023/08/02/cnbcs-top-200-global-fintech-companies-the-complete-list.html',\n",
       " 'https://www.cnbc.com/2023/08/02/here-are-the-worlds-top-200-fintechs-cnbc-and-statista.html',\n",
       " 'https://www.cnbc.com/2023/08/02/saudi-arabia-and-turkey-the-new-peace-brokers-of-russia-ukraine-war.html',\n",
       " 'https://www.cnbc.com/2023/08/02/tech-fund-manager-outperforms-for-10-years-using-a-unique-strategy.html',\n",
       " 'https://www.cnbc.com/2023/08/02/indias-rice-export-ban-to-impact-millions-in-asia-africa-middle-east.html',\n",
       " 'https://www.cnbc.com/2023/08/01/report-russian-forces-carried-out-war-crimes-on-kherson-prisoners.html',\n",
       " 'https://www.cnbc.com/2023/08/01/pioneer-delivers-strong-quarterly-results-but-that-isnt-what-shines-the-brightest.html',\n",
       " 'https://www.cnbc.com/2023/08/01/pinterest-ceo-on-user-growth-gen-z-is-our-fastest-growing-cohort.html',\n",
       " 'https://www.cnbc.com/2023/08/02/china-turns-to-rural-tourism-and-smart-appliances-to-boost-consumption.html',\n",
       " 'https://www.cnbc.com/2023/08/01/we-expected-more-from-starbucks-but-remain-believers-in-the-brand-.html',\n",
       " 'https://www.cnbc.com/2023/08/01/wall-street-looks-past-amds-light-guide-leading-us-to-make-a-price-target-change.html',\n",
       " 'https://www.cnbc.com/2023/08/02/stock-markets-market-bears-refuse-to-concede.html',\n",
       " 'https://www.cnbc.com/2023/08/02/want-to-play-the-ev-boom-citi-picks-top-battery-stocks-.html',\n",
       " 'https://www.cnbc.com/2023/08/02/heres-where-to-invest-100000-right-now-according-to-the-pros.html',\n",
       " 'https://www.cnbc.com/2023/08/01/cramers-lightning-round-verizon-is-going-nowhere.html',\n",
       " 'https://www.cnbc.com/2023/08/02/asia-markets-poised-to-fall-as-fitch-lowered-us-credit-ratings.html',\n",
       " 'https://www.cnbc.com/2023/08/01/cramer-breaks-down-julys-top-15-stocks-in-the-russell-1000.html',\n",
       " 'https://www.cnbc.com/2023/08/01/uber-shares-dip-after-mixed-2q-results-heres-what-the-pros-say.html',\n",
       " 'https://www.cnbc.com/2023/08/01/stock-market-today-live-updates.html',\n",
       " 'https://www.cnbc.com/2023/08/01/fitch-downgrades-us-long-term-ratings-to-aa-from-aaa.html',\n",
       " 'https://www.cnbc.com/2023/08/01/stocks-making-the-biggest-moves-after-hours-sedg-amd-sbux.html',\n",
       " 'https://www.cnbc.com/2023/08/01/trump-indictment-live-updates-former-president-predicts-charges.html']"
      ]
     },
     "execution_count": 111,
     "metadata": {},
     "output_type": "execute_result"
    }
   ],
   "source": [
    "links"
   ]
  },
  {
   "cell_type": "code",
   "execution_count": 112,
   "id": "584b2f72",
   "metadata": {},
   "outputs": [
    {
     "name": "stdout",
     "output_type": "stream",
     "text": [
      "30 30 30\n"
     ]
    }
   ],
   "source": [
    "print(len(hn),len(times),len(links))\n",
    "#to check all lenghys are equal to form a DF."
   ]
  },
  {
   "cell_type": "code",
   "execution_count": 113,
   "id": "8aef2404",
   "metadata": {},
   "outputs": [
    {
     "data": {
      "text/html": [
       "<div>\n",
       "<style scoped>\n",
       "    .dataframe tbody tr th:only-of-type {\n",
       "        vertical-align: middle;\n",
       "    }\n",
       "\n",
       "    .dataframe tbody tr th {\n",
       "        vertical-align: top;\n",
       "    }\n",
       "\n",
       "    .dataframe thead th {\n",
       "        text-align: right;\n",
       "    }\n",
       "</style>\n",
       "<table border=\"1\" class=\"dataframe\">\n",
       "  <thead>\n",
       "    <tr style=\"text-align: right;\">\n",
       "      <th></th>\n",
       "      <th>Head_news</th>\n",
       "      <th>timeofnews</th>\n",
       "      <th>Links</th>\n",
       "    </tr>\n",
       "  </thead>\n",
       "  <tbody>\n",
       "    <tr>\n",
       "      <th>0</th>\n",
       "      <td>CNBC Daily Open: Could the market bears be right?</td>\n",
       "      <td>23 Min Ago</td>\n",
       "      <td>https://www.cnbc.com/2023/08/02/stock-markets-...</td>\n",
       "    </tr>\n",
       "    <tr>\n",
       "      <th>1</th>\n",
       "      <td>Europe markets open lower as investors digest ...</td>\n",
       "      <td>1 Hour Ago</td>\n",
       "      <td>https://www.cnbc.com/2023/08/02/european-marke...</td>\n",
       "    </tr>\n",
       "    <tr>\n",
       "      <th>2</th>\n",
       "      <td>Goldman Sachs names ‘directors’ cut’ convictio...</td>\n",
       "      <td>2 Hours Ago</td>\n",
       "      <td>https://www.cnbc.com/2023/08/02/goldman-sachs-...</td>\n",
       "    </tr>\n",
       "    <tr>\n",
       "      <th>3</th>\n",
       "      <td>U.S. House committee flags MSCI, BlackRock for...</td>\n",
       "      <td>2 Hours Ago</td>\n",
       "      <td>https://www.cnbc.com/2023/08/02/us-house-commi...</td>\n",
       "    </tr>\n",
       "    <tr>\n",
       "      <th>4</th>\n",
       "      <td>Ukraine has tested its allies' patience with i...</td>\n",
       "      <td>2 Hours Ago</td>\n",
       "      <td>https://www.cnbc.com/2023/08/02/ukraines-milit...</td>\n",
       "    </tr>\n",
       "    <tr>\n",
       "      <th>5</th>\n",
       "      <td>How to potect your money in the UK's mortgage ...</td>\n",
       "      <td>2 Hours Ago</td>\n",
       "      <td>https://www.cnbc.com/2023/08/02/uk-mortgage-cr...</td>\n",
       "    </tr>\n",
       "    <tr>\n",
       "      <th>6</th>\n",
       "      <td>Bank of England's next move divides economists...</td>\n",
       "      <td>2 Hours Ago</td>\n",
       "      <td>https://www.cnbc.com/2023/08/02/bank-of-englan...</td>\n",
       "    </tr>\n",
       "    <tr>\n",
       "      <th>7</th>\n",
       "      <td>Bank of Japan douses hopes that policy tweak m...</td>\n",
       "      <td>2 Hours Ago</td>\n",
       "      <td>https://www.cnbc.com/2023/08/02/boj-ycc-pushba...</td>\n",
       "    </tr>\n",
       "    <tr>\n",
       "      <th>8</th>\n",
       "      <td>CNBC's top 200 global fintech companies: The c...</td>\n",
       "      <td>3 Hours Ago</td>\n",
       "      <td>https://www.cnbc.com/2023/08/02/cnbcs-top-200-...</td>\n",
       "    </tr>\n",
       "    <tr>\n",
       "      <th>9</th>\n",
       "      <td>From banking giants to lending up-and-comers —...</td>\n",
       "      <td>3 Hours Ago</td>\n",
       "      <td>https://www.cnbc.com/2023/08/02/here-are-the-w...</td>\n",
       "    </tr>\n",
       "    <tr>\n",
       "      <th>10</th>\n",
       "      <td>Are Saudi Arabia and Turkey the new peace brok...</td>\n",
       "      <td>5 Hours Ago</td>\n",
       "      <td>https://www.cnbc.com/2023/08/02/saudi-arabia-a...</td>\n",
       "    </tr>\n",
       "    <tr>\n",
       "      <th>11</th>\n",
       "      <td>One tech fund manager has outperformed for 10 ...</td>\n",
       "      <td>5 Hours Ago</td>\n",
       "      <td>https://www.cnbc.com/2023/08/02/tech-fund-mana...</td>\n",
       "    </tr>\n",
       "    <tr>\n",
       "      <th>12</th>\n",
       "      <td>India's rice export ban to hurt millions. Thes...</td>\n",
       "      <td>6 Hours Ago</td>\n",
       "      <td>https://www.cnbc.com/2023/08/02/indias-rice-ex...</td>\n",
       "    </tr>\n",
       "    <tr>\n",
       "      <th>13</th>\n",
       "      <td>Report: Russian forces carried out grisly war ...</td>\n",
       "      <td>6 Hours Ago</td>\n",
       "      <td>https://www.cnbc.com/2023/08/01/report-russian...</td>\n",
       "    </tr>\n",
       "    <tr>\n",
       "      <th>14</th>\n",
       "      <td>Pioneer delivers strong quarterly results — bu...</td>\n",
       "      <td>7 Hours Ago</td>\n",
       "      <td>https://www.cnbc.com/2023/08/01/pioneer-delive...</td>\n",
       "    </tr>\n",
       "    <tr>\n",
       "      <th>15</th>\n",
       "      <td>Pinterest CEO on user growth: 'Gen Z is our fa...</td>\n",
       "      <td>7 Hours Ago</td>\n",
       "      <td>https://www.cnbc.com/2023/08/01/pinterest-ceo-...</td>\n",
       "    </tr>\n",
       "    <tr>\n",
       "      <th>16</th>\n",
       "      <td>China turns to rural tourism and smart applian...</td>\n",
       "      <td>7 Hours Ago</td>\n",
       "      <td>https://www.cnbc.com/2023/08/02/china-turns-to...</td>\n",
       "    </tr>\n",
       "    <tr>\n",
       "      <th>17</th>\n",
       "      <td>We expected more from Starbucks, but remain be...</td>\n",
       "      <td>7 Hours Ago</td>\n",
       "      <td>https://www.cnbc.com/2023/08/01/we-expected-mo...</td>\n",
       "    </tr>\n",
       "    <tr>\n",
       "      <th>18</th>\n",
       "      <td>Wall Street looks past AMD's light guide, lead...</td>\n",
       "      <td>7 Hours Ago</td>\n",
       "      <td>https://www.cnbc.com/2023/08/01/wall-street-lo...</td>\n",
       "    </tr>\n",
       "    <tr>\n",
       "      <th>19</th>\n",
       "      <td>CNBC Daily Open: Market bears refuse to concede</td>\n",
       "      <td>7 Hours Ago</td>\n",
       "      <td>https://www.cnbc.com/2023/08/02/stock-markets-...</td>\n",
       "    </tr>\n",
       "    <tr>\n",
       "      <th>20</th>\n",
       "      <td>Want to play the EV boom? Citi names 4 top bat...</td>\n",
       "      <td>7 Hours Ago</td>\n",
       "      <td>https://www.cnbc.com/2023/08/02/want-to-play-t...</td>\n",
       "    </tr>\n",
       "    <tr>\n",
       "      <th>21</th>\n",
       "      <td>Here’s where to invest $100,000 right now, acc...</td>\n",
       "      <td>8 Hours Ago</td>\n",
       "      <td>https://www.cnbc.com/2023/08/02/heres-where-to...</td>\n",
       "    </tr>\n",
       "    <tr>\n",
       "      <th>22</th>\n",
       "      <td>Cramer's Lightning Round: Verizon is 'going no...</td>\n",
       "      <td>8 Hours Ago</td>\n",
       "      <td>https://www.cnbc.com/2023/08/01/cramers-lightn...</td>\n",
       "    </tr>\n",
       "    <tr>\n",
       "      <th>23</th>\n",
       "      <td>Nikkei leads losses in Asia and falls over 2%;...</td>\n",
       "      <td>8 Hours Ago</td>\n",
       "      <td>https://www.cnbc.com/2023/08/02/asia-markets-p...</td>\n",
       "    </tr>\n",
       "    <tr>\n",
       "      <th>24</th>\n",
       "      <td>Cramer breaks down July's top 15 stocks in the...</td>\n",
       "      <td>8 Hours Ago</td>\n",
       "      <td>https://www.cnbc.com/2023/08/01/cramer-breaks-...</td>\n",
       "    </tr>\n",
       "    <tr>\n",
       "      <th>25</th>\n",
       "      <td>Uber shares dip after mixed second-quarter res...</td>\n",
       "      <td>9 Hours Ago</td>\n",
       "      <td>https://www.cnbc.com/2023/08/01/uber-shares-di...</td>\n",
       "    </tr>\n",
       "    <tr>\n",
       "      <th>26</th>\n",
       "      <td>Stock futures fall after Fitch downgrades U.S....</td>\n",
       "      <td>10 Hours Ago</td>\n",
       "      <td>https://www.cnbc.com/2023/08/01/stock-market-t...</td>\n",
       "    </tr>\n",
       "    <tr>\n",
       "      <th>27</th>\n",
       "      <td>Fitch downgrades U.S. long-term rating to AA+ ...</td>\n",
       "      <td>10 Hours Ago</td>\n",
       "      <td>https://www.cnbc.com/2023/08/01/fitch-downgrad...</td>\n",
       "    </tr>\n",
       "    <tr>\n",
       "      <th>28</th>\n",
       "      <td>Stocks making the biggest moves after hours: S...</td>\n",
       "      <td>10 Hours Ago</td>\n",
       "      <td>https://www.cnbc.com/2023/08/01/stocks-making-...</td>\n",
       "    </tr>\n",
       "    <tr>\n",
       "      <th>29</th>\n",
       "      <td>Trump sought to  ‘exploit the violence and cha...</td>\n",
       "      <td>11 Hours Ago</td>\n",
       "      <td>https://www.cnbc.com/2023/08/01/trump-indictme...</td>\n",
       "    </tr>\n",
       "  </tbody>\n",
       "</table>\n",
       "</div>"
      ],
      "text/plain": [
       "                                            Head_news    timeofnews  \\\n",
       "0   CNBC Daily Open: Could the market bears be right?    23 Min Ago   \n",
       "1   Europe markets open lower as investors digest ...    1 Hour Ago   \n",
       "2   Goldman Sachs names ‘directors’ cut’ convictio...   2 Hours Ago   \n",
       "3   U.S. House committee flags MSCI, BlackRock for...   2 Hours Ago   \n",
       "4   Ukraine has tested its allies' patience with i...   2 Hours Ago   \n",
       "5   How to potect your money in the UK's mortgage ...   2 Hours Ago   \n",
       "6   Bank of England's next move divides economists...   2 Hours Ago   \n",
       "7   Bank of Japan douses hopes that policy tweak m...   2 Hours Ago   \n",
       "8   CNBC's top 200 global fintech companies: The c...   3 Hours Ago   \n",
       "9   From banking giants to lending up-and-comers —...   3 Hours Ago   \n",
       "10  Are Saudi Arabia and Turkey the new peace brok...   5 Hours Ago   \n",
       "11  One tech fund manager has outperformed for 10 ...   5 Hours Ago   \n",
       "12  India's rice export ban to hurt millions. Thes...   6 Hours Ago   \n",
       "13  Report: Russian forces carried out grisly war ...   6 Hours Ago   \n",
       "14  Pioneer delivers strong quarterly results — bu...   7 Hours Ago   \n",
       "15  Pinterest CEO on user growth: 'Gen Z is our fa...   7 Hours Ago   \n",
       "16  China turns to rural tourism and smart applian...   7 Hours Ago   \n",
       "17  We expected more from Starbucks, but remain be...   7 Hours Ago   \n",
       "18  Wall Street looks past AMD's light guide, lead...   7 Hours Ago   \n",
       "19    CNBC Daily Open: Market bears refuse to concede   7 Hours Ago   \n",
       "20  Want to play the EV boom? Citi names 4 top bat...   7 Hours Ago   \n",
       "21  Here’s where to invest $100,000 right now, acc...   8 Hours Ago   \n",
       "22  Cramer's Lightning Round: Verizon is 'going no...   8 Hours Ago   \n",
       "23  Nikkei leads losses in Asia and falls over 2%;...   8 Hours Ago   \n",
       "24  Cramer breaks down July's top 15 stocks in the...   8 Hours Ago   \n",
       "25  Uber shares dip after mixed second-quarter res...   9 Hours Ago   \n",
       "26  Stock futures fall after Fitch downgrades U.S....  10 Hours Ago   \n",
       "27  Fitch downgrades U.S. long-term rating to AA+ ...  10 Hours Ago   \n",
       "28  Stocks making the biggest moves after hours: S...  10 Hours Ago   \n",
       "29  Trump sought to  ‘exploit the violence and cha...  11 Hours Ago   \n",
       "\n",
       "                                                Links  \n",
       "0   https://www.cnbc.com/2023/08/02/stock-markets-...  \n",
       "1   https://www.cnbc.com/2023/08/02/european-marke...  \n",
       "2   https://www.cnbc.com/2023/08/02/goldman-sachs-...  \n",
       "3   https://www.cnbc.com/2023/08/02/us-house-commi...  \n",
       "4   https://www.cnbc.com/2023/08/02/ukraines-milit...  \n",
       "5   https://www.cnbc.com/2023/08/02/uk-mortgage-cr...  \n",
       "6   https://www.cnbc.com/2023/08/02/bank-of-englan...  \n",
       "7   https://www.cnbc.com/2023/08/02/boj-ycc-pushba...  \n",
       "8   https://www.cnbc.com/2023/08/02/cnbcs-top-200-...  \n",
       "9   https://www.cnbc.com/2023/08/02/here-are-the-w...  \n",
       "10  https://www.cnbc.com/2023/08/02/saudi-arabia-a...  \n",
       "11  https://www.cnbc.com/2023/08/02/tech-fund-mana...  \n",
       "12  https://www.cnbc.com/2023/08/02/indias-rice-ex...  \n",
       "13  https://www.cnbc.com/2023/08/01/report-russian...  \n",
       "14  https://www.cnbc.com/2023/08/01/pioneer-delive...  \n",
       "15  https://www.cnbc.com/2023/08/01/pinterest-ceo-...  \n",
       "16  https://www.cnbc.com/2023/08/02/china-turns-to...  \n",
       "17  https://www.cnbc.com/2023/08/01/we-expected-mo...  \n",
       "18  https://www.cnbc.com/2023/08/01/wall-street-lo...  \n",
       "19  https://www.cnbc.com/2023/08/02/stock-markets-...  \n",
       "20  https://www.cnbc.com/2023/08/02/want-to-play-t...  \n",
       "21  https://www.cnbc.com/2023/08/02/heres-where-to...  \n",
       "22  https://www.cnbc.com/2023/08/01/cramers-lightn...  \n",
       "23  https://www.cnbc.com/2023/08/02/asia-markets-p...  \n",
       "24  https://www.cnbc.com/2023/08/01/cramer-breaks-...  \n",
       "25  https://www.cnbc.com/2023/08/01/uber-shares-di...  \n",
       "26  https://www.cnbc.com/2023/08/01/stock-market-t...  \n",
       "27  https://www.cnbc.com/2023/08/01/fitch-downgrad...  \n",
       "28  https://www.cnbc.com/2023/08/01/stocks-making-...  \n",
       "29  https://www.cnbc.com/2023/08/01/trump-indictme...  "
      ]
     },
     "execution_count": 113,
     "metadata": {},
     "output_type": "execute_result"
    }
   ],
   "source": [
    "import pandas as pd\n",
    "df4=pd.DataFrame({'Head_news':hn,'timeofnews':times,'Links':links})\n",
    "df4"
   ]
  },
  {
   "cell_type": "markdown",
   "id": "10ab1f40",
   "metadata": {},
   "source": [
    "# Write a python program to scrape the details of most downloaded articles from AI in last 90\n",
    "days.https://www.journals.elsevier.com/artificial-intelligence/most-downloaded-articles\n",
    "Scrape below mentioned details and make data framei) Paper Title\n",
    "ii) Authors\n",
    "iii) Published Date\n",
    "iv) Paper URL"
   ]
  },
  {
   "cell_type": "code",
   "execution_count": 32,
   "id": "a8f63d2e",
   "metadata": {},
   "outputs": [],
   "source": [
    "from bs4 import BeautifulSoup\n",
    "import requests\n",
    "pg5=requests.get(\"https://www.journals.elsevier.com/artificial-intelligence/most-downloaded-articles\")\n"
   ]
  },
  {
   "cell_type": "code",
   "execution_count": 33,
   "id": "b96ed640",
   "metadata": {},
   "outputs": [
    {
     "data": {
      "text/plain": [
       "<Response [200]>"
      ]
     },
     "execution_count": 33,
     "metadata": {},
     "output_type": "execute_result"
    }
   ],
   "source": [
    "pg5\n"
   ]
  },
  {
   "cell_type": "code",
   "execution_count": 34,
   "id": "09cd9553",
   "metadata": {},
   "outputs": [],
   "source": [
    "soupart=BeautifulSoup(pg5.text,'html.parser')"
   ]
  },
  {
   "cell_type": "code",
   "execution_count": 36,
   "id": "53e0936b",
   "metadata": {},
   "outputs": [
    {
     "data": {
      "text/plain": [
       "'Reward is enough'"
      ]
     },
     "execution_count": 36,
     "metadata": {},
     "output_type": "execute_result"
    }
   ],
   "source": [
    "tit=soupart.find('h2', class_=\"sc-1qrq3sd-1 gRGSUS sc-1nmom32-0 sc-1nmom32-1 btcbYu goSKRg\")\n",
    "tit.text"
   ]
  },
  {
   "cell_type": "code",
   "execution_count": 37,
   "id": "72a75b70",
   "metadata": {},
   "outputs": [],
   "source": [
    "title=[]\n",
    "for i in soupart.find_all('h2', class_=\"sc-1qrq3sd-1 gRGSUS sc-1nmom32-0 sc-1nmom32-1 btcbYu goSKRg\"):\n",
    "    title.append(i.text)\n",
    "    title"
   ]
  },
  {
   "cell_type": "code",
   "execution_count": 38,
   "id": "059e4e04",
   "metadata": {},
   "outputs": [
    {
     "data": {
      "text/plain": [
       "['Reward is enough',\n",
       " 'Explanation in artificial intelligence: Insights from the social sciences',\n",
       " 'Creativity and artificial intelligence',\n",
       " 'Conflict-based search for optimal multi-agent pathfinding',\n",
       " 'Knowledge graphs as tools for explainable machine learning: A survey',\n",
       " 'Law and logic: A review from an argumentation perspective',\n",
       " 'Between MDPs and semi-MDPs: A framework for temporal abstraction in reinforcement learning',\n",
       " 'Explaining individual predictions when features are dependent: More accurate approximations to Shapley values',\n",
       " 'Multiple object tracking: A literature review',\n",
       " 'A survey of inverse reinforcement learning: Challenges, methods and progress',\n",
       " 'Evaluating XAI: A comparison of rule-based and example-based explanations',\n",
       " 'Explainable AI tools for legal reasoning about cases: A study on the European Court of Human Rights',\n",
       " 'Hard choices in artificial intelligence',\n",
       " 'Assessing the communication gap between AI models and healthcare professionals: Explainability, utility and trust in AI-driven clinical decision-making',\n",
       " 'Explaining black-box classifiers using post-hoc explanations-by-example: The effect of explanations and error-rates in XAI user studies',\n",
       " 'The Hanabi challenge: A new frontier for AI research',\n",
       " 'Wrappers for feature subset selection',\n",
       " 'Artificial cognition for social human–robot interaction: An implementation',\n",
       " 'A review of possible effects of cognitive biases on interpretation of rule-based machine learning models',\n",
       " 'The multifaceted impact of Ada Lovelace in the digital age',\n",
       " 'Robot ethics: Mapping the issues for a mechanized world',\n",
       " 'Reward (Mis)design for autonomous driving',\n",
       " 'Planning and acting in partially observable stochastic domains',\n",
       " 'What do we want from Explainable Artificial Intelligence (XAI)? – A stakeholder perspective on XAI and a conceptual model guiding interdisciplinary XAI research']"
      ]
     },
     "execution_count": 38,
     "metadata": {},
     "output_type": "execute_result"
    }
   ],
   "source": [
    "title"
   ]
  },
  {
   "cell_type": "code",
   "execution_count": 39,
   "id": "e042b09a",
   "metadata": {},
   "outputs": [
    {
     "data": {
      "text/plain": [
       "'David Silver, Satinder Singh, Doina Precup, Richard S. Sutton '"
      ]
     },
     "execution_count": 39,
     "metadata": {},
     "output_type": "execute_result"
    }
   ],
   "source": [
    "aut=soupart.find('span',class_=\"sc-1w3fpd7-0 dnCnAO\")\n",
    "aut.text"
   ]
  },
  {
   "cell_type": "code",
   "execution_count": 40,
   "id": "45384b3d",
   "metadata": {},
   "outputs": [],
   "source": [
    "author=[]\n",
    "for i in soupart.find_all('span',class_=\"sc-1w3fpd7-0 dnCnAO\"):\n",
    "    author.append(i.text)\n",
    "    author"
   ]
  },
  {
   "cell_type": "code",
   "execution_count": 41,
   "id": "3bdcd432",
   "metadata": {},
   "outputs": [
    {
     "data": {
      "text/plain": [
       "['David Silver, Satinder Singh, Doina Precup, Richard S. Sutton ',\n",
       " 'Tim Miller ',\n",
       " 'Margaret A. Boden ',\n",
       " 'Guni Sharon, Roni Stern, Ariel Felner, Nathan R. Sturtevant ',\n",
       " 'Ilaria Tiddi, Stefan Schlobach ',\n",
       " 'Henry Prakken, Giovanni Sartor ',\n",
       " 'Richard S. Sutton, Doina Precup, Satinder Singh ',\n",
       " 'Kjersti Aas, Martin Jullum, Anders Løland ',\n",
       " 'Wenhan Luo, Junliang Xing and 4 more',\n",
       " 'Saurabh Arora, Prashant Doshi ',\n",
       " 'Jasper van der Waa, Elisabeth Nieuwburg, Anita Cremers, Mark Neerincx ',\n",
       " 'Joe Collenette, Katie Atkinson, Trevor Bench-Capon ',\n",
       " 'Roel Dobbe, Thomas Krendl Gilbert, Yonatan Mintz ',\n",
       " 'Oskar Wysocki, Jessica Katharine Davies and 5 more',\n",
       " 'Eoin M. Kenny, Courtney Ford, Molly Quinn, Mark T. Keane ',\n",
       " 'Nolan Bard, Jakob N. Foerster and 13 more',\n",
       " 'Ron Kohavi, George H. John ',\n",
       " 'Séverin Lemaignan, Mathieu Warnier and 3 more',\n",
       " 'Tomáš Kliegr, Štěpán Bahník, Johannes Fürnkranz ',\n",
       " 'Luigia Carlucci Aiello ',\n",
       " 'Patrick Lin, Keith Abney, George Bekey ',\n",
       " 'W. Bradley Knox, Alessandro Allievi and 3 more',\n",
       " 'Leslie Pack Kaelbling, Michael L. Littman, Anthony R. Cassandra ',\n",
       " 'Markus Langer, Daniel Oster and 6 more']"
      ]
     },
     "execution_count": 41,
     "metadata": {},
     "output_type": "execute_result"
    }
   ],
   "source": [
    "author"
   ]
  },
  {
   "cell_type": "code",
   "execution_count": 42,
   "id": "715a2d04",
   "metadata": {},
   "outputs": [
    {
     "data": {
      "text/plain": [
       "'October 2021'"
      ]
     },
     "execution_count": 42,
     "metadata": {},
     "output_type": "execute_result"
    }
   ],
   "source": [
    "pd=soupart.find('span',class_=\"sc-1thf9ly-2 dvggWt\")\n",
    "pd.text"
   ]
  },
  {
   "cell_type": "code",
   "execution_count": 43,
   "id": "822d8629",
   "metadata": {},
   "outputs": [],
   "source": [
    "pubdate=[]\n",
    "for i in soupart.find_all('span',class_=\"sc-1thf9ly-2 dvggWt\"):\n",
    "    pubdate.append(i.text)\n",
    "    pubdate\n"
   ]
  },
  {
   "cell_type": "code",
   "execution_count": 44,
   "id": "2c375c4d",
   "metadata": {},
   "outputs": [
    {
     "data": {
      "text/plain": [
       "['October 2021',\n",
       " 'February 2019',\n",
       " 'August 1998',\n",
       " 'February 2015',\n",
       " 'January 2022',\n",
       " 'October 2015',\n",
       " 'August 1999',\n",
       " 'September 2021',\n",
       " 'April 2021',\n",
       " 'August 2021',\n",
       " 'February 2021',\n",
       " 'April 2023',\n",
       " 'November 2021',\n",
       " 'March 2023',\n",
       " 'May 2021',\n",
       " 'March 2020',\n",
       " 'December 1997',\n",
       " 'June 2017',\n",
       " 'June 2021',\n",
       " 'June 2016',\n",
       " 'April 2011',\n",
       " 'March 2023',\n",
       " 'May 1998',\n",
       " 'July 2021']"
      ]
     },
     "execution_count": 44,
     "metadata": {},
     "output_type": "execute_result"
    }
   ],
   "source": [
    "pubdate"
   ]
  },
  {
   "cell_type": "code",
   "execution_count": 46,
   "id": "f3a9d840",
   "metadata": {},
   "outputs": [
    {
     "name": "stdout",
     "output_type": "stream",
     "text": [
      "24 24 24\n"
     ]
    }
   ],
   "source": [
    "print(len(title),len(author),len(pubdate))"
   ]
  },
  {
   "cell_type": "code",
   "execution_count": 47,
   "id": "29cefe05",
   "metadata": {},
   "outputs": [
    {
     "data": {
      "text/html": [
       "<div>\n",
       "<style scoped>\n",
       "    .dataframe tbody tr th:only-of-type {\n",
       "        vertical-align: middle;\n",
       "    }\n",
       "\n",
       "    .dataframe tbody tr th {\n",
       "        vertical-align: top;\n",
       "    }\n",
       "\n",
       "    .dataframe thead th {\n",
       "        text-align: right;\n",
       "    }\n",
       "</style>\n",
       "<table border=\"1\" class=\"dataframe\">\n",
       "  <thead>\n",
       "    <tr style=\"text-align: right;\">\n",
       "      <th></th>\n",
       "      <th>Paper_tiltle</th>\n",
       "      <th>Authors</th>\n",
       "      <th>publised_date</th>\n",
       "    </tr>\n",
       "  </thead>\n",
       "  <tbody>\n",
       "    <tr>\n",
       "      <th>0</th>\n",
       "      <td>Reward is enough</td>\n",
       "      <td>David Silver, Satinder Singh, Doina Precup, Ri...</td>\n",
       "      <td>October 2021</td>\n",
       "    </tr>\n",
       "    <tr>\n",
       "      <th>1</th>\n",
       "      <td>Explanation in artificial intelligence: Insigh...</td>\n",
       "      <td>Tim Miller</td>\n",
       "      <td>February 2019</td>\n",
       "    </tr>\n",
       "    <tr>\n",
       "      <th>2</th>\n",
       "      <td>Creativity and artificial intelligence</td>\n",
       "      <td>Margaret A. Boden</td>\n",
       "      <td>August 1998</td>\n",
       "    </tr>\n",
       "    <tr>\n",
       "      <th>3</th>\n",
       "      <td>Conflict-based search for optimal multi-agent ...</td>\n",
       "      <td>Guni Sharon, Roni Stern, Ariel Felner, Nathan ...</td>\n",
       "      <td>February 2015</td>\n",
       "    </tr>\n",
       "    <tr>\n",
       "      <th>4</th>\n",
       "      <td>Knowledge graphs as tools for explainable mach...</td>\n",
       "      <td>Ilaria Tiddi, Stefan Schlobach</td>\n",
       "      <td>January 2022</td>\n",
       "    </tr>\n",
       "    <tr>\n",
       "      <th>5</th>\n",
       "      <td>Law and logic: A review from an argumentation ...</td>\n",
       "      <td>Henry Prakken, Giovanni Sartor</td>\n",
       "      <td>October 2015</td>\n",
       "    </tr>\n",
       "    <tr>\n",
       "      <th>6</th>\n",
       "      <td>Between MDPs and semi-MDPs: A framework for te...</td>\n",
       "      <td>Richard S. Sutton, Doina Precup, Satinder Singh</td>\n",
       "      <td>August 1999</td>\n",
       "    </tr>\n",
       "    <tr>\n",
       "      <th>7</th>\n",
       "      <td>Explaining individual predictions when feature...</td>\n",
       "      <td>Kjersti Aas, Martin Jullum, Anders Løland</td>\n",
       "      <td>September 2021</td>\n",
       "    </tr>\n",
       "    <tr>\n",
       "      <th>8</th>\n",
       "      <td>Multiple object tracking: A literature review</td>\n",
       "      <td>Wenhan Luo, Junliang Xing and 4 more</td>\n",
       "      <td>April 2021</td>\n",
       "    </tr>\n",
       "    <tr>\n",
       "      <th>9</th>\n",
       "      <td>A survey of inverse reinforcement learning: Ch...</td>\n",
       "      <td>Saurabh Arora, Prashant Doshi</td>\n",
       "      <td>August 2021</td>\n",
       "    </tr>\n",
       "    <tr>\n",
       "      <th>10</th>\n",
       "      <td>Evaluating XAI: A comparison of rule-based and...</td>\n",
       "      <td>Jasper van der Waa, Elisabeth Nieuwburg, Anita...</td>\n",
       "      <td>February 2021</td>\n",
       "    </tr>\n",
       "    <tr>\n",
       "      <th>11</th>\n",
       "      <td>Explainable AI tools for legal reasoning about...</td>\n",
       "      <td>Joe Collenette, Katie Atkinson, Trevor Bench-C...</td>\n",
       "      <td>April 2023</td>\n",
       "    </tr>\n",
       "    <tr>\n",
       "      <th>12</th>\n",
       "      <td>Hard choices in artificial intelligence</td>\n",
       "      <td>Roel Dobbe, Thomas Krendl Gilbert, Yonatan Mintz</td>\n",
       "      <td>November 2021</td>\n",
       "    </tr>\n",
       "    <tr>\n",
       "      <th>13</th>\n",
       "      <td>Assessing the communication gap between AI mod...</td>\n",
       "      <td>Oskar Wysocki, Jessica Katharine Davies and 5 ...</td>\n",
       "      <td>March 2023</td>\n",
       "    </tr>\n",
       "    <tr>\n",
       "      <th>14</th>\n",
       "      <td>Explaining black-box classifiers using post-ho...</td>\n",
       "      <td>Eoin M. Kenny, Courtney Ford, Molly Quinn, Mar...</td>\n",
       "      <td>May 2021</td>\n",
       "    </tr>\n",
       "    <tr>\n",
       "      <th>15</th>\n",
       "      <td>The Hanabi challenge: A new frontier for AI re...</td>\n",
       "      <td>Nolan Bard, Jakob N. Foerster and 13 more</td>\n",
       "      <td>March 2020</td>\n",
       "    </tr>\n",
       "    <tr>\n",
       "      <th>16</th>\n",
       "      <td>Wrappers for feature subset selection</td>\n",
       "      <td>Ron Kohavi, George H. John</td>\n",
       "      <td>December 1997</td>\n",
       "    </tr>\n",
       "    <tr>\n",
       "      <th>17</th>\n",
       "      <td>Artificial cognition for social human–robot in...</td>\n",
       "      <td>Séverin Lemaignan, Mathieu Warnier and 3 more</td>\n",
       "      <td>June 2017</td>\n",
       "    </tr>\n",
       "    <tr>\n",
       "      <th>18</th>\n",
       "      <td>A review of possible effects of cognitive bias...</td>\n",
       "      <td>Tomáš Kliegr, Štěpán Bahník, Johannes Fürnkranz</td>\n",
       "      <td>June 2021</td>\n",
       "    </tr>\n",
       "    <tr>\n",
       "      <th>19</th>\n",
       "      <td>The multifaceted impact of Ada Lovelace in the...</td>\n",
       "      <td>Luigia Carlucci Aiello</td>\n",
       "      <td>June 2016</td>\n",
       "    </tr>\n",
       "    <tr>\n",
       "      <th>20</th>\n",
       "      <td>Robot ethics: Mapping the issues for a mechani...</td>\n",
       "      <td>Patrick Lin, Keith Abney, George Bekey</td>\n",
       "      <td>April 2011</td>\n",
       "    </tr>\n",
       "    <tr>\n",
       "      <th>21</th>\n",
       "      <td>Reward (Mis)design for autonomous driving</td>\n",
       "      <td>W. Bradley Knox, Alessandro Allievi and 3 more</td>\n",
       "      <td>March 2023</td>\n",
       "    </tr>\n",
       "    <tr>\n",
       "      <th>22</th>\n",
       "      <td>Planning and acting in partially observable st...</td>\n",
       "      <td>Leslie Pack Kaelbling, Michael L. Littman, Ant...</td>\n",
       "      <td>May 1998</td>\n",
       "    </tr>\n",
       "    <tr>\n",
       "      <th>23</th>\n",
       "      <td>What do we want from Explainable Artificial In...</td>\n",
       "      <td>Markus Langer, Daniel Oster and 6 more</td>\n",
       "      <td>July 2021</td>\n",
       "    </tr>\n",
       "  </tbody>\n",
       "</table>\n",
       "</div>"
      ],
      "text/plain": [
       "                                         Paper_tiltle  \\\n",
       "0                                    Reward is enough   \n",
       "1   Explanation in artificial intelligence: Insigh...   \n",
       "2              Creativity and artificial intelligence   \n",
       "3   Conflict-based search for optimal multi-agent ...   \n",
       "4   Knowledge graphs as tools for explainable mach...   \n",
       "5   Law and logic: A review from an argumentation ...   \n",
       "6   Between MDPs and semi-MDPs: A framework for te...   \n",
       "7   Explaining individual predictions when feature...   \n",
       "8       Multiple object tracking: A literature review   \n",
       "9   A survey of inverse reinforcement learning: Ch...   \n",
       "10  Evaluating XAI: A comparison of rule-based and...   \n",
       "11  Explainable AI tools for legal reasoning about...   \n",
       "12            Hard choices in artificial intelligence   \n",
       "13  Assessing the communication gap between AI mod...   \n",
       "14  Explaining black-box classifiers using post-ho...   \n",
       "15  The Hanabi challenge: A new frontier for AI re...   \n",
       "16              Wrappers for feature subset selection   \n",
       "17  Artificial cognition for social human–robot in...   \n",
       "18  A review of possible effects of cognitive bias...   \n",
       "19  The multifaceted impact of Ada Lovelace in the...   \n",
       "20  Robot ethics: Mapping the issues for a mechani...   \n",
       "21          Reward (Mis)design for autonomous driving   \n",
       "22  Planning and acting in partially observable st...   \n",
       "23  What do we want from Explainable Artificial In...   \n",
       "\n",
       "                                              Authors   publised_date  \n",
       "0   David Silver, Satinder Singh, Doina Precup, Ri...    October 2021  \n",
       "1                                         Tim Miller    February 2019  \n",
       "2                                  Margaret A. Boden      August 1998  \n",
       "3   Guni Sharon, Roni Stern, Ariel Felner, Nathan ...   February 2015  \n",
       "4                     Ilaria Tiddi, Stefan Schlobach     January 2022  \n",
       "5                     Henry Prakken, Giovanni Sartor     October 2015  \n",
       "6    Richard S. Sutton, Doina Precup, Satinder Singh      August 1999  \n",
       "7          Kjersti Aas, Martin Jullum, Anders Løland   September 2021  \n",
       "8                Wenhan Luo, Junliang Xing and 4 more      April 2021  \n",
       "9                      Saurabh Arora, Prashant Doshi      August 2021  \n",
       "10  Jasper van der Waa, Elisabeth Nieuwburg, Anita...   February 2021  \n",
       "11  Joe Collenette, Katie Atkinson, Trevor Bench-C...      April 2023  \n",
       "12  Roel Dobbe, Thomas Krendl Gilbert, Yonatan Mintz    November 2021  \n",
       "13  Oskar Wysocki, Jessica Katharine Davies and 5 ...      March 2023  \n",
       "14  Eoin M. Kenny, Courtney Ford, Molly Quinn, Mar...        May 2021  \n",
       "15          Nolan Bard, Jakob N. Foerster and 13 more      March 2020  \n",
       "16                        Ron Kohavi, George H. John    December 1997  \n",
       "17      Séverin Lemaignan, Mathieu Warnier and 3 more       June 2017  \n",
       "18   Tomáš Kliegr, Štěpán Bahník, Johannes Fürnkranz        June 2021  \n",
       "19                            Luigia Carlucci Aiello        June 2016  \n",
       "20            Patrick Lin, Keith Abney, George Bekey       April 2011  \n",
       "21     W. Bradley Knox, Alessandro Allievi and 3 more      March 2023  \n",
       "22  Leslie Pack Kaelbling, Michael L. Littman, Ant...        May 1998  \n",
       "23             Markus Langer, Daniel Oster and 6 more       July 2021  "
      ]
     },
     "execution_count": 47,
     "metadata": {},
     "output_type": "execute_result"
    }
   ],
   "source": [
    "import pandas as pd\n",
    "df5=pd.DataFrame({'Paper_tiltle':title,'Authors':author,'publised_date':pubdate})\n",
    "df5"
   ]
  },
  {
   "cell_type": "markdown",
   "id": "482bfc31",
   "metadata": {},
   "source": [
    "# Write a python program to scrape mentioned details from dineout.co.in and make data frame-\n",
    "i) Restaurant name\n",
    "ii) Cuisine\n",
    "iii) Location\n",
    "iv) Ratings\n",
    "v) Image URL"
   ]
  },
  {
   "cell_type": "code",
   "execution_count": 114,
   "id": "0b74a5fd",
   "metadata": {},
   "outputs": [],
   "source": [
    "from bs4 import BeautifulSoup\n",
    "import requests\n"
   ]
  },
  {
   "cell_type": "code",
   "execution_count": 115,
   "id": "a61240f6",
   "metadata": {},
   "outputs": [],
   "source": [
    "pg6=requests.get(\"https://www.dineout.co.in/delhi-restaurants?search_str=delhi\")"
   ]
  },
  {
   "cell_type": "code",
   "execution_count": 116,
   "id": "419dad3c",
   "metadata": {},
   "outputs": [
    {
     "data": {
      "text/plain": [
       "<Response [200]>"
      ]
     },
     "execution_count": 116,
     "metadata": {},
     "output_type": "execute_result"
    }
   ],
   "source": [
    "pg6"
   ]
  },
  {
   "cell_type": "code",
   "execution_count": 1,
   "id": "65e8d744",
   "metadata": {},
   "outputs": [],
   "source": [
    "soup_1=BeautifulSoup(pg6.content)\n",
    "#soup_1\n"
   ]
  },
  {
   "cell_type": "code",
   "execution_count": 118,
   "id": "03320dfc",
   "metadata": {},
   "outputs": [],
   "source": [
    "soupdine=BeautifulSoup(pg6.text,'html.parser')"
   ]
  },
  {
   "cell_type": "code",
   "execution_count": 145,
   "id": "726fca8a",
   "metadata": {},
   "outputs": [],
   "source": [
    "###to scrap the restarent names\n",
    "rnames=[]\n",
    "\n",
    "for i in soupdine.find_all('div',class_=\"restnt-info cursor\"):\n",
    "    rnames.append(i.text.split(',')[0])\n",
    "    "
   ]
  },
  {
   "cell_type": "code",
   "execution_count": 146,
   "id": "d1ece0aa",
   "metadata": {},
   "outputs": [
    {
     "data": {
      "text/plain": [
       "['TamashaConnaught Place',\n",
       " 'LocalScindia House',\n",
       " 'Connaught Club HouseConnaught Place',\n",
       " 'Cafe Delhi HeightsJanpath',\n",
       " 'Ministry Of BeerM-Block',\n",
       " 'Station BarF-Block',\n",
       " 'Openhouse CafeConnaught Place',\n",
       " 'Dhaba Estd 1986 DelhiConnaught Place',\n",
       " 'My Bar SquareConnaught Place',\n",
       " 'Warehouse CafeConnaught Place',\n",
       " 'The G.T. RoadM-Block',\n",
       " 'The Junkyard CafeConnaught Place',\n",
       " 'Unplugged CourtyardConnaught Place',\n",
       " \"Berco'sConnaught Place\",\n",
       " 'QBAConnaught Place',\n",
       " '38 BarracksM-Block',\n",
       " 'SandozConnaught Place',\n",
       " 'DasaprakashConnaught Place',\n",
       " 'Ardor 2.1 Restaurant and LoungeConnaught Place',\n",
       " 'ChidoConnaught Place',\n",
       " 'Lord of the DrinksConnaught Place']"
      ]
     },
     "execution_count": 146,
     "metadata": {},
     "output_type": "execute_result"
    }
   ],
   "source": [
    "rnames\n"
   ]
  },
  {
   "cell_type": "code",
   "execution_count": 137,
   "id": "e901513c",
   "metadata": {},
   "outputs": [
    {
     "data": {
      "text/plain": [
       "' Continental, Asian, Italian, North Indian'"
      ]
     },
     "execution_count": 137,
     "metadata": {},
     "output_type": "execute_result"
    }
   ],
   "source": [
    "#scrapping to check the cusine \n",
    "cus=soupdine.find('span',class_=\"double-line-ellipsis\")\n",
    "cus.text.split('|')[1]"
   ]
  },
  {
   "cell_type": "code",
   "execution_count": 139,
   "id": "697b86b5",
   "metadata": {},
   "outputs": [],
   "source": [
    "#scraping to chk all rest cusines\n",
    "cusine=[]\n",
    "for i in soupdine.find_all('span',class_=\"double-line-ellipsis\"):\n",
    "    cusine.append(i.text.split('|')[1])\n",
    "    cusine"
   ]
  },
  {
   "cell_type": "code",
   "execution_count": 140,
   "id": "97e8be14",
   "metadata": {},
   "outputs": [
    {
     "data": {
      "text/plain": [
       "[' Continental, Asian, Italian, North Indian',\n",
       " ' North Indian, Asian, Continental',\n",
       " ' North Indian, Continental, Asian, Chinese',\n",
       " ' Continental, North Indian, Beverages, Chinese, Italian',\n",
       " ' North Indian, Continental, American, Asian',\n",
       " ' Italian, Chinese, North Indian, Fast Food',\n",
       " ' North Indian, Asian, Italian',\n",
       " ' North Indian',\n",
       " ' Finger Food, Chinese, Continental, Italian',\n",
       " ' North Indian, Chinese, Italian',\n",
       " ' North Indian',\n",
       " ' North Indian, Continental, Chinese, Fast Food',\n",
       " ' North Indian, Italian, Chinese, Turkish, Continental',\n",
       " ' Chinese, Thai',\n",
       " ' North Indian, Continental, Italian',\n",
       " ' North Indian, Chinese, Continental',\n",
       " ' North Indian, Continental',\n",
       " ' North Indian, South Indian, Beverages, Chinese, Continental',\n",
       " ' North Indian, Chinese, Italian, Continental',\n",
       " ' North Indian, Italian, Continental, Asian, Finger Food',\n",
       " ' Chinese, North Indian, Fast Food']"
      ]
     },
     "execution_count": 140,
     "metadata": {},
     "output_type": "execute_result"
    }
   ],
   "source": [
    "cusine"
   ]
  },
  {
   "cell_type": "code",
   "execution_count": 141,
   "id": "01fe64a8",
   "metadata": {},
   "outputs": [],
   "source": [
    "#scrap to find ratings\n",
    "rating=[]\n",
    "\n",
    "for i in soupdine.find_all('div',class_=\"restnt-rating rating-4\"):\n",
    "    rating.append(i.text)\n"
   ]
  },
  {
   "cell_type": "code",
   "execution_count": 142,
   "id": "7b182b88",
   "metadata": {},
   "outputs": [
    {
     "data": {
      "text/plain": [
       "['4.2',\n",
       " '4',\n",
       " '4.2',\n",
       " '4.3',\n",
       " '4',\n",
       " '4',\n",
       " '4.1',\n",
       " '4',\n",
       " '3.9',\n",
       " '4.1',\n",
       " '4.3',\n",
       " '4.1',\n",
       " '4',\n",
       " '4.3',\n",
       " '4.2',\n",
       " '4.3',\n",
       " '4',\n",
       " '4.2',\n",
       " '4.1',\n",
       " '4.2',\n",
       " '4.2']"
      ]
     },
     "execution_count": 142,
     "metadata": {},
     "output_type": "execute_result"
    }
   ],
   "source": [
    "rating"
   ]
  },
  {
   "cell_type": "code",
   "execution_count": 147,
   "id": "b8ab14d8",
   "metadata": {},
   "outputs": [],
   "source": [
    "#scrap to find images\n",
    "image=[]\n",
    "\n",
    "for i in soupdine.find_all('img',class_=\"no-img\"):\n",
    "    image.append(i.get('data-src'))\n",
    "    \n",
    "    "
   ]
  },
  {
   "cell_type": "code",
   "execution_count": 148,
   "id": "aecf86a4",
   "metadata": {},
   "outputs": [
    {
     "data": {
      "text/plain": [
       "['https://im1.dineout.co.in/images/uploads/restaurant/sharpen/2/a/j/p20996-145631488756cd9a0796608.jpg?tr=tr:n-medium',\n",
       " 'https://im1.dineout.co.in/images/uploads/restaurant/sharpen/2/b/t/p27452-15020105505986dcb6d147f.jpg?tr=tr:n-medium',\n",
       " 'https://im1.dineout.co.in/images/uploads/restaurant/sharpen/7/c/z/p77626-15833232035e5f98437554f.jpg?tr=tr:n-medium',\n",
       " 'https://im1.dineout.co.in/images/uploads/restaurant/sharpen/3/m/h/p35926-15233509655acc7db5718fb.jpg?tr=tr:n-medium',\n",
       " 'https://im1.dineout.co.in/images/uploads/restaurant/sharpen/3/a/d/p32381-1495943585592a49a166fe7.jpg?tr=tr:n-medium',\n",
       " 'https://im1.dineout.co.in/images/uploads/restaurant/sharpen/9/i/b/p971-165909823762e3d47db6d56.jpg?tr=tr:n-medium',\n",
       " 'https://im1.dineout.co.in/images/uploads/restaurant/sharpen/1/j/y/p19748-16474299906231c96621c58.jpg?tr=tr:n-medium',\n",
       " 'https://im1.dineout.co.in/images/uploads/restaurant/sharpen/9/u/b/p919-150182627559840ce33f574.jpg?tr=tr:n-medium',\n",
       " 'https://im1.dineout.co.in/images/uploads/restaurant/sharpen/1/m/i/p12709-15681189525d7798a8c5aa5.jpg?tr=tr:n-medium',\n",
       " 'https://im1.dineout.co.in/images/uploads/restaurant/sharpen/4/h/o/p420-15241335515ad86eaf373ce.jpg?tr=tr:n-medium',\n",
       " 'https://im1.dineout.co.in/images/uploads/restaurant/sharpen/3/m/u/p31393-15972091555f337a43bb961.jpg?tr=tr:n-medium',\n",
       " 'https://im1.dineout.co.in/images/uploads/restaurant/sharpen/2/s/y/p20298-1664186585633178d99f1db.jpg?tr=tr:n-medium',\n",
       " 'https://im1.dineout.co.in/images/uploads/restaurant/sharpen/2/e/y/p20941-168915645564ae7b673b872.jpg?tr=tr:n-medium',\n",
       " 'https://im1.dineout.co.in/images/uploads/restaurant/sharpen/2/t/u/p237-16468990666229af7a72b08.jpg?tr=tr:n-medium',\n",
       " 'https://im1.dineout.co.in/images/uploads/restaurant/sharpen/2/e/e/p29906-16183962346076c44ac433d.jpg?tr=tr:n-medium',\n",
       " 'https://im1.dineout.co.in/images/uploads/restaurant/sharpen/2/y/j/p21171-166019927162f4a167b10af.jpg?tr=tr:n-medium',\n",
       " 'https://im1.dineout.co.in/images/uploads/restaurant/sharpen/8/e/u/p80493-16064603115fc0a397716de.jpg?tr=tr:n-medium',\n",
       " 'https://im1.dineout.co.in/images/uploads/restaurant/sharpen/9/x/t/p98423-1634644819616eb353a1181.jpg?tr=tr:n-medium',\n",
       " 'https://im1.dineout.co.in/images/uploads/restaurant/sharpen/2/y/m/p221-16455303976214cd1d7a086.jpg?tr=tr:n-medium',\n",
       " 'https://im1.dineout.co.in/images/uploads/restaurant/sharpen/9/q/b/p97184-168717900964904f01ac16b.jpg?tr=tr:n-medium',\n",
       " 'https://im1.dineout.co.in/images/uploads/restaurant/sharpen/1/o/g/p19975-1649416421625018e5d4198.jpg?tr=tr:n-medium']"
      ]
     },
     "execution_count": 148,
     "metadata": {},
     "output_type": "execute_result"
    }
   ],
   "source": [
    "image"
   ]
  },
  {
   "cell_type": "code",
   "execution_count": 150,
   "id": "e53cc311",
   "metadata": {},
   "outputs": [],
   "source": [
    "location=[]\n",
    "\n",
    "for i in soupdine.find_all('div',class_='restnt-loc ellipsis'):\n",
    "                           location.append(i.text)\n",
    "                           "
   ]
  },
  {
   "cell_type": "code",
   "execution_count": 151,
   "id": "71579531",
   "metadata": {},
   "outputs": [
    {
     "data": {
      "text/plain": [
       "['Connaught Place, Central Delhi',\n",
       " 'Scindia House,Connaught Place, Central Delhi',\n",
       " 'Connaught Place, Central Delhi',\n",
       " 'Janpath, Central Delhi',\n",
       " 'M-Block,Connaught Place, Central Delhi',\n",
       " 'F-Block,Connaught Place, Central Delhi',\n",
       " 'Connaught Place, Central Delhi',\n",
       " 'Connaught Place, Central Delhi',\n",
       " 'Connaught Place, Central Delhi',\n",
       " 'Connaught Place, Central Delhi',\n",
       " 'M-Block,Connaught Place, Central Delhi',\n",
       " 'Connaught Place, Central Delhi',\n",
       " 'Connaught Place, Central Delhi',\n",
       " 'Connaught Place, Central Delhi',\n",
       " 'Connaught Place, Central Delhi',\n",
       " 'M-Block,Connaught Place, Central Delhi',\n",
       " 'Connaught Place, Central Delhi',\n",
       " 'Connaught Place, Central Delhi',\n",
       " 'Connaught Place, Central Delhi',\n",
       " 'Connaught Place, Central Delhi',\n",
       " 'Connaught Place, Central Delhi']"
      ]
     },
     "execution_count": 151,
     "metadata": {},
     "output_type": "execute_result"
    }
   ],
   "source": [
    "location"
   ]
  },
  {
   "cell_type": "code",
   "execution_count": 152,
   "id": "93d0abb4",
   "metadata": {},
   "outputs": [],
   "source": [
    "#make dataframes \n",
    "import pandas as pd\n",
    "df=pd.DataFrame({'Restaurant Name':rnames,'Cuisine':cusine,'Location':location,'Rating':rating,'Image_url': image})\n"
   ]
  },
  {
   "cell_type": "code",
   "execution_count": 153,
   "id": "f3ec41c1",
   "metadata": {},
   "outputs": [
    {
     "data": {
      "text/html": [
       "<div>\n",
       "<style scoped>\n",
       "    .dataframe tbody tr th:only-of-type {\n",
       "        vertical-align: middle;\n",
       "    }\n",
       "\n",
       "    .dataframe tbody tr th {\n",
       "        vertical-align: top;\n",
       "    }\n",
       "\n",
       "    .dataframe thead th {\n",
       "        text-align: right;\n",
       "    }\n",
       "</style>\n",
       "<table border=\"1\" class=\"dataframe\">\n",
       "  <thead>\n",
       "    <tr style=\"text-align: right;\">\n",
       "      <th></th>\n",
       "      <th>Restaurant Name</th>\n",
       "      <th>Cuisine</th>\n",
       "      <th>Location</th>\n",
       "      <th>Rating</th>\n",
       "      <th>Image_url</th>\n",
       "    </tr>\n",
       "  </thead>\n",
       "  <tbody>\n",
       "    <tr>\n",
       "      <th>0</th>\n",
       "      <td>TamashaConnaught Place</td>\n",
       "      <td>Continental, Asian, Italian, North Indian</td>\n",
       "      <td>Connaught Place, Central Delhi</td>\n",
       "      <td>4.2</td>\n",
       "      <td>https://im1.dineout.co.in/images/uploads/resta...</td>\n",
       "    </tr>\n",
       "    <tr>\n",
       "      <th>1</th>\n",
       "      <td>LocalScindia House</td>\n",
       "      <td>North Indian, Asian, Continental</td>\n",
       "      <td>Scindia House,Connaught Place, Central Delhi</td>\n",
       "      <td>4</td>\n",
       "      <td>https://im1.dineout.co.in/images/uploads/resta...</td>\n",
       "    </tr>\n",
       "    <tr>\n",
       "      <th>2</th>\n",
       "      <td>Connaught Club HouseConnaught Place</td>\n",
       "      <td>North Indian, Continental, Asian, Chinese</td>\n",
       "      <td>Connaught Place, Central Delhi</td>\n",
       "      <td>4.2</td>\n",
       "      <td>https://im1.dineout.co.in/images/uploads/resta...</td>\n",
       "    </tr>\n",
       "    <tr>\n",
       "      <th>3</th>\n",
       "      <td>Cafe Delhi HeightsJanpath</td>\n",
       "      <td>Continental, North Indian, Beverages, Chinese...</td>\n",
       "      <td>Janpath, Central Delhi</td>\n",
       "      <td>4.3</td>\n",
       "      <td>https://im1.dineout.co.in/images/uploads/resta...</td>\n",
       "    </tr>\n",
       "    <tr>\n",
       "      <th>4</th>\n",
       "      <td>Ministry Of BeerM-Block</td>\n",
       "      <td>North Indian, Continental, American, Asian</td>\n",
       "      <td>M-Block,Connaught Place, Central Delhi</td>\n",
       "      <td>4</td>\n",
       "      <td>https://im1.dineout.co.in/images/uploads/resta...</td>\n",
       "    </tr>\n",
       "    <tr>\n",
       "      <th>5</th>\n",
       "      <td>Station BarF-Block</td>\n",
       "      <td>Italian, Chinese, North Indian, Fast Food</td>\n",
       "      <td>F-Block,Connaught Place, Central Delhi</td>\n",
       "      <td>4</td>\n",
       "      <td>https://im1.dineout.co.in/images/uploads/resta...</td>\n",
       "    </tr>\n",
       "    <tr>\n",
       "      <th>6</th>\n",
       "      <td>Openhouse CafeConnaught Place</td>\n",
       "      <td>North Indian, Asian, Italian</td>\n",
       "      <td>Connaught Place, Central Delhi</td>\n",
       "      <td>4.1</td>\n",
       "      <td>https://im1.dineout.co.in/images/uploads/resta...</td>\n",
       "    </tr>\n",
       "    <tr>\n",
       "      <th>7</th>\n",
       "      <td>Dhaba Estd 1986 DelhiConnaught Place</td>\n",
       "      <td>North Indian</td>\n",
       "      <td>Connaught Place, Central Delhi</td>\n",
       "      <td>4</td>\n",
       "      <td>https://im1.dineout.co.in/images/uploads/resta...</td>\n",
       "    </tr>\n",
       "    <tr>\n",
       "      <th>8</th>\n",
       "      <td>My Bar SquareConnaught Place</td>\n",
       "      <td>Finger Food, Chinese, Continental, Italian</td>\n",
       "      <td>Connaught Place, Central Delhi</td>\n",
       "      <td>3.9</td>\n",
       "      <td>https://im1.dineout.co.in/images/uploads/resta...</td>\n",
       "    </tr>\n",
       "    <tr>\n",
       "      <th>9</th>\n",
       "      <td>Warehouse CafeConnaught Place</td>\n",
       "      <td>North Indian, Chinese, Italian</td>\n",
       "      <td>Connaught Place, Central Delhi</td>\n",
       "      <td>4.1</td>\n",
       "      <td>https://im1.dineout.co.in/images/uploads/resta...</td>\n",
       "    </tr>\n",
       "    <tr>\n",
       "      <th>10</th>\n",
       "      <td>The G.T. RoadM-Block</td>\n",
       "      <td>North Indian</td>\n",
       "      <td>M-Block,Connaught Place, Central Delhi</td>\n",
       "      <td>4.3</td>\n",
       "      <td>https://im1.dineout.co.in/images/uploads/resta...</td>\n",
       "    </tr>\n",
       "    <tr>\n",
       "      <th>11</th>\n",
       "      <td>The Junkyard CafeConnaught Place</td>\n",
       "      <td>North Indian, Continental, Chinese, Fast Food</td>\n",
       "      <td>Connaught Place, Central Delhi</td>\n",
       "      <td>4.1</td>\n",
       "      <td>https://im1.dineout.co.in/images/uploads/resta...</td>\n",
       "    </tr>\n",
       "    <tr>\n",
       "      <th>12</th>\n",
       "      <td>Unplugged CourtyardConnaught Place</td>\n",
       "      <td>North Indian, Italian, Chinese, Turkish, Cont...</td>\n",
       "      <td>Connaught Place, Central Delhi</td>\n",
       "      <td>4</td>\n",
       "      <td>https://im1.dineout.co.in/images/uploads/resta...</td>\n",
       "    </tr>\n",
       "    <tr>\n",
       "      <th>13</th>\n",
       "      <td>Berco'sConnaught Place</td>\n",
       "      <td>Chinese, Thai</td>\n",
       "      <td>Connaught Place, Central Delhi</td>\n",
       "      <td>4.3</td>\n",
       "      <td>https://im1.dineout.co.in/images/uploads/resta...</td>\n",
       "    </tr>\n",
       "    <tr>\n",
       "      <th>14</th>\n",
       "      <td>QBAConnaught Place</td>\n",
       "      <td>North Indian, Continental, Italian</td>\n",
       "      <td>Connaught Place, Central Delhi</td>\n",
       "      <td>4.2</td>\n",
       "      <td>https://im1.dineout.co.in/images/uploads/resta...</td>\n",
       "    </tr>\n",
       "    <tr>\n",
       "      <th>15</th>\n",
       "      <td>38 BarracksM-Block</td>\n",
       "      <td>North Indian, Chinese, Continental</td>\n",
       "      <td>M-Block,Connaught Place, Central Delhi</td>\n",
       "      <td>4.3</td>\n",
       "      <td>https://im1.dineout.co.in/images/uploads/resta...</td>\n",
       "    </tr>\n",
       "    <tr>\n",
       "      <th>16</th>\n",
       "      <td>SandozConnaught Place</td>\n",
       "      <td>North Indian, Continental</td>\n",
       "      <td>Connaught Place, Central Delhi</td>\n",
       "      <td>4</td>\n",
       "      <td>https://im1.dineout.co.in/images/uploads/resta...</td>\n",
       "    </tr>\n",
       "    <tr>\n",
       "      <th>17</th>\n",
       "      <td>DasaprakashConnaught Place</td>\n",
       "      <td>North Indian, South Indian, Beverages, Chines...</td>\n",
       "      <td>Connaught Place, Central Delhi</td>\n",
       "      <td>4.2</td>\n",
       "      <td>https://im1.dineout.co.in/images/uploads/resta...</td>\n",
       "    </tr>\n",
       "    <tr>\n",
       "      <th>18</th>\n",
       "      <td>Ardor 2.1 Restaurant and LoungeConnaught Place</td>\n",
       "      <td>North Indian, Chinese, Italian, Continental</td>\n",
       "      <td>Connaught Place, Central Delhi</td>\n",
       "      <td>4.1</td>\n",
       "      <td>https://im1.dineout.co.in/images/uploads/resta...</td>\n",
       "    </tr>\n",
       "    <tr>\n",
       "      <th>19</th>\n",
       "      <td>ChidoConnaught Place</td>\n",
       "      <td>North Indian, Italian, Continental, Asian, Fi...</td>\n",
       "      <td>Connaught Place, Central Delhi</td>\n",
       "      <td>4.2</td>\n",
       "      <td>https://im1.dineout.co.in/images/uploads/resta...</td>\n",
       "    </tr>\n",
       "    <tr>\n",
       "      <th>20</th>\n",
       "      <td>Lord of the DrinksConnaught Place</td>\n",
       "      <td>Chinese, North Indian, Fast Food</td>\n",
       "      <td>Connaught Place, Central Delhi</td>\n",
       "      <td>4.2</td>\n",
       "      <td>https://im1.dineout.co.in/images/uploads/resta...</td>\n",
       "    </tr>\n",
       "  </tbody>\n",
       "</table>\n",
       "</div>"
      ],
      "text/plain": [
       "                                   Restaurant Name  \\\n",
       "0                           TamashaConnaught Place   \n",
       "1                               LocalScindia House   \n",
       "2              Connaught Club HouseConnaught Place   \n",
       "3                        Cafe Delhi HeightsJanpath   \n",
       "4                          Ministry Of BeerM-Block   \n",
       "5                               Station BarF-Block   \n",
       "6                    Openhouse CafeConnaught Place   \n",
       "7             Dhaba Estd 1986 DelhiConnaught Place   \n",
       "8                     My Bar SquareConnaught Place   \n",
       "9                    Warehouse CafeConnaught Place   \n",
       "10                            The G.T. RoadM-Block   \n",
       "11                The Junkyard CafeConnaught Place   \n",
       "12              Unplugged CourtyardConnaught Place   \n",
       "13                          Berco'sConnaught Place   \n",
       "14                              QBAConnaught Place   \n",
       "15                              38 BarracksM-Block   \n",
       "16                           SandozConnaught Place   \n",
       "17                      DasaprakashConnaught Place   \n",
       "18  Ardor 2.1 Restaurant and LoungeConnaught Place   \n",
       "19                            ChidoConnaught Place   \n",
       "20               Lord of the DrinksConnaught Place   \n",
       "\n",
       "                                              Cuisine  \\\n",
       "0           Continental, Asian, Italian, North Indian   \n",
       "1                    North Indian, Asian, Continental   \n",
       "2           North Indian, Continental, Asian, Chinese   \n",
       "3    Continental, North Indian, Beverages, Chinese...   \n",
       "4          North Indian, Continental, American, Asian   \n",
       "5           Italian, Chinese, North Indian, Fast Food   \n",
       "6                        North Indian, Asian, Italian   \n",
       "7                                        North Indian   \n",
       "8          Finger Food, Chinese, Continental, Italian   \n",
       "9                      North Indian, Chinese, Italian   \n",
       "10                                       North Indian   \n",
       "11      North Indian, Continental, Chinese, Fast Food   \n",
       "12   North Indian, Italian, Chinese, Turkish, Cont...   \n",
       "13                                      Chinese, Thai   \n",
       "14                 North Indian, Continental, Italian   \n",
       "15                 North Indian, Chinese, Continental   \n",
       "16                          North Indian, Continental   \n",
       "17   North Indian, South Indian, Beverages, Chines...   \n",
       "18        North Indian, Chinese, Italian, Continental   \n",
       "19   North Indian, Italian, Continental, Asian, Fi...   \n",
       "20                   Chinese, North Indian, Fast Food   \n",
       "\n",
       "                                        Location Rating  \\\n",
       "0                 Connaught Place, Central Delhi    4.2   \n",
       "1   Scindia House,Connaught Place, Central Delhi      4   \n",
       "2                 Connaught Place, Central Delhi    4.2   \n",
       "3                         Janpath, Central Delhi    4.3   \n",
       "4         M-Block,Connaught Place, Central Delhi      4   \n",
       "5         F-Block,Connaught Place, Central Delhi      4   \n",
       "6                 Connaught Place, Central Delhi    4.1   \n",
       "7                 Connaught Place, Central Delhi      4   \n",
       "8                 Connaught Place, Central Delhi    3.9   \n",
       "9                 Connaught Place, Central Delhi    4.1   \n",
       "10        M-Block,Connaught Place, Central Delhi    4.3   \n",
       "11                Connaught Place, Central Delhi    4.1   \n",
       "12                Connaught Place, Central Delhi      4   \n",
       "13                Connaught Place, Central Delhi    4.3   \n",
       "14                Connaught Place, Central Delhi    4.2   \n",
       "15        M-Block,Connaught Place, Central Delhi    4.3   \n",
       "16                Connaught Place, Central Delhi      4   \n",
       "17                Connaught Place, Central Delhi    4.2   \n",
       "18                Connaught Place, Central Delhi    4.1   \n",
       "19                Connaught Place, Central Delhi    4.2   \n",
       "20                Connaught Place, Central Delhi    4.2   \n",
       "\n",
       "                                            Image_url  \n",
       "0   https://im1.dineout.co.in/images/uploads/resta...  \n",
       "1   https://im1.dineout.co.in/images/uploads/resta...  \n",
       "2   https://im1.dineout.co.in/images/uploads/resta...  \n",
       "3   https://im1.dineout.co.in/images/uploads/resta...  \n",
       "4   https://im1.dineout.co.in/images/uploads/resta...  \n",
       "5   https://im1.dineout.co.in/images/uploads/resta...  \n",
       "6   https://im1.dineout.co.in/images/uploads/resta...  \n",
       "7   https://im1.dineout.co.in/images/uploads/resta...  \n",
       "8   https://im1.dineout.co.in/images/uploads/resta...  \n",
       "9   https://im1.dineout.co.in/images/uploads/resta...  \n",
       "10  https://im1.dineout.co.in/images/uploads/resta...  \n",
       "11  https://im1.dineout.co.in/images/uploads/resta...  \n",
       "12  https://im1.dineout.co.in/images/uploads/resta...  \n",
       "13  https://im1.dineout.co.in/images/uploads/resta...  \n",
       "14  https://im1.dineout.co.in/images/uploads/resta...  \n",
       "15  https://im1.dineout.co.in/images/uploads/resta...  \n",
       "16  https://im1.dineout.co.in/images/uploads/resta...  \n",
       "17  https://im1.dineout.co.in/images/uploads/resta...  \n",
       "18  https://im1.dineout.co.in/images/uploads/resta...  \n",
       "19  https://im1.dineout.co.in/images/uploads/resta...  \n",
       "20  https://im1.dineout.co.in/images/uploads/resta...  "
      ]
     },
     "execution_count": 153,
     "metadata": {},
     "output_type": "execute_result"
    }
   ],
   "source": [
    "df"
   ]
  },
  {
   "cell_type": "code",
   "execution_count": null,
   "id": "e5d66162",
   "metadata": {},
   "outputs": [],
   "source": []
  }
 ],
 "metadata": {
  "kernelspec": {
   "display_name": "Python 3 (ipykernel)",
   "language": "python",
   "name": "python3"
  },
  "language_info": {
   "codemirror_mode": {
    "name": "ipython",
    "version": 3
   },
   "file_extension": ".py",
   "mimetype": "text/x-python",
   "name": "python",
   "nbconvert_exporter": "python",
   "pygments_lexer": "ipython3",
   "version": "3.9.13"
  }
 },
 "nbformat": 4,
 "nbformat_minor": 5
}
