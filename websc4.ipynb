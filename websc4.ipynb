{
 "cells": [
  {
   "cell_type": "code",
   "execution_count": 1,
   "id": "004ffc42",
   "metadata": {},
   "outputs": [
    {
     "name": "stdout",
     "output_type": "stream",
     "text": [
      "Requirement already satisfied: selenium in c:\\users\\konnectuser\\anaconda3\\lib\\site-packages (4.11.2)\n",
      "Requirement already satisfied: urllib3[socks]<3,>=1.26 in c:\\users\\konnectuser\\anaconda3\\lib\\site-packages (from selenium) (1.26.16)\n",
      "Requirement already satisfied: trio~=0.17 in c:\\users\\konnectuser\\anaconda3\\lib\\site-packages (from selenium) (0.22.2)\n",
      "Requirement already satisfied: trio-websocket~=0.9 in c:\\users\\konnectuser\\anaconda3\\lib\\site-packages (from selenium) (0.10.3)\n",
      "Requirement already satisfied: certifi>=2021.10.8 in c:\\users\\konnectuser\\anaconda3\\lib\\site-packages (from selenium) (2023.7.22)\n",
      "Requirement already satisfied: attrs>=20.1.0 in c:\\users\\konnectuser\\anaconda3\\lib\\site-packages (from trio~=0.17->selenium) (22.1.0)\n",
      "Requirement already satisfied: sortedcontainers in c:\\users\\konnectuser\\anaconda3\\lib\\site-packages (from trio~=0.17->selenium) (2.4.0)\n",
      "Requirement already satisfied: idna in c:\\users\\konnectuser\\anaconda3\\lib\\site-packages (from trio~=0.17->selenium) (3.4)\n",
      "Requirement already satisfied: outcome in c:\\users\\konnectuser\\anaconda3\\lib\\site-packages (from trio~=0.17->selenium) (1.2.0)\n",
      "Requirement already satisfied: sniffio in c:\\users\\konnectuser\\anaconda3\\lib\\site-packages (from trio~=0.17->selenium) (1.2.0)\n",
      "Requirement already satisfied: cffi>=1.14 in c:\\users\\konnectuser\\anaconda3\\lib\\site-packages (from trio~=0.17->selenium) (1.15.1)\n",
      "Requirement already satisfied: exceptiongroup in c:\\users\\konnectuser\\anaconda3\\lib\\site-packages (from trio-websocket~=0.9->selenium) (1.1.3)\n",
      "Requirement already satisfied: wsproto>=0.14 in c:\\users\\konnectuser\\anaconda3\\lib\\site-packages (from trio-websocket~=0.9->selenium) (1.2.0)\n",
      "Requirement already satisfied: PySocks!=1.5.7,<2.0,>=1.5.6 in c:\\users\\konnectuser\\anaconda3\\lib\\site-packages (from urllib3[socks]<3,>=1.26->selenium) (1.7.1)\n",
      "Requirement already satisfied: pycparser in c:\\users\\konnectuser\\anaconda3\\lib\\site-packages (from cffi>=1.14->trio~=0.17->selenium) (2.21)\n",
      "Requirement already satisfied: h11<1,>=0.9.0 in c:\\users\\konnectuser\\anaconda3\\lib\\site-packages (from wsproto>=0.14->trio-websocket~=0.9->selenium) (0.14.0)\n"
     ]
    }
   ],
   "source": [
    "!pip install selenium\n"
   ]
  },
  {
   "cell_type": "code",
   "execution_count": 2,
   "id": "4285ac5a",
   "metadata": {},
   "outputs": [],
   "source": [
    "import selenium                                  \n",
    "from selenium import webdriver                   \n",
    "import pandas as pd                              \n",
    "from selenium.webdriver.common.by import By    \n",
    "import warnings                                  \n",
    "warnings.filterwarnings(\"ignore\")\n",
    "import time           \n",
    "from bs4 import BeautifulSoup"
   ]
  },
  {
   "cell_type": "markdown",
   "id": "fcbe78c8",
   "metadata": {},
   "source": [
    "1. Scrape the details of most viewed videos on YouTube from Wikipedia. Url =\n",
    "https://en.wikipedia.org/wiki/List_of_most-viewed_YouTube_videos You need to find following details:\n",
    "A) Rank\n",
    "B) Name\n",
    "C) Artist\n",
    "D) Upload date\n",
    "E) Views\n"
   ]
  },
  {
   "cell_type": "code",
   "execution_count": 5,
   "id": "5b003dae",
   "metadata": {},
   "outputs": [],
   "source": [
    "driver = webdriver.Chrome(r\"C:\\Users\\konnectuser\\Downloads\\chromedriver-win64 (1)\\chromedriver-win64\")"
   ]
  },
  {
   "cell_type": "code",
   "execution_count": null,
   "id": "3f616a9d",
   "metadata": {},
   "outputs": [],
   "source": []
  },
  {
   "cell_type": "code",
   "execution_count": null,
   "id": "25ed2720",
   "metadata": {},
   "outputs": [],
   "source": [
    "url=\"https://en.wikipedia.org/wiki/List_of_most-viewed_YouTube_videos/\"\n",
    "driver.get(url)\n"
   ]
  },
  {
   "cell_type": "code",
   "execution_count": null,
   "id": "8d5f6ea2",
   "metadata": {},
   "outputs": [],
   "source": [
    "search_bar=driver.find_element(BY.XPATH,'//input[@type=\"search\"]')\n",
    "search_bar.send_keys('List_of_most-viewed_YouTube_videos')\n"
   ]
  },
  {
   "cell_type": "code",
   "execution_count": null,
   "id": "919c2af0",
   "metadata": {},
   "outputs": [],
   "source": [
    "search_btn= driver .find_element(BY.XPATH,\"//input[@type='submit']\")\n",
    "search_btn.click()\n",
    "\n",
    "#click on the first option\n",
    "L1=driver.find_element(BY.XPATH,\"//span[@class='searchmatch'] \")\n",
    "L1.click()"
   ]
  },
  {
   "cell_type": "code",
   "execution_count": null,
   "id": "9f1b21e3",
   "metadata": {},
   "outputs": [],
   "source": [
    "#make empty list\n",
    "Rank=[]\n",
    "Name=[]\n",
    "Artist=[]\n",
    "Upload_date=[]\n",
    "Views=[]"
   ]
  },
  {
   "cell_type": "code",
   "execution_count": null,
   "id": "9dd21805",
   "metadata": {},
   "outputs": [],
   "source": [
    "# extracting rank from xpath\n",
    "  \n",
    "rank=driver.find_elements(BY.XPATH,'//td[@align=\"center\"]')\n",
    "for i in rank:\n",
    "    Rank.append(i.text)\n",
    "Rank"
   ]
  },
  {
   "cell_type": "code",
   "execution_count": null,
   "id": "bbbc289f",
   "metadata": {},
   "outputs": [],
   "source": [
    "int=[]\n",
    "for j in range(0,len(Rank),3):\n",
    "    int.append(Rank[i])\n",
    "int    "
   ]
  },
  {
   "cell_type": "code",
   "execution_count": null,
   "id": "97d19c24",
   "metadata": {},
   "outputs": [],
   "source": [
    "# Extracting name from xpath\n",
    "try:\n",
    "    vname=driver.find_elements(BY.XPATH,\"//a[@href='/wiki/Baby_Shark_Dance']\")\n",
    "    Name.append(vname.text)\n",
    "except NoSuchElementException:\n",
    "    Name.append(\"-\")"
   ]
  },
  {
   "cell_type": "code",
   "execution_count": null,
   "id": "9cebc7d8",
   "metadata": {},
   "outputs": [],
   "source": [
    "driver.close()"
   ]
  },
  {
   "cell_type": "markdown",
   "id": "e66556ca",
   "metadata": {},
   "source": [
    "2. Scrape the details team India’s international fixtures from bcci.tv.\n",
    "Url = https://www.bcci.tv/.\n",
    "You need to find following details:\n",
    "A) Match title (I.e. 1 ODI)\n",
    "B) Series\n",
    "C) Place\n",
    "D) Date\n",
    "E) Time\n",
    "Note: - From bcci.tv home page you have reach to the international fixture page through code.\n"
   ]
  },
  {
   "cell_type": "code",
   "execution_count": null,
   "id": "5d67e36a",
   "metadata": {},
   "outputs": [],
   "source": [
    "driver = webdriver.Chrome(r\"C:\\Users\\konnectuser\\Downloads\\chromedriver-win64 (1)\\chromedriver-win64\")"
   ]
  },
  {
   "cell_type": "code",
   "execution_count": null,
   "id": "d410a36e",
   "metadata": {},
   "outputs": [],
   "source": [
    "url = \"https://www.bcci.tv/\"\n",
    "driver.get(url)"
   ]
  },
  {
   "cell_type": "code",
   "execution_count": null,
   "id": "66406b09",
   "metadata": {},
   "outputs": [],
   "source": [
    "in_btn=driver.find_element(BY.XPATH,'//div[@class=\"navigation__drop-down drop-down drop-down--reveal-on-hover\"]')\n",
    "in_btn.click()"
   ]
  },
  {
   "cell_type": "code",
   "execution_count": null,
   "id": "a2eec747",
   "metadata": {},
   "outputs": [],
   "source": [
    "fix_btn=driver.find_element(BY.XPATH,'//a[@class=\"navigation__link navigation__link--in-drop-down\"]')\n",
    "fix_btn.click()"
   ]
  },
  {
   "cell_type": "code",
   "execution_count": null,
   "id": "50a7a0d1",
   "metadata": {},
   "outputs": [],
   "source": [
    "Match_title=[]\n",
    "Series=[]\n",
    "Place=[]\n",
    "Date=[]\n",
    "D_month=[]\n",
    "Time=[]"
   ]
  },
  {
   "cell_type": "code",
   "execution_count": null,
   "id": "aff77e26",
   "metadata": {},
   "outputs": [],
   "source": [
    "series=driver.find_elements(BY.XPATH,\"//span[@class='u-unskewed-text fixture__format']\")\n",
    "for i in series:\n",
    "    if i.text is None:\n",
    "        Series.append('Not')\n",
    "    else:\n",
    "        Series.append(i.text)\n",
    "Series"
   ]
  },
  {
   "cell_type": "code",
   "execution_count": null,
   "id": "b9380c06",
   "metadata": {},
   "outputs": [],
   "source": [
    "title=driver.find_elements(BY.XPATH,\"//span[@class='u-unskewed-text fixture__tournament-label u-truncated']\")\n",
    "for j in title:\n",
    "    Match_title.append(j.text)\n",
    "Match_title"
   ]
  },
  {
   "cell_type": "code",
   "execution_count": null,
   "id": "f3a16731",
   "metadata": {},
   "outputs": [],
   "source": [
    "place=driver.find_elements(BY.XPATH,\"//p[@class='fixture__additional-info']\")\n",
    "\n",
    "for k in place:\n",
    "    Place.append(k.text)\n",
    "Place    "
   ]
  },
  {
   "cell_type": "code",
   "execution_count": null,
   "id": "ebd02e4c",
   "metadata": {},
   "outputs": [],
   "source": [
    "date=driver.find_elements(BY.XPATH,\"//span[@class='fixture__date']\")\n",
    "\n",
    "for l in date:\n",
    "    Date.append(l.text)\n",
    "Date    "
   ]
  },
  {
   "cell_type": "code",
   "execution_count": null,
   "id": "9d1daa34",
   "metadata": {},
   "outputs": [],
   "source": [
    "month=driver.find_elements(BY.XPATH,\"//span[@class='fixture__month']\")\n",
    "for m in month:\n",
    "    D_month.append(m.text)\n",
    "D_month   "
   ]
  },
  {
   "cell_type": "code",
   "execution_count": null,
   "id": "1529d072",
   "metadata": {},
   "outputs": [],
   "source": [
    "time=driver.find_elements(BY.XPATH,\"//span[@class='fixture__time']\")\n",
    "for n in time:\n",
    "    Time.append(n.text)\n",
    "Time"
   ]
  },
  {
   "cell_type": "code",
   "execution_count": null,
   "id": "6b730947",
   "metadata": {},
   "outputs": [],
   "source": [
    "bcc_df=pd.DataFrame({'M_Series':Series,'Title of match':Match_title,'M Place':Place,'M date':Date,'Month':D_month, 'M time':Time})\n",
    "bcc_df"
   ]
  },
  {
   "cell_type": "markdown",
   "id": "3b57426c",
   "metadata": {},
   "source": [
    "3. Scrape the details of State-wise GDP of India from statisticstime.com.\n",
    "Url = http://statisticstimes.com/\n",
    "You have to find following details: A)\n",
    "Rank\n",
    "B) State\n",
    "C) GSDP(18-19)- at current prices\n",
    "D) GSDP(19-20)- at current prices\n",
    "E) Share(18-19)\n",
    "F) GDP($ billion)\n",
    "Note: - From statisticstimes home page you have to reach to economy page through code.\n"
   ]
  },
  {
   "cell_type": "code",
   "execution_count": null,
   "id": "f5de9ae3",
   "metadata": {},
   "outputs": [],
   "source": [
    "driver = webdriver.Chrome(r\"C:\\Users\\konnectuser\\Downloads\\chromedriver-win64 (1)\\chromedriver-win64\")"
   ]
  },
  {
   "cell_type": "code",
   "execution_count": null,
   "id": "1fe3ed77",
   "metadata": {},
   "outputs": [],
   "source": [
    "url =\"http://statisticstimes.com\"\n",
    "driver.get(url)"
   ]
  },
  {
   "cell_type": "code",
   "execution_count": null,
   "id": "9203fd66",
   "metadata": {},
   "outputs": [],
   "source": [
    "btn_e=driver.find_element(BY.XPATH,\"//butt.on[@class='dropbtn']\")\n",
    "btn_e.click()"
   ]
  },
  {
   "cell_type": "code",
   "execution_count": null,
   "id": "7e56ce22",
   "metadata": {},
   "outputs": [],
   "source": [
    "Urls=[]\n",
    "e_india=driver.find_elements(BY.XPATH,\"//a[@href='economy/india-statistics.php']\")"
   ]
  },
  {
   "cell_type": "markdown",
   "id": "b1775dc8",
   "metadata": {},
   "source": [
    "4. Scrape the details of trending repositories on Github.com.\n",
    "Url = https://github.com/\n",
    "You have to find the following details:\n",
    "A) Repository title\n",
    "B) Repository description\n",
    "C) Contributors count\n",
    "D) Language used\n"
   ]
  },
  {
   "cell_type": "code",
   "execution_count": null,
   "id": "db73592d",
   "metadata": {},
   "outputs": [],
   "source": [
    "driver = webdriver.Chrome(r\"C:\\Users\\konnectuser\\Downloads\\chromedriver-win64 (1)\\chromedriver-win64\")"
   ]
  },
  {
   "cell_type": "code",
   "execution_count": null,
   "id": "9fdc86c8",
   "metadata": {},
   "outputs": [],
   "source": [
    "# let's first connect to the web driver\n",
    "\n",
    "url = \"https://www.github.com\"\n",
    "driver.get(url)\n",
    "ex_btn=driver.find_elements(BY.XPATH,\"//a[@class='js-selected-navigation-item Header-link mt-md-n3 mb-md-n3 py-2 py-md-3 mr-0 mr-md\")"
   ]
  },
  {
   "cell_type": "code",
   "execution_count": null,
   "id": "d583fcb6",
   "metadata": {},
   "outputs": [],
   "source": [
    "R_title=[]\n",
    "R_desc=[]\n",
    "C_agent=[]\n",
    "L_used=[]\n",
    "title=driver.find_elements_by_xpath(\"//span[@class='text-normal']\")"
   ]
  },
  {
   "cell_type": "markdown",
   "id": "870d7c54",
   "metadata": {},
   "source": [
    "5. Scrape the details of top 100 songs on billiboard.com. Url = https:/www.billboard.com/\n",
    "You have to find the following details:\n",
    "A) Song name\n",
    "B) Artist name\n",
    "C) Last week rank\n",
    "D) Peak rank\n",
    "E) Weeks on board\n",
    "Note: - From the home page you have to click on the charts option then hot 100-page link through code.\n"
   ]
  },
  {
   "cell_type": "code",
   "execution_count": null,
   "id": "b52a1f6c",
   "metadata": {},
   "outputs": [],
   "source": [
    "# let's first connect to the web driver\n",
    "driver = webdriver.Chrome(r\"C:\\Users\\konnectuser\\Downloads\\chromedriver-win64 (1)\\chromedriver-win64\")\n"
   ]
  },
  {
   "cell_type": "code",
   "execution_count": null,
   "id": "cabfa272",
   "metadata": {},
   "outputs": [],
   "source": [
    "url =\"https://www.billboard.com/\"\"\n",
    "driver.get(url)"
   ]
  },
  {
   "cell_type": "code",
   "execution_count": null,
   "id": "7bb53a9d",
   "metadata": {},
   "outputs": [],
   "source": [
    "chart_btn= driver.find_element(BY.XPATH,\"/html/body/div[3]/header/div/div[2]/div/div/div[2]/div[2]/div/div/nav/ul/li[1]/a\")\n",
    "chart_btn.click()"
   ]
  },
  {
   "cell_type": "code",
   "execution_count": null,
   "id": "b1338b54",
   "metadata": {},
   "outputs": [],
   "source": [
    "view_chart=driver.find_element(BY.XPATH,\"/html/body/div[3]/main/div[2]/div[1]/div[1]/div/div/div[3]/a\")\n",
    "view_chart.click()"
   ]
  },
  {
   "cell_type": "code",
   "execution_count": null,
   "id": "0b320ac8",
   "metadata": {},
   "outputs": [],
   "source": [
    "\n",
    "#so let's extract all top100 songs having the titles \n",
    "title_tags=driver.find_elements(BY.XPATH,\"//a[@class='title fw500 ellipsis']\")\n",
    "title_tags\n",
    "\n",
    "toptracks=driver.find_element(BY.CLASS_NAME,\"[class=\"o-chart-results-list-row-container\"]\")\n",
    "# extract the text of the job title  from the tags\n",
    "job_titles=[]\n",
    "for i in title_tags:\n",
    "    if i.text is None:\n",
    "        job_titles.append('Not')\n",
    "    else:\n",
    "        job_titles.append(i.text)\n",
    "job_titles[:10]  \n",
    "\n"
   ]
  },
  {
   "cell_type": "markdown",
   "id": "e8ccbc80",
   "metadata": {},
   "source": [
    "# MY LAPTOP GOT CRASHED AND HAVE GIVEN FOR SERVICE WILL TAKE 5TO 6 DAYS .SO SUBMITTED MY ASSIGNMENT WATEVER I HAVE DONE NOW .THANK YOU."
   ]
  },
  {
   "cell_type": "code",
   "execution_count": null,
   "id": "6444a61f",
   "metadata": {},
   "outputs": [],
   "source": []
  }
 ],
 "metadata": {
  "kernelspec": {
   "display_name": "Python 3 (ipykernel)",
   "language": "python",
   "name": "python3"
  },
  "language_info": {
   "codemirror_mode": {
    "name": "ipython",
    "version": 3
   },
   "file_extension": ".py",
   "mimetype": "text/x-python",
   "name": "python",
   "nbconvert_exporter": "python",
   "pygments_lexer": "ipython3",
   "version": "3.11.4"
  }
 },
 "nbformat": 4,
 "nbformat_minor": 5
}
