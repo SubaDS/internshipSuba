{
 "cells": [
  {
   "cell_type": "code",
   "execution_count": 30,
   "id": "3de72d47",
   "metadata": {},
   "outputs": [
    {
     "name": "stdout",
     "output_type": "stream",
     "text": [
      "Requirement already satisfied: selenium in c:\\users\\premium\\anaconda3\\lib\\site-packages (4.11.2)\n",
      "Requirement already satisfied: trio~=0.17 in c:\\users\\premium\\anaconda3\\lib\\site-packages (from selenium) (0.22.2)\n",
      "Requirement already satisfied: certifi>=2021.10.8 in c:\\users\\premium\\anaconda3\\lib\\site-packages (from selenium) (2022.9.14)\n",
      "Requirement already satisfied: trio-websocket~=0.9 in c:\\users\\premium\\anaconda3\\lib\\site-packages (from selenium) (0.10.3)\n",
      "Requirement already satisfied: urllib3[socks]<3,>=1.26 in c:\\users\\premium\\anaconda3\\lib\\site-packages (from selenium) (1.26.11)\n",
      "Requirement already satisfied: outcome in c:\\users\\premium\\anaconda3\\lib\\site-packages (from trio~=0.17->selenium) (1.2.0)\n",
      "Requirement already satisfied: attrs>=20.1.0 in c:\\users\\premium\\anaconda3\\lib\\site-packages (from trio~=0.17->selenium) (21.4.0)\n",
      "Requirement already satisfied: sortedcontainers in c:\\users\\premium\\anaconda3\\lib\\site-packages (from trio~=0.17->selenium) (2.4.0)\n",
      "Requirement already satisfied: idna in c:\\users\\premium\\anaconda3\\lib\\site-packages (from trio~=0.17->selenium) (3.3)\n",
      "Requirement already satisfied: sniffio in c:\\users\\premium\\anaconda3\\lib\\site-packages (from trio~=0.17->selenium) (1.2.0)\n",
      "Requirement already satisfied: cffi>=1.14 in c:\\users\\premium\\anaconda3\\lib\\site-packages (from trio~=0.17->selenium) (1.15.1)\n",
      "Requirement already satisfied: exceptiongroup>=1.0.0rc9 in c:\\users\\premium\\anaconda3\\lib\\site-packages (from trio~=0.17->selenium) (1.1.2)\n",
      "Requirement already satisfied: wsproto>=0.14 in c:\\users\\premium\\anaconda3\\lib\\site-packages (from trio-websocket~=0.9->selenium) (1.2.0)\n",
      "Requirement already satisfied: PySocks!=1.5.7,<2.0,>=1.5.6 in c:\\users\\premium\\anaconda3\\lib\\site-packages (from urllib3[socks]<3,>=1.26->selenium) (1.7.1)\n",
      "Requirement already satisfied: pycparser in c:\\users\\premium\\anaconda3\\lib\\site-packages (from cffi>=1.14->trio~=0.17->selenium) (2.21)\n",
      "Requirement already satisfied: h11<1,>=0.9.0 in c:\\users\\premium\\anaconda3\\lib\\site-packages (from wsproto>=0.14->trio-websocket~=0.9->selenium) (0.14.0)\n"
     ]
    }
   ],
   "source": [
    "!pip install selenium\n"
   ]
  },
  {
   "cell_type": "code",
   "execution_count": 3,
   "id": "e0c4a222",
   "metadata": {},
   "outputs": [],
   "source": [
    "\n"
   ]
  },
  {
   "cell_type": "code",
   "execution_count": 31,
   "id": "cac996d6",
   "metadata": {},
   "outputs": [
    {
     "name": "stdout",
     "output_type": "stream",
     "text": [
      "Requirement already satisfied: webdriver-manager in c:\\users\\premium\\anaconda3\\lib\\site-packages (4.0.0)\n",
      "Requirement already satisfied: packaging in c:\\users\\premium\\anaconda3\\lib\\site-packages (from webdriver-manager) (21.3)\n",
      "Requirement already satisfied: requests in c:\\users\\premium\\anaconda3\\lib\\site-packages (from webdriver-manager) (2.28.1)\n",
      "Requirement already satisfied: python-dotenv in c:\\users\\premium\\anaconda3\\lib\\site-packages (from webdriver-manager) (1.0.0)\n",
      "Requirement already satisfied: pyparsing!=3.0.5,>=2.0.2 in c:\\users\\premium\\anaconda3\\lib\\site-packages (from packaging->webdriver-manager) (3.0.9)\n",
      "Requirement already satisfied: urllib3<1.27,>=1.21.1 in c:\\users\\premium\\anaconda3\\lib\\site-packages (from requests->webdriver-manager) (1.26.11)\n",
      "Requirement already satisfied: charset-normalizer<3,>=2 in c:\\users\\premium\\anaconda3\\lib\\site-packages (from requests->webdriver-manager) (2.0.4)\n",
      "Requirement already satisfied: certifi>=2017.4.17 in c:\\users\\premium\\anaconda3\\lib\\site-packages (from requests->webdriver-manager) (2022.9.14)\n",
      "Requirement already satisfied: idna<4,>=2.5 in c:\\users\\premium\\anaconda3\\lib\\site-packages (from requests->webdriver-manager) (3.3)\n"
     ]
    }
   ],
   "source": [
    "!pip install webdriver-manager"
   ]
  },
  {
   "cell_type": "code",
   "execution_count": 32,
   "id": "2d3860e3",
   "metadata": {},
   "outputs": [],
   "source": [
    "#Importing the required libraries \n",
    "\n",
    "import selenium\n",
    "import pandas as pd\n",
    "from selenium import webdriver\n",
    "import warnings\n",
    "warnings.filterwarnings('ignore')\n",
    "from webdriver_manager.chrome import ChromeDriverManager\n",
    "from selenium.webdriver.common.by import By\n",
    "\n",
    "\n",
    "from selenium.webdriver.chrome.service import Service\n",
    "\n",
    "import time"
   ]
  },
  {
   "cell_type": "code",
   "execution_count": 4,
   "id": "be78589a",
   "metadata": {},
   "outputs": [],
   "source": [
    "#connecting to webdriver\n",
    "driver = webdriver.Chrome(service=Service(ChromeDriverManager().install()))"
   ]
  },
  {
   "cell_type": "code",
   "execution_count": 140,
   "id": "9d54a6ca",
   "metadata": {},
   "outputs": [],
   "source": [
    "#connecting to webdriver\n",
    "#driver=webdriver.chrome(r\"C:\\Users\\Premium\\Downloads\\chromedriver-win64 (1).zip\\chromrdriver.exe\")"
   ]
  },
  {
   "cell_type": "markdown",
   "id": "0a3ca83a",
   "metadata": {},
   "source": [
    "# Q1: Write a python program to scrape data for “Data Analyst” Job position in “Bangalore” location. \n",
    "You have to scrape the job-title, job-location, company_name, experience_required. You have to scrape first 10\n",
    "jobs data.\n",
    "This task will be done in following steps:\n",
    "1. First get the webpage https://www.naukri.com/\n",
    "2. Enter “Data Analyst” in “Skill, Designations, Companies” field and enter “Bangalore” in “enter the\n",
    "location” field.\n",
    "3. Then click the searchbutton.\n",
    "4. Then scrape the data for the first 10 jobs results youget.\n",
    "5. Finally create a dataframe of the scraped data."
   ]
  },
  {
   "cell_type": "code",
   "execution_count": 17,
   "id": "a9b69125",
   "metadata": {},
   "outputs": [],
   "source": [
    "#connecting to website\n",
    "driver.get(\"https://www.naukri.com/\")"
   ]
  },
  {
   "cell_type": "code",
   "execution_count": 18,
   "id": "0e3d8c28",
   "metadata": {},
   "outputs": [],
   "source": [
    "#entering designation and location\n",
    "desgn=driver.find_element(By.CLASS_NAME,\"suggestor-input \")\n",
    "desgn.send_keys(\"Data Analyst\")"
   ]
  },
  {
   "cell_type": "code",
   "execution_count": 19,
   "id": "32a0da6a",
   "metadata": {},
   "outputs": [],
   "source": [
    "location=driver.find_element(By.XPATH,\"/html/body/div[1]/div[7]/div/div/div[5]/div/div/div/div[1]/div/input\")\n",
    "location.send_keys(\"Bangalore\")"
   ]
  },
  {
   "cell_type": "code",
   "execution_count": 20,
   "id": "8f97bb79",
   "metadata": {},
   "outputs": [],
   "source": [
    "#clicking the search button\n",
    "search=driver.find_element(By.CLASS_NAME,\"qsbSubmit\")\n",
    "search.click()"
   ]
  },
  {
   "cell_type": "code",
   "execution_count": 40,
   "id": "1e10c4b8",
   "metadata": {},
   "outputs": [],
   "source": [
    "#scraping the 10 job results in the page\n",
    "title=[]\n",
    "company_name=[]\n",
    "experience=[]\n",
    "salary=[]\n",
    "location=[]\n",
    "\n"
   ]
  },
  {
   "cell_type": "code",
   "execution_count": 41,
   "id": "c4e83437",
   "metadata": {},
   "outputs": [],
   "source": [
    "#scraping company names\n",
    "company=driver.find_elements(By.XPATH,'//div[@class=\"companyInfo subheading\"]')\n",
    "for i in company[0:10]:\n",
    "    company_name.append(i.text)\n"
   ]
  },
  {
   "cell_type": "code",
   "execution_count": 42,
   "id": "b545e90e",
   "metadata": {},
   "outputs": [
    {
     "data": {
      "text/plain": [
       "['Blooprint Ecom Consulting Service',\n",
       " 'Arbeit Associates',\n",
       " 'Mensa Brand Technologies\\n2.9\\n33 Reviews',\n",
       " 'Resideo\\n3.9\\n47 Reviews',\n",
       " 'ADI Global Distribution\\n4.1\\n15 Reviews',\n",
       " 'London Stock Exchange Group\\n4.1\\n207 Reviews',\n",
       " 'Terragig Llp',\n",
       " 'Wipro\\n3.9\\n29032 Reviews',\n",
       " 'Volvo Group\\n4.2\\n527 Reviews',\n",
       " 'Razorpay\\n3.8\\n221 Reviews']"
      ]
     },
     "execution_count": 42,
     "metadata": {},
     "output_type": "execute_result"
    }
   ],
   "source": [
    "company_name\n"
   ]
  },
  {
   "cell_type": "code",
   "execution_count": 43,
   "id": "ba6511dd",
   "metadata": {},
   "outputs": [],
   "source": [
    "#scraping title\n",
    "tit=driver.find_elements(By.XPATH,'//a[@class=\"title ellipsis\"]')\n",
    "for i in tit[0:10]:\n",
    "    title.append(i.text)"
   ]
  },
  {
   "cell_type": "code",
   "execution_count": 44,
   "id": "f106a863",
   "metadata": {},
   "outputs": [
    {
     "data": {
      "text/plain": [
       "['Data Analyst',\n",
       " 'Data Analyst',\n",
       " 'Data Analyst',\n",
       " 'IBP Data Analyst',\n",
       " 'IBP Data Analyst',\n",
       " 'Data Analyst - Control Services Team',\n",
       " 'Data Analyst',\n",
       " 'Data Analyst',\n",
       " 'Data Analyst',\n",
       " 'Data Analyst (Contractual)']"
      ]
     },
     "execution_count": 44,
     "metadata": {},
     "output_type": "execute_result"
    }
   ],
   "source": [
    "title"
   ]
  },
  {
   "cell_type": "code",
   "execution_count": 45,
   "id": "caa566f0",
   "metadata": {},
   "outputs": [],
   "source": [
    "#scraping experience\n",
    "exp=driver.find_elements(By.XPATH,'//span[@ class=\"ellipsis fleft expwdth\"]')\n",
    "for i in exp[0:10]:\n",
    "    experience.append(i.text)\n",
    "    "
   ]
  },
  {
   "cell_type": "code",
   "execution_count": 46,
   "id": "22c55d1e",
   "metadata": {},
   "outputs": [],
   "source": [
    "#scrapping salary\n",
    "sal=driver.find_elements(By.XPATH,'//span[@class=\"ellipsis fleft \"]')\n",
    "for i in sal[0:10]:\n",
    "    salary.append(i.text)\n",
    "    "
   ]
  },
  {
   "cell_type": "code",
   "execution_count": 47,
   "id": "5976c555",
   "metadata": {},
   "outputs": [
    {
     "data": {
      "text/plain": [
       "['3-4 Lacs PA',\n",
       " '10-16 Lacs PA',\n",
       " '6-9 Lacs PA',\n",
       " 'Not disclosed',\n",
       " 'Not disclosed',\n",
       " 'Not disclosed',\n",
       " 'Not disclosed',\n",
       " 'Not disclosed',\n",
       " 'Not disclosed',\n",
       " 'Not disclosed']"
      ]
     },
     "execution_count": 47,
     "metadata": {},
     "output_type": "execute_result"
    }
   ],
   "source": [
    "salary"
   ]
  },
  {
   "cell_type": "code",
   "execution_count": 48,
   "id": "9659d808",
   "metadata": {},
   "outputs": [],
   "source": [
    "#Scraping location\n",
    "loc=driver.find_elements(By.XPATH,'//span[@class=\"ellipsis fleft locWdth\"]')\n",
    "for i in loc[0:10]:\n",
    "    location.append(i.text)\n",
    "    "
   ]
  },
  {
   "cell_type": "code",
   "execution_count": 49,
   "id": "0ea9fbd7",
   "metadata": {},
   "outputs": [
    {
     "data": {
      "text/plain": [
       "['Bangalore/Bengaluru',\n",
       " 'Hybrid - Bangalore/ Bengaluru, Karnataka, Gurgaon/ Gurugram, Haryana',\n",
       " 'Bangalore/ Bengaluru, Karnataka',\n",
       " 'Bangalore/Bengaluru',\n",
       " 'Bangalore/Bengaluru',\n",
       " 'Bangalore/Bengaluru',\n",
       " 'Remote',\n",
       " 'Hybrid - Bangalore/Bengaluru, Kolkata, Hyderabad/Secunderabad, Pune, Jaipur, Rajasthan, Delhi / NCR',\n",
       " 'Bangalore/Bengaluru',\n",
       " 'Bangalore/Bengaluru']"
      ]
     },
     "execution_count": 49,
     "metadata": {},
     "output_type": "execute_result"
    }
   ],
   "source": [
    "location\n"
   ]
  },
  {
   "cell_type": "code",
   "execution_count": 50,
   "id": "d8835c97",
   "metadata": {},
   "outputs": [
    {
     "name": "stdout",
     "output_type": "stream",
     "text": [
      "10 10 10 10 10\n"
     ]
    }
   ],
   "source": [
    "print(len(title),len(company_name),len(experience),len(salary),len(location))"
   ]
  },
  {
   "cell_type": "code",
   "execution_count": 51,
   "id": "b3196d92",
   "metadata": {},
   "outputs": [
    {
     "data": {
      "text/html": [
       "<div>\n",
       "<style scoped>\n",
       "    .dataframe tbody tr th:only-of-type {\n",
       "        vertical-align: middle;\n",
       "    }\n",
       "\n",
       "    .dataframe tbody tr th {\n",
       "        vertical-align: top;\n",
       "    }\n",
       "\n",
       "    .dataframe thead th {\n",
       "        text-align: right;\n",
       "    }\n",
       "</style>\n",
       "<table border=\"1\" class=\"dataframe\">\n",
       "  <thead>\n",
       "    <tr style=\"text-align: right;\">\n",
       "      <th></th>\n",
       "      <th>Title</th>\n",
       "      <th>Company</th>\n",
       "      <th>Experience</th>\n",
       "      <th>Salary</th>\n",
       "      <th>location</th>\n",
       "    </tr>\n",
       "  </thead>\n",
       "  <tbody>\n",
       "    <tr>\n",
       "      <th>0</th>\n",
       "      <td>Data Analyst</td>\n",
       "      <td>Blooprint Ecom Consulting Service</td>\n",
       "      <td>0-1 Yrs</td>\n",
       "      <td>3-4 Lacs PA</td>\n",
       "      <td>Bangalore/Bengaluru</td>\n",
       "    </tr>\n",
       "    <tr>\n",
       "      <th>1</th>\n",
       "      <td>Data Analyst</td>\n",
       "      <td>Arbeit Associates</td>\n",
       "      <td>3-7 Yrs</td>\n",
       "      <td>10-16 Lacs PA</td>\n",
       "      <td>Hybrid - Bangalore/ Bengaluru, Karnataka, Gurg...</td>\n",
       "    </tr>\n",
       "    <tr>\n",
       "      <th>2</th>\n",
       "      <td>Data Analyst</td>\n",
       "      <td>Mensa Brand Technologies\\n2.9\\n33 Reviews</td>\n",
       "      <td>1-2 Yrs</td>\n",
       "      <td>6-9 Lacs PA</td>\n",
       "      <td>Bangalore/ Bengaluru, Karnataka</td>\n",
       "    </tr>\n",
       "    <tr>\n",
       "      <th>3</th>\n",
       "      <td>IBP Data Analyst</td>\n",
       "      <td>Resideo\\n3.9\\n47 Reviews</td>\n",
       "      <td>2-5 Yrs</td>\n",
       "      <td>Not disclosed</td>\n",
       "      <td>Bangalore/Bengaluru</td>\n",
       "    </tr>\n",
       "    <tr>\n",
       "      <th>4</th>\n",
       "      <td>IBP Data Analyst</td>\n",
       "      <td>ADI Global Distribution\\n4.1\\n15 Reviews</td>\n",
       "      <td>2-5 Yrs</td>\n",
       "      <td>Not disclosed</td>\n",
       "      <td>Bangalore/Bengaluru</td>\n",
       "    </tr>\n",
       "    <tr>\n",
       "      <th>5</th>\n",
       "      <td>Data Analyst - Control Services Team</td>\n",
       "      <td>London Stock Exchange Group\\n4.1\\n207 Reviews</td>\n",
       "      <td>4-7 Yrs</td>\n",
       "      <td>Not disclosed</td>\n",
       "      <td>Bangalore/Bengaluru</td>\n",
       "    </tr>\n",
       "    <tr>\n",
       "      <th>6</th>\n",
       "      <td>Data Analyst</td>\n",
       "      <td>Terragig Llp</td>\n",
       "      <td>2-3 Yrs</td>\n",
       "      <td>Not disclosed</td>\n",
       "      <td>Remote</td>\n",
       "    </tr>\n",
       "    <tr>\n",
       "      <th>7</th>\n",
       "      <td>Data Analyst</td>\n",
       "      <td>Wipro\\n3.9\\n29032 Reviews</td>\n",
       "      <td>4-8 Yrs</td>\n",
       "      <td>Not disclosed</td>\n",
       "      <td>Hybrid - Bangalore/Bengaluru, Kolkata, Hyderab...</td>\n",
       "    </tr>\n",
       "    <tr>\n",
       "      <th>8</th>\n",
       "      <td>Data Analyst</td>\n",
       "      <td>Volvo Group\\n4.2\\n527 Reviews</td>\n",
       "      <td>1-6 Yrs</td>\n",
       "      <td>Not disclosed</td>\n",
       "      <td>Bangalore/Bengaluru</td>\n",
       "    </tr>\n",
       "    <tr>\n",
       "      <th>9</th>\n",
       "      <td>Data Analyst (Contractual)</td>\n",
       "      <td>Razorpay\\n3.8\\n221 Reviews</td>\n",
       "      <td>1-3 Yrs</td>\n",
       "      <td>Not disclosed</td>\n",
       "      <td>Bangalore/Bengaluru</td>\n",
       "    </tr>\n",
       "  </tbody>\n",
       "</table>\n",
       "</div>"
      ],
      "text/plain": [
       "                                  Title  \\\n",
       "0                          Data Analyst   \n",
       "1                          Data Analyst   \n",
       "2                          Data Analyst   \n",
       "3                      IBP Data Analyst   \n",
       "4                      IBP Data Analyst   \n",
       "5  Data Analyst - Control Services Team   \n",
       "6                          Data Analyst   \n",
       "7                          Data Analyst   \n",
       "8                          Data Analyst   \n",
       "9            Data Analyst (Contractual)   \n",
       "\n",
       "                                         Company Experience         Salary  \\\n",
       "0              Blooprint Ecom Consulting Service    0-1 Yrs    3-4 Lacs PA   \n",
       "1                              Arbeit Associates    3-7 Yrs  10-16 Lacs PA   \n",
       "2      Mensa Brand Technologies\\n2.9\\n33 Reviews    1-2 Yrs    6-9 Lacs PA   \n",
       "3                       Resideo\\n3.9\\n47 Reviews    2-5 Yrs  Not disclosed   \n",
       "4       ADI Global Distribution\\n4.1\\n15 Reviews    2-5 Yrs  Not disclosed   \n",
       "5  London Stock Exchange Group\\n4.1\\n207 Reviews    4-7 Yrs  Not disclosed   \n",
       "6                                   Terragig Llp    2-3 Yrs  Not disclosed   \n",
       "7                      Wipro\\n3.9\\n29032 Reviews    4-8 Yrs  Not disclosed   \n",
       "8                  Volvo Group\\n4.2\\n527 Reviews    1-6 Yrs  Not disclosed   \n",
       "9                     Razorpay\\n3.8\\n221 Reviews    1-3 Yrs  Not disclosed   \n",
       "\n",
       "                                            location  \n",
       "0                                Bangalore/Bengaluru  \n",
       "1  Hybrid - Bangalore/ Bengaluru, Karnataka, Gurg...  \n",
       "2                    Bangalore/ Bengaluru, Karnataka  \n",
       "3                                Bangalore/Bengaluru  \n",
       "4                                Bangalore/Bengaluru  \n",
       "5                                Bangalore/Bengaluru  \n",
       "6                                             Remote  \n",
       "7  Hybrid - Bangalore/Bengaluru, Kolkata, Hyderab...  \n",
       "8                                Bangalore/Bengaluru  \n",
       "9                                Bangalore/Bengaluru  "
      ]
     },
     "execution_count": 51,
     "metadata": {},
     "output_type": "execute_result"
    }
   ],
   "source": [
    "import pandas as pd\n",
    "jobdata=pd.DataFrame({'Title':title,'Company':company_name,'Experience':experience,'Salary':salary,'location':location})\n",
    "jobdata\n",
    "\n"
   ]
  },
  {
   "cell_type": "markdown",
   "id": "4c0e3cd0",
   "metadata": {},
   "source": [
    "# Q2:Write a python program to scrape data for “Data Scientist” Job position in “Bangalore” location. \n",
    "You have to scrape the job-title, job-location, company_name. You have to scrape first 10 jobs data.\n",
    "This task will be done in following steps:\n",
    "1. First get the webpage https://www.naukri.com/\n",
    "2. Enter “Data Scientist” in “Skill, Designations, Companies” field and enter “Bangalore” in “enter the\n",
    "location” field.\n",
    "3. Then click the searchbutton.\n",
    "4. Then scrape the data for the first 10 jobs results youget.\n",
    "5. Finally create a dataframe of the scraped data.\n",
    "Note: All of the above steps have to be done in code. No step is to be done manually.\n"
   ]
  },
  {
   "cell_type": "code",
   "execution_count": 5,
   "id": "89b45498",
   "metadata": {},
   "outputs": [],
   "source": [
    "#connecting to website\n",
    "driver.get(\"https://www.naukri.com/\")"
   ]
  },
  {
   "cell_type": "code",
   "execution_count": 6,
   "id": "9ad24052",
   "metadata": {},
   "outputs": [],
   "source": [
    "#entering designation and location\n",
    "desgn1=driver.find_element(By.CLASS_NAME,\"suggestor-input \")\n",
    "desgn1.send_keys(\"Data Scientist\")"
   ]
  },
  {
   "cell_type": "code",
   "execution_count": 7,
   "id": "310c9fa0",
   "metadata": {},
   "outputs": [],
   "source": [
    "location1=driver.find_element(By.XPATH,\"/html/body/div[1]/div[7]/div/div/div[5]/div/div/div/div[1]/div/input\")\n",
    "location1.send_keys(\"Bangalore\")"
   ]
  },
  {
   "cell_type": "code",
   "execution_count": 8,
   "id": "91ce28d1",
   "metadata": {},
   "outputs": [],
   "source": [
    "#clicking the search button\n",
    "search1=driver.find_element(By.CLASS_NAME,\"qsbSubmit\")\n",
    "search1.click()"
   ]
  },
  {
   "cell_type": "code",
   "execution_count": 9,
   "id": "39ab857b",
   "metadata": {},
   "outputs": [],
   "source": [
    "#scraping the 10 job results in the page for title comp.name and location and creating a list\n",
    "title1=[]\n",
    "company_name1=[]\n",
    "location_1=[]"
   ]
  },
  {
   "cell_type": "code",
   "execution_count": 22,
   "id": "579979cb",
   "metadata": {},
   "outputs": [],
   "source": [
    "company=driver.find_elements(By.XPATH,'//div[@class=\"companyInfo subheading\"]')\n",
    "for i in company[0:10]:\n",
    "    company_name1.append(i.text)\n",
    "    \n",
    "    company_name1\n"
   ]
  },
  {
   "cell_type": "code",
   "execution_count": 48,
   "id": "3765ae5a",
   "metadata": {},
   "outputs": [
    {
     "data": {
      "text/plain": [
       "['Accenture\\n4.1\\n39001 Reviews',\n",
       " 'PwC\\n3.7\\n5626 Reviews',\n",
       " 'Accenture\\n4.1\\n39001 Reviews',\n",
       " 'PwC\\n3.7\\n5626 Reviews',\n",
       " 'Visa Inc\\n4.3\\n13 Reviews',\n",
       " 'Sophos\\n3.8\\n146 Reviews',\n",
       " 'Sophos\\n3.8\\n146 Reviews',\n",
       " 'TRH Consultancy Services',\n",
       " 'The It Mind Services\\n3.4\\n6 Reviews',\n",
       " 'Visa Inc\\n4.3\\n13 Reviews']"
      ]
     },
     "execution_count": 48,
     "metadata": {},
     "output_type": "execute_result"
    }
   ],
   "source": [
    "company_name1[0:10]"
   ]
  },
  {
   "cell_type": "code",
   "execution_count": 14,
   "id": "f3576d52",
   "metadata": {},
   "outputs": [],
   "source": [
    "tit=driver.find_elements(By.XPATH,'//a[@class=\"title ellipsis\"]')\n",
    "for i in tit:\n",
    "    if i.text is None:\n",
    "        title1.append('No title')\n",
    "    else:\n",
    "        title1.append(i.text)\n",
    "        title1[:10]"
   ]
  },
  {
   "cell_type": "code",
   "execution_count": 40,
   "id": "b90882d2",
   "metadata": {},
   "outputs": [
    {
     "data": {
      "text/plain": [
       "['Data Scientist - Senior Associate',\n",
       " 'Data Science Specialist',\n",
       " 'Data Scientist',\n",
       " 'Staff Data Scientist',\n",
       " 'Senior Data Scientist',\n",
       " 'Senior Data Scientist',\n",
       " 'Data Science Developer',\n",
       " 'Data Scientist',\n",
       " 'Manager Data Scientist']"
      ]
     },
     "execution_count": 40,
     "metadata": {},
     "output_type": "execute_result"
    }
   ],
   "source": [
    "title1[0:10]"
   ]
  },
  {
   "cell_type": "code",
   "execution_count": 34,
   "id": "e2fb9980",
   "metadata": {},
   "outputs": [],
   "source": [
    "loc1=driver.find_elements(By.XPATH,'//span[@class=\"ellipsis fleft locWdth\"]')\n",
    "for i in loc1[0:10]:\n",
    "    location_1.append(i.text)\n",
    "    location_1"
   ]
  },
  {
   "cell_type": "code",
   "execution_count": 47,
   "id": "d5c99e2e",
   "metadata": {},
   "outputs": [
    {
     "data": {
      "text/plain": [
       "['Bangalore/Bengaluru, Kolkata, Mumbai, Hyderabad/Secunderabad, Pune, Chennai',\n",
       " 'Bangalore/Bengaluru, Mumbai, Hyderabad/Secunderabad',\n",
       " 'Bangalore/Bengaluru, Kolkata, Mumbai, Hyderabad/Secunderabad, Pune, Chennai',\n",
       " 'Bangalore/Bengaluru, Mumbai (All Areas)',\n",
       " 'Bangalore/Bengaluru',\n",
       " 'Bangalore/Bengaluru, Kolkata, Mumbai, New Delhi, Hyderabad/Secunderabad, Pune, Chennai',\n",
       " 'Bangalore/Bengaluru, Kolkata, Mumbai, New Delhi, Hyderabad/Secunderabad, Pune, Chennai',\n",
       " 'Bangalore/Bengaluru, Noida, Kochi/Cochin, Mumbai, Hyderabad/Secunderabad, Pune, Chennai, Coimbatore, Delhi / NCR',\n",
       " 'Bangalore/Bengaluru, Kolkata, Mumbai, Hyderabad/Secunderabad, New Delhi, Pune, Chennai',\n",
       " 'Bangalore/Bengaluru']"
      ]
     },
     "execution_count": 47,
     "metadata": {},
     "output_type": "execute_result"
    }
   ],
   "source": [
    "location_1[0:10]"
   ]
  },
  {
   "cell_type": "code",
   "execution_count": 46,
   "id": "953df534",
   "metadata": {},
   "outputs": [
    {
     "name": "stdout",
     "output_type": "stream",
     "text": [
      "10 10 10\n"
     ]
    }
   ],
   "source": [
    "print(len(title1[0:10]),len(company_name1[0:10]),len(location_1[0:10]))"
   ]
  },
  {
   "cell_type": "code",
   "execution_count": 45,
   "id": "3052b263",
   "metadata": {},
   "outputs": [
    {
     "data": {
      "text/html": [
       "<div>\n",
       "<style scoped>\n",
       "    .dataframe tbody tr th:only-of-type {\n",
       "        vertical-align: middle;\n",
       "    }\n",
       "\n",
       "    .dataframe tbody tr th {\n",
       "        vertical-align: top;\n",
       "    }\n",
       "\n",
       "    .dataframe thead th {\n",
       "        text-align: right;\n",
       "    }\n",
       "</style>\n",
       "<table border=\"1\" class=\"dataframe\">\n",
       "  <thead>\n",
       "    <tr style=\"text-align: right;\">\n",
       "      <th></th>\n",
       "      <th>Title</th>\n",
       "      <th>Company</th>\n",
       "      <th>location</th>\n",
       "    </tr>\n",
       "  </thead>\n",
       "  <tbody>\n",
       "    <tr>\n",
       "      <th>0</th>\n",
       "      <td>Analystics &amp; Modeling Specialist</td>\n",
       "      <td>Accenture\\n4.1\\n39001 Reviews</td>\n",
       "      <td>Bangalore/Bengaluru, Kolkata, Mumbai, Hyderaba...</td>\n",
       "    </tr>\n",
       "    <tr>\n",
       "      <th>1</th>\n",
       "      <td>Data Scientist - Senior Associate</td>\n",
       "      <td>PwC\\n3.7\\n5626 Reviews</td>\n",
       "      <td>Bangalore/Bengaluru, Mumbai, Hyderabad/Secunde...</td>\n",
       "    </tr>\n",
       "    <tr>\n",
       "      <th>2</th>\n",
       "      <td>Data Science Specialist</td>\n",
       "      <td>Accenture\\n4.1\\n39001 Reviews</td>\n",
       "      <td>Bangalore/Bengaluru, Kolkata, Mumbai, Hyderaba...</td>\n",
       "    </tr>\n",
       "    <tr>\n",
       "      <th>3</th>\n",
       "      <td>Data Scientist</td>\n",
       "      <td>PwC\\n3.7\\n5626 Reviews</td>\n",
       "      <td>Bangalore/Bengaluru, Mumbai (All Areas)</td>\n",
       "    </tr>\n",
       "    <tr>\n",
       "      <th>4</th>\n",
       "      <td>Staff Data Scientist</td>\n",
       "      <td>Visa Inc\\n4.3\\n13 Reviews</td>\n",
       "      <td>Bangalore/Bengaluru</td>\n",
       "    </tr>\n",
       "    <tr>\n",
       "      <th>5</th>\n",
       "      <td>Senior Data Scientist</td>\n",
       "      <td>Sophos\\n3.8\\n146 Reviews</td>\n",
       "      <td>Bangalore/Bengaluru, Kolkata, Mumbai, New Delh...</td>\n",
       "    </tr>\n",
       "    <tr>\n",
       "      <th>6</th>\n",
       "      <td>Senior Data Scientist</td>\n",
       "      <td>Sophos\\n3.8\\n146 Reviews</td>\n",
       "      <td>Bangalore/Bengaluru, Kolkata, Mumbai, New Delh...</td>\n",
       "    </tr>\n",
       "    <tr>\n",
       "      <th>7</th>\n",
       "      <td>Data Science Developer</td>\n",
       "      <td>TRH Consultancy Services</td>\n",
       "      <td>Bangalore/Bengaluru, Noida, Kochi/Cochin, Mumb...</td>\n",
       "    </tr>\n",
       "    <tr>\n",
       "      <th>8</th>\n",
       "      <td>Data Scientist</td>\n",
       "      <td>The It Mind Services\\n3.4\\n6 Reviews</td>\n",
       "      <td>Bangalore/Bengaluru, Kolkata, Mumbai, Hyderaba...</td>\n",
       "    </tr>\n",
       "    <tr>\n",
       "      <th>9</th>\n",
       "      <td>Manager Data Scientist</td>\n",
       "      <td>Visa Inc\\n4.3\\n13 Reviews</td>\n",
       "      <td>Bangalore/Bengaluru</td>\n",
       "    </tr>\n",
       "  </tbody>\n",
       "</table>\n",
       "</div>"
      ],
      "text/plain": [
       "                               Title                               Company  \\\n",
       "0   Analystics & Modeling Specialist         Accenture\\n4.1\\n39001 Reviews   \n",
       "1  Data Scientist - Senior Associate                PwC\\n3.7\\n5626 Reviews   \n",
       "2            Data Science Specialist         Accenture\\n4.1\\n39001 Reviews   \n",
       "3                     Data Scientist                PwC\\n3.7\\n5626 Reviews   \n",
       "4               Staff Data Scientist             Visa Inc\\n4.3\\n13 Reviews   \n",
       "5              Senior Data Scientist              Sophos\\n3.8\\n146 Reviews   \n",
       "6              Senior Data Scientist              Sophos\\n3.8\\n146 Reviews   \n",
       "7             Data Science Developer              TRH Consultancy Services   \n",
       "8                     Data Scientist  The It Mind Services\\n3.4\\n6 Reviews   \n",
       "9             Manager Data Scientist             Visa Inc\\n4.3\\n13 Reviews   \n",
       "\n",
       "                                            location  \n",
       "0  Bangalore/Bengaluru, Kolkata, Mumbai, Hyderaba...  \n",
       "1  Bangalore/Bengaluru, Mumbai, Hyderabad/Secunde...  \n",
       "2  Bangalore/Bengaluru, Kolkata, Mumbai, Hyderaba...  \n",
       "3            Bangalore/Bengaluru, Mumbai (All Areas)  \n",
       "4                                Bangalore/Bengaluru  \n",
       "5  Bangalore/Bengaluru, Kolkata, Mumbai, New Delh...  \n",
       "6  Bangalore/Bengaluru, Kolkata, Mumbai, New Delh...  \n",
       "7  Bangalore/Bengaluru, Noida, Kochi/Cochin, Mumb...  \n",
       "8  Bangalore/Bengaluru, Kolkata, Mumbai, Hyderaba...  \n",
       "9                                Bangalore/Bengaluru  "
      ]
     },
     "execution_count": 45,
     "metadata": {},
     "output_type": "execute_result"
    }
   ],
   "source": [
    "#creating a jobdata dataframe\n",
    "import pandas as pd\n",
    "jobdata1=pd.DataFrame({'Title':title1[0:10],'Company':company_name1[0:10],'location':location_1[0:10]})\n",
    "jobdata1"
   ]
  },
  {
   "cell_type": "markdown",
   "id": "dbac998a",
   "metadata": {},
   "source": [
    "# Q3.You have to use the location and salary filter.\n",
    "You have to scrape data for “Data Scientist” designation for first 10 job results.\n",
    "You have to scrape the job-title, job-location, company name, experience required.\n",
    "The location filter to be used is “Delhi/NCR”. The salary filter to be used is “3-6” lakhs\n",
    "The task will be done as shown in the below steps:\n",
    "1. first get thewebpage https://www.naukri.com/\n",
    "2. Enter “Data Scientist” in “Skill, Designations, and Companies” field.\n",
    "3. Then click the searchbutton.\n",
    "4. Then apply the location filter and salary filter by checking the respectiveboxes\n",
    "5. Then scrape the data for the first 10 jobs results youget.\n",
    "6. Finally create a dataframe of the scrapeddata.\n",
    "Note: All of the above steps have to be done in code. No step is to be done manually"
   ]
  },
  {
   "cell_type": "code",
   "execution_count": 86,
   "id": "ac65038c",
   "metadata": {},
   "outputs": [],
   "source": [
    "#Importing the required libraries \n",
    "\n",
    "import selenium\n",
    "import pandas as pd\n",
    "from selenium import webdriver\n",
    "import warnings\n",
    "warnings.filterwarnings('ignore')\n",
    "from webdriver_manager.chrome import ChromeDriverManager\n",
    "from selenium.webdriver.common.by import By\n",
    "\n",
    "\n",
    "from selenium.webdriver.chrome.service import Service\n",
    "\n",
    "import time"
   ]
  },
  {
   "cell_type": "code",
   "execution_count": 56,
   "id": "ca032c78",
   "metadata": {},
   "outputs": [],
   "source": [
    "#connecting to website\n",
    "driver.get(\"https://www.naukri.com/\")\n",
    "\n",
    "#entering designation \n",
    "desgn2=driver.find_element(By.CLASS_NAME,\"suggestor-input \")\n",
    "desgn2.send_keys(\"Data Scientist\")\n"
   ]
  },
  {
   "cell_type": "code",
   "execution_count": 57,
   "id": "07af9929",
   "metadata": {},
   "outputs": [],
   "source": [
    "#clicking the search button\n",
    "search2=driver.find_element(By.CLASS_NAME,\"qsbSubmit\")\n",
    "search2.click()"
   ]
  },
  {
   "cell_type": "code",
   "execution_count": 63,
   "id": "6ac9b58d",
   "metadata": {},
   "outputs": [],
   "source": [
    "#scraping the 10 job results in the page\n",
    "title_new=[]\n",
    "company_name_new=[]\n",
    "experience_new=[]\n",
    "salary_new=[]\n",
    "location_new=[]\n"
   ]
  },
  {
   "cell_type": "code",
   "execution_count": 66,
   "id": "f6bd686d",
   "metadata": {},
   "outputs": [],
   "source": [
    "#scraping the filtered 10 job results with job title comp name salay location exp\n",
    "\n",
    "#scraping companyname\n",
    "company=driver.find_elements(By.XPATH,'//div[@class=\"companyInfo subheading\"]')\n",
    "for i in company[0:10]:\n",
    "    company_name_new.append(i.text)\n",
    "    \n",
    "#scraping title\n",
    "tit=driver.find_elements(By.XPATH,'//a[@class=\"title ellipsis\"]')\n",
    "for i in tit[0:10]:\n",
    "    title_new.append(i.text)\n",
    "    \n",
    "#scrapping salary\n",
    "sal=driver.find_elements(By.XPATH,'//span[@class=\"ellipsis fleft \"]')\n",
    "for i in sal[0:10]:\n",
    "    salary_new.append(i.text)\n",
    "    \n",
    "#Scraping location\n",
    "loc=driver.find_elements(By.XPATH,'//span[@class=\"ellipsis fleft locWdth\"]')\n",
    "for i in loc[0:10]:\n",
    "    location_new.append(i.text)\n",
    "    \n",
    "\n",
    "    #scraping experience\n",
    "exp=driver.find_elements(By.XPATH,'//span[@ class=\"ellipsis fleft expwdth\"]')\n",
    "for i in exp[0:10]:\n",
    "    experience_new.append(i.text)\n",
    "\n",
    "    \n",
    "\n",
    "    \n",
    "\n",
    "\n"
   ]
  },
  {
   "cell_type": "code",
   "execution_count": 73,
   "id": "a4800e96",
   "metadata": {},
   "outputs": [
    {
     "data": {
      "text/plain": [
       "['Analytos',\n",
       " 'Blackbuck\\n3.9\\n1694 Reviews',\n",
       " 'Analytos',\n",
       " 'Thescholar\\n3.0\\n4 Reviews',\n",
       " 'Times Internet\\n3.9\\n468 Reviews',\n",
       " 'Adidas\\n4.1\\n392 Reviews',\n",
       " 'Infogain\\n3.6\\n734 Reviews',\n",
       " 'EXL\\n3.8\\n4915 Reviews',\n",
       " 'Grok',\n",
       " 'Gartner\\n4.1\\n202 Reviews']"
      ]
     },
     "execution_count": 73,
     "metadata": {},
     "output_type": "execute_result"
    }
   ],
   "source": [
    "company_name_new[0:10]\n",
    "\n",
    "\n",
    "\n",
    "\n",
    "    "
   ]
  },
  {
   "cell_type": "code",
   "execution_count": 72,
   "id": "0df2c4db",
   "metadata": {},
   "outputs": [
    {
     "data": {
      "text/plain": [
       "['Kolkata, Mumbai, New Delhi, Hyderabad/Secunderabad, Pune, Chennai, Bangalore/Bengaluru',\n",
       " 'Gurgaon/Gurugram, Bangalore/Bengaluru',\n",
       " 'Kolkata, Mumbai, New Delhi, Hyderabad/Secunderabad, Pune, Chennai, Bangalore/Bengaluru',\n",
       " 'Hyderabad/Secunderabad, New Delhi, Pune, Gurgaon/Gurugram, Bangalore/Bengaluru',\n",
       " 'Noida',\n",
       " 'Gurgaon/Gurugram, United States (USA), Bulgaria',\n",
       " 'Remote',\n",
       " 'Delhi / NCR, Noida, Uttar Pradesh, Gurgaon/ Gurugram, Haryana',\n",
       " 'Hybrid - Delhi / NCR',\n",
       " 'Gurgaon/Gurugram']"
      ]
     },
     "execution_count": 72,
     "metadata": {},
     "output_type": "execute_result"
    }
   ],
   "source": [
    "location_new[0:10]"
   ]
  },
  {
   "cell_type": "code",
   "execution_count": 71,
   "id": "4dfa335f",
   "metadata": {},
   "outputs": [
    {
     "data": {
      "text/plain": [
       "['Not disclosed',\n",
       " 'Not disclosed',\n",
       " 'Not disclosed',\n",
       " 'Not disclosed',\n",
       " 'Not disclosed',\n",
       " 'Not disclosed',\n",
       " 'Not disclosed',\n",
       " '5-14 Lacs PA',\n",
       " 'Not disclosed',\n",
       " 'Not disclosed']"
      ]
     },
     "execution_count": 71,
     "metadata": {},
     "output_type": "execute_result"
    }
   ],
   "source": [
    "salary_new[0:10]"
   ]
  },
  {
   "cell_type": "code",
   "execution_count": 70,
   "id": "b51bcc47",
   "metadata": {},
   "outputs": [
    {
     "data": {
      "text/plain": [
       "['0-2 Yrs',\n",
       " '3-7 Yrs',\n",
       " '2-4 Yrs',\n",
       " '3-8 Yrs',\n",
       " '3-8 Yrs',\n",
       " '1-6 Yrs',\n",
       " '4-9 Yrs',\n",
       " '2-5 Yrs',\n",
       " '3-6 Yrs',\n",
       " '2-4 Yrs']"
      ]
     },
     "execution_count": 70,
     "metadata": {},
     "output_type": "execute_result"
    }
   ],
   "source": [
    "experience_new[0:10]"
   ]
  },
  {
   "cell_type": "code",
   "execution_count": 69,
   "id": "1c99a8eb",
   "metadata": {},
   "outputs": [
    {
     "data": {
      "text/plain": [
       "['Junior Data Scientist',\n",
       " 'Data Scientist',\n",
       " 'Data Scientist',\n",
       " 'Python and ML Trainer',\n",
       " 'Data Scientist',\n",
       " 'Junior Data Scientist',\n",
       " 'Hiring For Data Scientist',\n",
       " 'Urgent Hiring -Data Scientist -(SQL, Python, Pyspark ) , Noida',\n",
       " 'Data Scientist',\n",
       " 'Associate Data Scientist - ML & NLP']"
      ]
     },
     "execution_count": 69,
     "metadata": {},
     "output_type": "execute_result"
    }
   ],
   "source": [
    "title_new[0:10]"
   ]
  },
  {
   "cell_type": "code",
   "execution_count": 75,
   "id": "16699d3f",
   "metadata": {},
   "outputs": [
    {
     "name": "stdout",
     "output_type": "stream",
     "text": [
      "10 10 10 10 10\n"
     ]
    }
   ],
   "source": [
    "print(len(company_name_new[0:10]),len(salary_new[0:10]),len(title_new[0:10]),len(experience_new[0:10]),len(location_new[0:10]))"
   ]
  },
  {
   "cell_type": "code",
   "execution_count": 76,
   "id": "892d0eba",
   "metadata": {},
   "outputs": [
    {
     "data": {
      "text/html": [
       "<div>\n",
       "<style scoped>\n",
       "    .dataframe tbody tr th:only-of-type {\n",
       "        vertical-align: middle;\n",
       "    }\n",
       "\n",
       "    .dataframe tbody tr th {\n",
       "        vertical-align: top;\n",
       "    }\n",
       "\n",
       "    .dataframe thead th {\n",
       "        text-align: right;\n",
       "    }\n",
       "</style>\n",
       "<table border=\"1\" class=\"dataframe\">\n",
       "  <thead>\n",
       "    <tr style=\"text-align: right;\">\n",
       "      <th></th>\n",
       "      <th>Title</th>\n",
       "      <th>Company</th>\n",
       "      <th>Experience</th>\n",
       "      <th>Salary</th>\n",
       "      <th>location</th>\n",
       "    </tr>\n",
       "  </thead>\n",
       "  <tbody>\n",
       "    <tr>\n",
       "      <th>0</th>\n",
       "      <td>Junior Data Scientist</td>\n",
       "      <td>Analytos</td>\n",
       "      <td>0-2 Yrs</td>\n",
       "      <td>Not disclosed</td>\n",
       "      <td>Kolkata, Mumbai, New Delhi, Hyderabad/Secunder...</td>\n",
       "    </tr>\n",
       "    <tr>\n",
       "      <th>1</th>\n",
       "      <td>Data Scientist</td>\n",
       "      <td>Blackbuck\\n3.9\\n1694 Reviews</td>\n",
       "      <td>3-7 Yrs</td>\n",
       "      <td>Not disclosed</td>\n",
       "      <td>Gurgaon/Gurugram, Bangalore/Bengaluru</td>\n",
       "    </tr>\n",
       "    <tr>\n",
       "      <th>2</th>\n",
       "      <td>Data Scientist</td>\n",
       "      <td>Analytos</td>\n",
       "      <td>2-4 Yrs</td>\n",
       "      <td>Not disclosed</td>\n",
       "      <td>Kolkata, Mumbai, New Delhi, Hyderabad/Secunder...</td>\n",
       "    </tr>\n",
       "    <tr>\n",
       "      <th>3</th>\n",
       "      <td>Python and ML Trainer</td>\n",
       "      <td>Thescholar\\n3.0\\n4 Reviews</td>\n",
       "      <td>3-8 Yrs</td>\n",
       "      <td>Not disclosed</td>\n",
       "      <td>Hyderabad/Secunderabad, New Delhi, Pune, Gurga...</td>\n",
       "    </tr>\n",
       "    <tr>\n",
       "      <th>4</th>\n",
       "      <td>Data Scientist</td>\n",
       "      <td>Times Internet\\n3.9\\n468 Reviews</td>\n",
       "      <td>3-8 Yrs</td>\n",
       "      <td>Not disclosed</td>\n",
       "      <td>Noida</td>\n",
       "    </tr>\n",
       "    <tr>\n",
       "      <th>5</th>\n",
       "      <td>Junior Data Scientist</td>\n",
       "      <td>Adidas\\n4.1\\n392 Reviews</td>\n",
       "      <td>1-6 Yrs</td>\n",
       "      <td>Not disclosed</td>\n",
       "      <td>Gurgaon/Gurugram, United States (USA), Bulgaria</td>\n",
       "    </tr>\n",
       "    <tr>\n",
       "      <th>6</th>\n",
       "      <td>Hiring For Data Scientist</td>\n",
       "      <td>Infogain\\n3.6\\n734 Reviews</td>\n",
       "      <td>4-9 Yrs</td>\n",
       "      <td>Not disclosed</td>\n",
       "      <td>Remote</td>\n",
       "    </tr>\n",
       "    <tr>\n",
       "      <th>7</th>\n",
       "      <td>Urgent Hiring -Data Scientist -(SQL, Python, P...</td>\n",
       "      <td>EXL\\n3.8\\n4915 Reviews</td>\n",
       "      <td>2-5 Yrs</td>\n",
       "      <td>5-14 Lacs PA</td>\n",
       "      <td>Delhi / NCR, Noida, Uttar Pradesh, Gurgaon/ Gu...</td>\n",
       "    </tr>\n",
       "    <tr>\n",
       "      <th>8</th>\n",
       "      <td>Data Scientist</td>\n",
       "      <td>Grok</td>\n",
       "      <td>3-6 Yrs</td>\n",
       "      <td>Not disclosed</td>\n",
       "      <td>Hybrid - Delhi / NCR</td>\n",
       "    </tr>\n",
       "    <tr>\n",
       "      <th>9</th>\n",
       "      <td>Associate Data Scientist - ML &amp; NLP</td>\n",
       "      <td>Gartner\\n4.1\\n202 Reviews</td>\n",
       "      <td>2-4 Yrs</td>\n",
       "      <td>Not disclosed</td>\n",
       "      <td>Gurgaon/Gurugram</td>\n",
       "    </tr>\n",
       "  </tbody>\n",
       "</table>\n",
       "</div>"
      ],
      "text/plain": [
       "                                               Title  \\\n",
       "0                              Junior Data Scientist   \n",
       "1                                     Data Scientist   \n",
       "2                                     Data Scientist   \n",
       "3                              Python and ML Trainer   \n",
       "4                                     Data Scientist   \n",
       "5                              Junior Data Scientist   \n",
       "6                          Hiring For Data Scientist   \n",
       "7  Urgent Hiring -Data Scientist -(SQL, Python, P...   \n",
       "8                                     Data Scientist   \n",
       "9                Associate Data Scientist - ML & NLP   \n",
       "\n",
       "                            Company Experience         Salary  \\\n",
       "0                          Analytos    0-2 Yrs  Not disclosed   \n",
       "1      Blackbuck\\n3.9\\n1694 Reviews    3-7 Yrs  Not disclosed   \n",
       "2                          Analytos    2-4 Yrs  Not disclosed   \n",
       "3        Thescholar\\n3.0\\n4 Reviews    3-8 Yrs  Not disclosed   \n",
       "4  Times Internet\\n3.9\\n468 Reviews    3-8 Yrs  Not disclosed   \n",
       "5          Adidas\\n4.1\\n392 Reviews    1-6 Yrs  Not disclosed   \n",
       "6        Infogain\\n3.6\\n734 Reviews    4-9 Yrs  Not disclosed   \n",
       "7            EXL\\n3.8\\n4915 Reviews    2-5 Yrs   5-14 Lacs PA   \n",
       "8                              Grok    3-6 Yrs  Not disclosed   \n",
       "9         Gartner\\n4.1\\n202 Reviews    2-4 Yrs  Not disclosed   \n",
       "\n",
       "                                            location  \n",
       "0  Kolkata, Mumbai, New Delhi, Hyderabad/Secunder...  \n",
       "1              Gurgaon/Gurugram, Bangalore/Bengaluru  \n",
       "2  Kolkata, Mumbai, New Delhi, Hyderabad/Secunder...  \n",
       "3  Hyderabad/Secunderabad, New Delhi, Pune, Gurga...  \n",
       "4                                              Noida  \n",
       "5    Gurgaon/Gurugram, United States (USA), Bulgaria  \n",
       "6                                             Remote  \n",
       "7  Delhi / NCR, Noida, Uttar Pradesh, Gurgaon/ Gu...  \n",
       "8                               Hybrid - Delhi / NCR  \n",
       "9                                   Gurgaon/Gurugram  "
      ]
     },
     "execution_count": 76,
     "metadata": {},
     "output_type": "execute_result"
    }
   ],
   "source": [
    "#making dataframes\n",
    "\n",
    "import pandas as pd\n",
    "jobdata_new=pd.DataFrame({'Title':title_new[0:10],'Company':company_name_new[0:10],'Experience':experience_new[0:10],'Salary':salary_new[0:10],'location':location_new[0:10]})\n",
    "jobdata_new\n",
    "\n"
   ]
  },
  {
   "cell_type": "markdown",
   "id": "00bdb202",
   "metadata": {},
   "source": [
    "# Q4: Scrape data of first 100 sunglasses listings on flipkart.com. You have to scrape four attributes:\n",
    "1. Brand\n",
    "2. ProductDescription\n",
    "3. Price"
   ]
  },
  {
   "cell_type": "code",
   "execution_count": 81,
   "id": "cfe86129",
   "metadata": {},
   "outputs": [],
   "source": [
    "#connecting to website\n",
    "driver.get(\"https://www.flipkart.com/\")"
   ]
  },
  {
   "cell_type": "code",
   "execution_count": 82,
   "id": "865f8042",
   "metadata": {},
   "outputs": [],
   "source": [
    "#searching for the sunglasses \n",
    "glass=driver.find_element(By.CLASS_NAME,\"_3704LK\")\n",
    "glass.send_keys(\"sunglasses\")"
   ]
  },
  {
   "cell_type": "code",
   "execution_count": 84,
   "id": "d5c0ca7e",
   "metadata": {},
   "outputs": [],
   "source": [
    "#clicking on search button\n",
    "\n",
    "searchflip=driver.find_element(By.CLASS_NAME,\"L0Z3Pu\")\n",
    "searchflip.click()"
   ]
  },
  {
   "cell_type": "code",
   "execution_count": 93,
   "id": "418416a2",
   "metadata": {},
   "outputs": [],
   "source": [
    "#scraping brand names,product description,price and discounts from webresults\n",
    "\n",
    "##creating empty list\n",
    "\n",
    "Brand_name=[]\n",
    "Prod_desc=[]\n",
    "Price=[]\n",
    "Discount=[]\n",
    "\n",
    "\n",
    "#scraping datas from all 3 pages \n",
    "\n",
    "for i in range(3):\n",
    "    br_name=driver.find_elements(By.XPATH,'//div[@class=\"_2WkVRV\"]')\n",
    "    pr_desc=driver.find_elements(By.XPATH,\"//a[@class='IRpwTa']\")\n",
    "    price =driver.find_elements(By.XPATH,\"//div[@class='_30jeq3']\")\n",
    "    discount=driver.find_elements(By.XPATH,\"//div[@class='_3Ay6Sb']\")\n",
    "    \n",
    "    for id1 in br_name:\n",
    "        Brand_name.append(id1.text)\n",
    "    Brand_name[:100]    \n",
    "    \n",
    "    \n",
    "    \n",
    "    for id2 in pr_desc:\n",
    "        Prod_desc.append(id2.text)\n",
    "    Prod_desc[:100] \n",
    "    \n",
    "    \n",
    "    for id3 in price:\n",
    "        Price.append(id3.text)\n",
    "    Price[:100] \n",
    "    \n",
    "    \n",
    "    for id4 in discount:\n",
    "        Discount.append(id4.text)\n",
    "    Discount[:100]\n",
    "\n",
    "\n"
   ]
  },
  {
   "cell_type": "code",
   "execution_count": 86,
   "id": "1183c108",
   "metadata": {},
   "outputs": [
    {
     "data": {
      "text/plain": [
       "['CRYSTAL CART',\n",
       " 'ROYAL SON',\n",
       " 'SDEEP',\n",
       " 'SRPM',\n",
       " 'ROADWAY',\n",
       " 'Fastrack',\n",
       " 'Douceur',\n",
       " 'HK ENTERPRISE',\n",
       " 'SRPM',\n",
       " 'Elligator',\n",
       " 'HK ENTERPRISE',\n",
       " 'HK ENTERPRISE',\n",
       " 'iCopertina',\n",
       " 'Sheomy Fashion',\n",
       " 'Fastrack',\n",
       " 'Elligator',\n",
       " 'john jacobs',\n",
       " 'john jacobs',\n",
       " 'Hashtag eyewear',\n",
       " 'DEIXELS',\n",
       " 'ROZZETTA CRAFT',\n",
       " 'OAKLEY',\n",
       " 'Fastrack',\n",
       " 'iCopertina',\n",
       " 'halfmoon',\n",
       " 'PIRASO',\n",
       " 'ROYAL SON',\n",
       " 'ROYAL SON',\n",
       " 'Mayhem',\n",
       " 'VINCENT CHASE',\n",
       " 'john jacobs',\n",
       " 'john jacobs',\n",
       " 'Elligator',\n",
       " 'Elligator',\n",
       " 'METRONAUT',\n",
       " 'iCopertina',\n",
       " 'john jacobs',\n",
       " 'john jacobs',\n",
       " 'ROADWAY',\n",
       " 'ROADWAY',\n",
       " 'CRYSTAL CART',\n",
       " 'ROYAL SON',\n",
       " 'SDEEP',\n",
       " 'SRPM',\n",
       " 'ROADWAY',\n",
       " 'Fastrack',\n",
       " 'Douceur',\n",
       " 'HK ENTERPRISE',\n",
       " 'SRPM',\n",
       " 'Elligator',\n",
       " 'HK ENTERPRISE',\n",
       " 'HK ENTERPRISE',\n",
       " 'iCopertina',\n",
       " 'Sheomy Fashion',\n",
       " 'Fastrack',\n",
       " 'Elligator',\n",
       " 'john jacobs',\n",
       " 'john jacobs',\n",
       " 'Hashtag eyewear',\n",
       " 'DEIXELS',\n",
       " 'ROZZETTA CRAFT',\n",
       " 'OAKLEY',\n",
       " 'Fastrack',\n",
       " 'iCopertina',\n",
       " 'halfmoon',\n",
       " 'PIRASO',\n",
       " 'ROYAL SON',\n",
       " 'ROYAL SON',\n",
       " 'Mayhem',\n",
       " 'VINCENT CHASE',\n",
       " 'john jacobs',\n",
       " 'john jacobs',\n",
       " 'Elligator',\n",
       " 'Elligator',\n",
       " 'METRONAUT',\n",
       " 'iCopertina',\n",
       " 'john jacobs',\n",
       " 'john jacobs',\n",
       " 'ROADWAY',\n",
       " 'ROADWAY',\n",
       " 'CRYSTAL CART',\n",
       " 'ROYAL SON',\n",
       " 'SDEEP',\n",
       " 'SRPM',\n",
       " 'ROADWAY',\n",
       " 'Fastrack',\n",
       " 'Douceur',\n",
       " 'HK ENTERPRISE',\n",
       " 'SRPM',\n",
       " 'Elligator',\n",
       " 'HK ENTERPRISE',\n",
       " 'HK ENTERPRISE',\n",
       " 'iCopertina',\n",
       " 'Sheomy Fashion',\n",
       " 'Fastrack',\n",
       " 'Elligator',\n",
       " 'john jacobs',\n",
       " 'john jacobs',\n",
       " 'Hashtag eyewear',\n",
       " 'DEIXELS']"
      ]
     },
     "execution_count": 86,
     "metadata": {},
     "output_type": "execute_result"
    }
   ],
   "source": [
    "Brand_name[:100]"
   ]
  },
  {
   "cell_type": "code",
   "execution_count": 87,
   "id": "f17aed7b",
   "metadata": {},
   "outputs": [
    {
     "name": "stdout",
     "output_type": "stream",
     "text": [
      "100\n"
     ]
    }
   ],
   "source": [
    "print(len(Brand_name[:100]))"
   ]
  },
  {
   "cell_type": "code",
   "execution_count": 15,
   "id": "ebd9c20c",
   "metadata": {},
   "outputs": [],
   "source": []
  },
  {
   "cell_type": "code",
   "execution_count": 88,
   "id": "41a25b68",
   "metadata": {},
   "outputs": [
    {
     "data": {
      "text/plain": [
       "['Polarized, UV Protection, Gradient, Riding Glasses Rect...',\n",
       " 'UV Protection Rectangular, Retro Square Sunglasses (58)',\n",
       " 'UV Protection, Others Spectacle Sunglasses (Free Size)',\n",
       " 'UV Protection Wayfarer Sunglasses (50)',\n",
       " 'UV Protection Wayfarer, Sports, Spectacle , Retro Squar...',\n",
       " 'UV Protection Rectangular Sunglasses (Free Size)',\n",
       " 'Mirrored, UV Protection Aviator Sunglasses (58)',\n",
       " 'UV Protection Wayfarer Sunglasses (50)',\n",
       " 'UV Protection Cat-eye, Retro Square, Oval, Round Sungla...',\n",
       " 'Mirrored, UV Protection Aviator Sunglasses (58)',\n",
       " 'Mirrored, UV Protection Aviator Sunglasses (58)',\n",
       " 'UV Protection Retro Square Sunglasses (Free Size)',\n",
       " 'Mirrored Rectangular Sunglasses (Free Size)',\n",
       " 'UV Protection Wayfarer Sunglasses (58)',\n",
       " 'UV Protection Round Sunglasses (53)',\n",
       " 'UV Protection Retro Square Sunglasses (51)',\n",
       " 'Polarized, UV Protection Round Sunglasses (48)',\n",
       " 'Polarized, UV Protection, Riding Glasses Wayfarer Sungl...',\n",
       " 'UV Protection, Gradient Rectangular Sunglasses (Free Si...',\n",
       " 'Encoder Rectangular Sunglass',\n",
       " 'UV Protection Aviator Sunglasses (Free Size)',\n",
       " 'UV Protection Retro Square Sunglasses (Free Size)',\n",
       " 'UV Protection, Gradient, Riding Glasses Retro Square Su...',\n",
       " 'UV Protection Retro Square Sunglasses (52)',\n",
       " 'Polarized, UV Protection Retro Square Sunglasses (62)',\n",
       " 'Polarized, UV Protection Retro Square Sunglasses (61)',\n",
       " 'UV Protection Aviator Sunglasses (57)',\n",
       " 'UV Protection Wayfarer Sunglasses (59)',\n",
       " 'UV Protection Aviator Sunglasses (59)',\n",
       " 'UV Protection Retro Square Sunglasses (52)',\n",
       " 'UV Protection Round Sunglasses (54)',\n",
       " 'UV Protection Sunglass',\n",
       " 'UV Protection Spectacle Sunglasses (Free Size)',\n",
       " 'UV Protection Retro Square Sunglasses (55)',\n",
       " 'UV Protection Round Sunglasses (53)',\n",
       " 'UV Protection Retro Square Sunglasses (Free Size)',\n",
       " 'UV Protection Retro Square Sunglasses (Free Size)',\n",
       " 'Polarized, UV Protection, Gradient, Riding Glasses Rect...',\n",
       " 'UV Protection Rectangular, Retro Square Sunglasses (58)',\n",
       " 'UV Protection, Others Spectacle Sunglasses (Free Size)',\n",
       " 'UV Protection Wayfarer Sunglasses (50)',\n",
       " 'UV Protection Wayfarer, Sports, Spectacle , Retro Squar...',\n",
       " 'UV Protection Rectangular Sunglasses (Free Size)',\n",
       " 'Mirrored, UV Protection Aviator Sunglasses (58)',\n",
       " 'UV Protection Wayfarer Sunglasses (50)',\n",
       " 'UV Protection Cat-eye, Retro Square, Oval, Round Sungla...',\n",
       " 'Mirrored, UV Protection Aviator Sunglasses (58)',\n",
       " 'Mirrored, UV Protection Aviator Sunglasses (58)',\n",
       " 'UV Protection Retro Square Sunglasses (Free Size)',\n",
       " 'Mirrored Rectangular Sunglasses (Free Size)',\n",
       " 'UV Protection Wayfarer Sunglasses (58)',\n",
       " 'UV Protection Round Sunglasses (53)',\n",
       " 'UV Protection Retro Square Sunglasses (51)',\n",
       " 'Polarized, UV Protection Round Sunglasses (48)',\n",
       " 'Polarized, UV Protection, Riding Glasses Wayfarer Sungl...',\n",
       " 'UV Protection, Gradient Rectangular Sunglasses (Free Si...',\n",
       " 'Encoder Rectangular Sunglass',\n",
       " 'UV Protection Aviator Sunglasses (Free Size)',\n",
       " 'UV Protection Retro Square Sunglasses (Free Size)',\n",
       " 'UV Protection, Gradient, Riding Glasses Retro Square Su...',\n",
       " 'UV Protection Retro Square Sunglasses (52)',\n",
       " 'Polarized, UV Protection Retro Square Sunglasses (62)',\n",
       " 'Polarized, UV Protection Retro Square Sunglasses (61)',\n",
       " 'UV Protection Aviator Sunglasses (57)',\n",
       " 'UV Protection Wayfarer Sunglasses (59)',\n",
       " 'UV Protection Aviator Sunglasses (59)',\n",
       " 'UV Protection Retro Square Sunglasses (52)',\n",
       " 'UV Protection Round Sunglasses (54)',\n",
       " 'UV Protection Sunglass',\n",
       " 'UV Protection Spectacle Sunglasses (Free Size)',\n",
       " 'UV Protection Retro Square Sunglasses (55)',\n",
       " 'UV Protection Round Sunglasses (53)',\n",
       " 'UV Protection Retro Square Sunglasses (Free Size)',\n",
       " 'UV Protection Retro Square Sunglasses (Free Size)',\n",
       " 'Polarized, UV Protection, Gradient, Riding Glasses Rect...',\n",
       " 'UV Protection Rectangular, Retro Square Sunglasses (58)',\n",
       " 'UV Protection, Others Spectacle Sunglasses (Free Size)',\n",
       " 'UV Protection Wayfarer Sunglasses (50)',\n",
       " 'UV Protection Wayfarer, Sports, Spectacle , Retro Squar...',\n",
       " 'UV Protection Rectangular Sunglasses (Free Size)',\n",
       " 'Mirrored, UV Protection Aviator Sunglasses (58)',\n",
       " 'UV Protection Wayfarer Sunglasses (50)',\n",
       " 'UV Protection Cat-eye, Retro Square, Oval, Round Sungla...',\n",
       " 'Mirrored, UV Protection Aviator Sunglasses (58)',\n",
       " 'Mirrored, UV Protection Aviator Sunglasses (58)',\n",
       " 'UV Protection Retro Square Sunglasses (Free Size)',\n",
       " 'Mirrored Rectangular Sunglasses (Free Size)',\n",
       " 'UV Protection Wayfarer Sunglasses (58)',\n",
       " 'UV Protection Round Sunglasses (53)',\n",
       " 'UV Protection Retro Square Sunglasses (51)',\n",
       " 'Polarized, UV Protection Round Sunglasses (48)',\n",
       " 'Polarized, UV Protection, Riding Glasses Wayfarer Sungl...',\n",
       " 'UV Protection, Gradient Rectangular Sunglasses (Free Si...',\n",
       " 'Encoder Rectangular Sunglass',\n",
       " 'UV Protection Aviator Sunglasses (Free Size)',\n",
       " 'UV Protection Retro Square Sunglasses (Free Size)',\n",
       " 'UV Protection, Gradient, Riding Glasses Retro Square Su...',\n",
       " 'UV Protection Retro Square Sunglasses (52)',\n",
       " 'Polarized, UV Protection Retro Square Sunglasses (62)',\n",
       " 'Polarized, UV Protection Retro Square Sunglasses (61)']"
      ]
     },
     "execution_count": 88,
     "metadata": {},
     "output_type": "execute_result"
    }
   ],
   "source": [
    "Prod_desc[:100]"
   ]
  },
  {
   "cell_type": "code",
   "execution_count": 94,
   "id": "c3e00ae7",
   "metadata": {},
   "outputs": [
    {
     "data": {
      "text/plain": [
       "['₹379',\n",
       " '₹497',\n",
       " '₹185',\n",
       " '₹204',\n",
       " '₹294',\n",
       " '₹519',\n",
       " '₹599',\n",
       " '₹799',\n",
       " '₹207',\n",
       " '₹179',\n",
       " '₹789',\n",
       " '₹798',\n",
       " '₹199',\n",
       " '₹199',\n",
       " '₹699',\n",
       " '₹214',\n",
       " '₹3,134',\n",
       " '₹6,000',\n",
       " '₹699',\n",
       " '₹199',\n",
       " '₹397',\n",
       " '₹7,199',\n",
       " '₹539',\n",
       " '₹199',\n",
       " '₹198',\n",
       " '₹252',\n",
       " '₹899',\n",
       " '₹664',\n",
       " '₹1,299',\n",
       " '₹569',\n",
       " '₹2,089',\n",
       " '₹2,089',\n",
       " '₹306',\n",
       " '₹168',\n",
       " '₹249',\n",
       " '₹199',\n",
       " '₹2,375',\n",
       " '₹2,375',\n",
       " '₹219',\n",
       " '₹285',\n",
       " '₹379',\n",
       " '₹497',\n",
       " '₹185',\n",
       " '₹204',\n",
       " '₹294',\n",
       " '₹519',\n",
       " '₹599',\n",
       " '₹799',\n",
       " '₹207',\n",
       " '₹179',\n",
       " '₹789',\n",
       " '₹798',\n",
       " '₹199',\n",
       " '₹199',\n",
       " '₹699',\n",
       " '₹214',\n",
       " '₹3,134',\n",
       " '₹6,000',\n",
       " '₹699',\n",
       " '₹199',\n",
       " '₹397',\n",
       " '₹7,199',\n",
       " '₹539',\n",
       " '₹199',\n",
       " '₹198',\n",
       " '₹252',\n",
       " '₹899',\n",
       " '₹664',\n",
       " '₹1,299',\n",
       " '₹569',\n",
       " '₹2,089',\n",
       " '₹2,089',\n",
       " '₹306',\n",
       " '₹168',\n",
       " '₹249',\n",
       " '₹199',\n",
       " '₹2,375',\n",
       " '₹2,375',\n",
       " '₹219',\n",
       " '₹285',\n",
       " '₹379',\n",
       " '₹497',\n",
       " '₹185',\n",
       " '₹204',\n",
       " '₹294',\n",
       " '₹519',\n",
       " '₹599',\n",
       " '₹799',\n",
       " '₹207',\n",
       " '₹179',\n",
       " '₹789',\n",
       " '₹798',\n",
       " '₹199',\n",
       " '₹199',\n",
       " '₹699',\n",
       " '₹214',\n",
       " '₹3,134',\n",
       " '₹6,000',\n",
       " '₹699',\n",
       " '₹199']"
      ]
     },
     "execution_count": 94,
     "metadata": {},
     "output_type": "execute_result"
    }
   ],
   "source": [
    " Price[:100]\n"
   ]
  },
  {
   "cell_type": "code",
   "execution_count": 97,
   "id": "06cff45a",
   "metadata": {},
   "outputs": [
    {
     "name": "stdout",
     "output_type": "stream",
     "text": [
      "100 100 100\n"
     ]
    }
   ],
   "source": [
    "print(len(Price[:100]),len(Prod_desc[:100]),len(Brand_name[:100]))"
   ]
  },
  {
   "cell_type": "code",
   "execution_count": 91,
   "id": "0e30fced",
   "metadata": {},
   "outputs": [
    {
     "data": {
      "text/plain": [
       "['74% off',\n",
       " '66% off',\n",
       " '80% off',\n",
       " '84% off',\n",
       " '77% off',\n",
       " '42% off',\n",
       " '40% off',\n",
       " '81% off',\n",
       " '84% off',\n",
       " '70% off',\n",
       " '81% off',\n",
       " '81% off',\n",
       " '80% off',\n",
       " '55% off',\n",
       " '36% off',\n",
       " '78% off',\n",
       " '47% off',\n",
       " '36% off',\n",
       " '66% off',\n",
       " '80% off',\n",
       " '49% off',\n",
       " '40% off',\n",
       " '80% off',\n",
       " '80% off',\n",
       " '84% off',\n",
       " '55% off',\n",
       " '55% off',\n",
       " '31% off',\n",
       " '71% off',\n",
       " '58% off',\n",
       " '65% off',\n",
       " '87% off',\n",
       " '87% off',\n",
       " '80% off',\n",
       " '80% off',\n",
       " '47% off',\n",
       " '47% off',\n",
       " '78% off',\n",
       " '78% off',\n",
       " '74% off',\n",
       " '66% off',\n",
       " '80% off',\n",
       " '84% off',\n",
       " '77% off',\n",
       " '42% off',\n",
       " '40% off',\n",
       " '81% off',\n",
       " '84% off',\n",
       " '70% off',\n",
       " '81% off',\n",
       " '81% off',\n",
       " '80% off',\n",
       " '55% off',\n",
       " '36% off',\n",
       " '78% off',\n",
       " '47% off',\n",
       " '36% off',\n",
       " '66% off',\n",
       " '80% off',\n",
       " '49% off',\n",
       " '40% off',\n",
       " '80% off',\n",
       " '80% off',\n",
       " '84% off',\n",
       " '55% off',\n",
       " '55% off',\n",
       " '31% off',\n",
       " '71% off',\n",
       " '58% off',\n",
       " '65% off',\n",
       " '87% off',\n",
       " '87% off',\n",
       " '80% off',\n",
       " '80% off',\n",
       " '47% off',\n",
       " '47% off',\n",
       " '78% off',\n",
       " '78% off',\n",
       " '74% off',\n",
       " '66% off',\n",
       " '80% off',\n",
       " '84% off',\n",
       " '77% off',\n",
       " '42% off',\n",
       " '40% off',\n",
       " '81% off',\n",
       " '84% off',\n",
       " '70% off',\n",
       " '81% off',\n",
       " '81% off',\n",
       " '80% off',\n",
       " '55% off',\n",
       " '36% off',\n",
       " '78% off',\n",
       " '47% off',\n",
       " '36% off',\n",
       " '66% off',\n",
       " '80% off',\n",
       " '49% off',\n",
       " '40% off']"
      ]
     },
     "execution_count": 91,
     "metadata": {},
     "output_type": "execute_result"
    }
   ],
   "source": [
    "Discount[:100]"
   ]
  },
  {
   "cell_type": "code",
   "execution_count": 104,
   "id": "373462ee",
   "metadata": {},
   "outputs": [],
   "source": [
    "#creating Dataframe for the sunglasses from flipkart\n",
    "\n",
    "import pandas as pd\n",
    "\n",
    "sunglass=pd.DataFrame({})\n",
    "sunglass['Brand_name']=Brand_name[:100]\n",
    "sunglass['Price']=Price[:100]\n",
    "sunglass['Product_desc']=Prod_desc[:100]\n",
    "sunglass['Discount']=Discount[:100]\n",
    "\n",
    "#dfsunglass=pd.DataFrame[{'Brandname': Brand_name[:100],'Product_desc': Prod_desc[:100],'Price': Price[:100]}]"
   ]
  },
  {
   "cell_type": "code",
   "execution_count": 106,
   "id": "2fc6ff2b",
   "metadata": {},
   "outputs": [
    {
     "data": {
      "text/html": [
       "<div>\n",
       "<style scoped>\n",
       "    .dataframe tbody tr th:only-of-type {\n",
       "        vertical-align: middle;\n",
       "    }\n",
       "\n",
       "    .dataframe tbody tr th {\n",
       "        vertical-align: top;\n",
       "    }\n",
       "\n",
       "    .dataframe thead th {\n",
       "        text-align: right;\n",
       "    }\n",
       "</style>\n",
       "<table border=\"1\" class=\"dataframe\">\n",
       "  <thead>\n",
       "    <tr style=\"text-align: right;\">\n",
       "      <th></th>\n",
       "      <th>Brand_name</th>\n",
       "      <th>Price</th>\n",
       "      <th>Product_desc</th>\n",
       "      <th>Discount</th>\n",
       "    </tr>\n",
       "  </thead>\n",
       "  <tbody>\n",
       "    <tr>\n",
       "      <th>0</th>\n",
       "      <td>CRYSTAL CART</td>\n",
       "      <td>₹379</td>\n",
       "      <td>Polarized, UV Protection, Gradient, Riding Gla...</td>\n",
       "      <td>74% off</td>\n",
       "    </tr>\n",
       "    <tr>\n",
       "      <th>1</th>\n",
       "      <td>ROYAL SON</td>\n",
       "      <td>₹497</td>\n",
       "      <td>UV Protection Rectangular, Retro Square Sungla...</td>\n",
       "      <td>66% off</td>\n",
       "    </tr>\n",
       "    <tr>\n",
       "      <th>2</th>\n",
       "      <td>SDEEP</td>\n",
       "      <td>₹185</td>\n",
       "      <td>UV Protection, Others Spectacle Sunglasses (Fr...</td>\n",
       "      <td>80% off</td>\n",
       "    </tr>\n",
       "    <tr>\n",
       "      <th>3</th>\n",
       "      <td>SRPM</td>\n",
       "      <td>₹204</td>\n",
       "      <td>UV Protection Wayfarer Sunglasses (50)</td>\n",
       "      <td>84% off</td>\n",
       "    </tr>\n",
       "    <tr>\n",
       "      <th>4</th>\n",
       "      <td>ROADWAY</td>\n",
       "      <td>₹294</td>\n",
       "      <td>UV Protection Wayfarer, Sports, Spectacle , Re...</td>\n",
       "      <td>77% off</td>\n",
       "    </tr>\n",
       "    <tr>\n",
       "      <th>...</th>\n",
       "      <td>...</td>\n",
       "      <td>...</td>\n",
       "      <td>...</td>\n",
       "      <td>...</td>\n",
       "    </tr>\n",
       "    <tr>\n",
       "      <th>95</th>\n",
       "      <td>Elligator</td>\n",
       "      <td>₹214</td>\n",
       "      <td>UV Protection Retro Square Sunglasses (Free Size)</td>\n",
       "      <td>36% off</td>\n",
       "    </tr>\n",
       "    <tr>\n",
       "      <th>96</th>\n",
       "      <td>john jacobs</td>\n",
       "      <td>₹3,134</td>\n",
       "      <td>UV Protection, Gradient, Riding Glasses Retro ...</td>\n",
       "      <td>66% off</td>\n",
       "    </tr>\n",
       "    <tr>\n",
       "      <th>97</th>\n",
       "      <td>john jacobs</td>\n",
       "      <td>₹6,000</td>\n",
       "      <td>UV Protection Retro Square Sunglasses (52)</td>\n",
       "      <td>80% off</td>\n",
       "    </tr>\n",
       "    <tr>\n",
       "      <th>98</th>\n",
       "      <td>Hashtag eyewear</td>\n",
       "      <td>₹699</td>\n",
       "      <td>Polarized, UV Protection Retro Square Sunglass...</td>\n",
       "      <td>49% off</td>\n",
       "    </tr>\n",
       "    <tr>\n",
       "      <th>99</th>\n",
       "      <td>DEIXELS</td>\n",
       "      <td>₹199</td>\n",
       "      <td>Polarized, UV Protection Retro Square Sunglass...</td>\n",
       "      <td>40% off</td>\n",
       "    </tr>\n",
       "  </tbody>\n",
       "</table>\n",
       "<p>100 rows × 4 columns</p>\n",
       "</div>"
      ],
      "text/plain": [
       "         Brand_name   Price  \\\n",
       "0      CRYSTAL CART    ₹379   \n",
       "1         ROYAL SON    ₹497   \n",
       "2             SDEEP    ₹185   \n",
       "3              SRPM    ₹204   \n",
       "4           ROADWAY    ₹294   \n",
       "..              ...     ...   \n",
       "95        Elligator    ₹214   \n",
       "96      john jacobs  ₹3,134   \n",
       "97      john jacobs  ₹6,000   \n",
       "98  Hashtag eyewear    ₹699   \n",
       "99          DEIXELS    ₹199   \n",
       "\n",
       "                                         Product_desc Discount  \n",
       "0   Polarized, UV Protection, Gradient, Riding Gla...  74% off  \n",
       "1   UV Protection Rectangular, Retro Square Sungla...  66% off  \n",
       "2   UV Protection, Others Spectacle Sunglasses (Fr...  80% off  \n",
       "3              UV Protection Wayfarer Sunglasses (50)  84% off  \n",
       "4   UV Protection Wayfarer, Sports, Spectacle , Re...  77% off  \n",
       "..                                                ...      ...  \n",
       "95  UV Protection Retro Square Sunglasses (Free Size)  36% off  \n",
       "96  UV Protection, Gradient, Riding Glasses Retro ...  66% off  \n",
       "97         UV Protection Retro Square Sunglasses (52)  80% off  \n",
       "98  Polarized, UV Protection Retro Square Sunglass...  49% off  \n",
       "99  Polarized, UV Protection Retro Square Sunglass...  40% off  \n",
       "\n",
       "[100 rows x 4 columns]"
      ]
     },
     "execution_count": 106,
     "metadata": {},
     "output_type": "execute_result"
    }
   ],
   "source": [
    "#displaying the 100 datas results\n",
    "sunglass"
   ]
  },
  {
   "cell_type": "markdown",
   "id": "c0b53748",
   "metadata": {},
   "source": [
    "# Q5: Scrape 100 reviews data from flipkart.com for iphone11 phone. You have to go the link:\n",
    "https://www.flipkart.com/apple-iphone-11-black-64-gb/productreviews/itm4e5041ba101fd?pid=MOBFWQ6BXGJCEYNY&lid=LSTMOBFWQ6BXGJCEYNYZXSHRJ&market\n",
    "place=FLIPKART\n",
    "These are:\n",
    "1. Rating\n",
    "2. Review summary\n",
    "3. Full review\n",
    "4. You have to scrape this data for first 100reviews"
   ]
  },
  {
   "cell_type": "code",
   "execution_count": 5,
   "id": "893f6e69",
   "metadata": {},
   "outputs": [],
   "source": [
    "driver.get(\"https://www.flipkart.com/apple-iphone-11-black-64-gb/p/itm4e5041ba101fd?pid=MOBFWQ6BXGJCEYNY&lid=LSTMOBFWQ6BXGJCEYNYZE3ENS&marketplace=FLIPKART&q=iphone+11+black+64&store=tyy%2F4io&srno=s_1_1&otracker=AS_Query_OrganicAutoSuggest_4_13_na_na_ps&otracker1=AS_Query_OrganicAutoSuggest_4_13_na_na_ps&fm=Search&iid=dd21a0e7-fd84-4dcc-bff6-2368424715c5.MOBFWQ6BXGJCEYNY.SEARCH&ppt=sp&ppn=sp&ssid=kuzqnmb7hs0000001691136789476&qH=a7bbd4f518dc07fa\")"
   ]
  },
  {
   "cell_type": "code",
   "execution_count": 72,
   "id": "7535e718",
   "metadata": {},
   "outputs": [],
   "source": [
    "#for scrapping the number of stars\n",
    "\n",
    "stars=[]\n",
    "\n",
    "\n",
    "sta=driver.find_elements(By.XPATH,'//div[@class=\"_3LWZlK _1BLPMq\"]')\n",
    "\n",
    "for j in sta:\n",
    "    stars.append(j.text)  \n",
    "                            \n"
   ]
  },
  {
   "cell_type": "code",
   "execution_count": 73,
   "id": "26455765",
   "metadata": {},
   "outputs": [
    {
     "data": {
      "text/plain": [
       "['5', '3', '5', '5', '5', '5', '3']"
      ]
     },
     "execution_count": 73,
     "metadata": {},
     "output_type": "execute_result"
    }
   ],
   "source": [
    "stars"
   ]
  },
  {
   "cell_type": "code",
   "execution_count": null,
   "id": "4c5600f6",
   "metadata": {},
   "outputs": [],
   "source": []
  },
  {
   "cell_type": "markdown",
   "id": "2cf2b065",
   "metadata": {},
   "source": [
    "# Q6: Scrape data forfirst 100 sneakers you find when you visit flipkart.com and search for “sneakers” in the\n",
    "search field.\n",
    "You have to scrape 3 attributes of each sneaker:\n",
    "1. Brand\n",
    "2. ProductDescription\n",
    "3. Price\n",
    "As shown in the below image, you have to scrape the above attributes"
   ]
  },
  {
   "cell_type": "code",
   "execution_count": 37,
   "id": "1d17428b",
   "metadata": {},
   "outputs": [],
   "source": [
    "#connecting to webdriver\n",
    "driver = webdriver.Chrome(service=Service(ChromeDriverManager().install()))"
   ]
  },
  {
   "cell_type": "code",
   "execution_count": 38,
   "id": "4f2e47cb",
   "metadata": {},
   "outputs": [],
   "source": [
    "url=\"https://www.flipkart.com/\"\n",
    "driver.get(url)"
   ]
  },
  {
   "cell_type": "code",
   "execution_count": 49,
   "id": "56781fac",
   "metadata": {},
   "outputs": [],
   "source": [
    "#searching for the sneakers\n",
    "snk=driver.find_element(By.CLASS_NAME,\"_3704LK\")\n",
    "snk.send_keys(\"sneakers\")"
   ]
  },
  {
   "cell_type": "code",
   "execution_count": 50,
   "id": "b50c5c82",
   "metadata": {},
   "outputs": [],
   "source": [
    "#clicking on search button\n",
    "\n",
    "searchflip=driver.find_element(By.CLASS_NAME,\"L0Z3Pu\")\n",
    "searchflip.click()"
   ]
  },
  {
   "cell_type": "code",
   "execution_count": 55,
   "id": "d4a95b14",
   "metadata": {},
   "outputs": [],
   "source": [
    "#creating empty list\n",
    "Brand_name1=[]\n",
    "Price1=[]\n",
    "Prod_desc1=[]"
   ]
  },
  {
   "cell_type": "code",
   "execution_count": 64,
   "id": "650b7d65",
   "metadata": {},
   "outputs": [],
   "source": [
    "for i in range(1,2,3):\n",
    "    br_name=driver.find_elements(By.XPATH,\"//div[@class='_2WkVRV']\")\n",
    "    \n",
    "    pd_desc=driver.find_elements(By.XPATH,\"//a[@class='IRpwTa']\")\n",
    "    price =driver.find_elements(By.XPATH,\"//div[@class='_25b18c']\")\n",
    "    \n",
    "    \n",
    "    \n",
    "for j  in br_name:\n",
    "        Brand_name1.append(j.text)\n",
    "        Brand_name1    \n",
    "        \n",
    "for k in pd_desc:\n",
    "    Prod_desc1.append(k.text)\n",
    "    Prod_desc1 \n",
    "    \n",
    "for l in price:\n",
    "    Price1.append(l.text)\n",
    "    Price1\n",
    "    "
   ]
  },
  {
   "cell_type": "code",
   "execution_count": 74,
   "id": "6f24b390",
   "metadata": {},
   "outputs": [
    {
     "data": {
      "text/plain": [
       "['BRUTON',\n",
       " 'K- FOOTLANCE',\n",
       " 'aadi',\n",
       " 'URBANBOX',\n",
       " 'BRUTON',\n",
       " 'JACK & JONES',\n",
       " 'BIRDE',\n",
       " 'kardam&sons',\n",
       " 'Nobelite',\n",
       " 'LE GREEM',\n",
       " 'HOTSTYLE',\n",
       " 'K- FOOTLANCE',\n",
       " 'RED TAPE',\n",
       " 'Sparx',\n",
       " 'U.S. POLO ASSN.',\n",
       " 'aadi',\n",
       " 'HOTSTYLE',\n",
       " 'kardam&sons',\n",
       " 'BIRDE',\n",
       " 'U.S. POLO ASSN.',\n",
       " 'RapidBox',\n",
       " 'ATOM',\n",
       " 'LE GREEM',\n",
       " 'RED TAPE',\n",
       " 'PUMA',\n",
       " 'Kraasa',\n",
       " 'ADIDAS',\n",
       " 'RapidBox',\n",
       " 'PUMA',\n",
       " 'ADIDAS',\n",
       " 'asian',\n",
       " 'kardam&sons',\n",
       " 'Mast & Harbour',\n",
       " 'aadi',\n",
       " 'HIGHLANDER',\n",
       " 'PUMA',\n",
       " 'RapidBox',\n",
       " 'RapidBox',\n",
       " 'Kraasa',\n",
       " 'HIGHLANDER',\n",
       " 'BRUTON',\n",
       " 'K- FOOTLANCE',\n",
       " 'aadi',\n",
       " 'URBANBOX',\n",
       " 'BRUTON',\n",
       " 'JACK & JONES',\n",
       " 'BIRDE',\n",
       " 'kardam&sons',\n",
       " 'Nobelite',\n",
       " 'LE GREEM',\n",
       " 'HOTSTYLE',\n",
       " 'K- FOOTLANCE',\n",
       " 'RED TAPE',\n",
       " 'Sparx',\n",
       " 'U.S. POLO ASSN.',\n",
       " 'aadi',\n",
       " 'HOTSTYLE',\n",
       " 'kardam&sons',\n",
       " 'BIRDE',\n",
       " 'U.S. POLO ASSN.',\n",
       " 'RapidBox',\n",
       " 'ATOM',\n",
       " 'LE GREEM',\n",
       " 'RED TAPE',\n",
       " 'PUMA',\n",
       " 'Kraasa',\n",
       " 'ADIDAS',\n",
       " 'RapidBox',\n",
       " 'PUMA',\n",
       " 'ADIDAS',\n",
       " 'asian',\n",
       " 'kardam&sons',\n",
       " 'Mast & Harbour',\n",
       " 'aadi',\n",
       " 'HIGHLANDER',\n",
       " 'PUMA',\n",
       " 'RapidBox',\n",
       " 'RapidBox',\n",
       " 'Kraasa',\n",
       " 'HIGHLANDER',\n",
       " 'BRUTON',\n",
       " 'K- FOOTLANCE',\n",
       " 'aadi',\n",
       " 'URBANBOX',\n",
       " 'BRUTON',\n",
       " 'JACK & JONES',\n",
       " 'BIRDE',\n",
       " 'kardam&sons',\n",
       " 'Nobelite',\n",
       " 'LE GREEM',\n",
       " 'HOTSTYLE',\n",
       " 'K- FOOTLANCE',\n",
       " 'RED TAPE',\n",
       " 'Sparx',\n",
       " 'U.S. POLO ASSN.',\n",
       " 'aadi',\n",
       " 'HOTSTYLE',\n",
       " 'kardam&sons',\n",
       " 'BIRDE',\n",
       " 'U.S. POLO ASSN.']"
      ]
     },
     "execution_count": 74,
     "metadata": {},
     "output_type": "execute_result"
    }
   ],
   "source": [
    " Brand_name1[:100]"
   ]
  },
  {
   "cell_type": "code",
   "execution_count": 65,
   "id": "2e33c4dc",
   "metadata": {},
   "outputs": [
    {
     "name": "stdout",
     "output_type": "stream",
     "text": [
      "100\n",
      "100\n",
      "100\n"
     ]
    },
    {
     "data": {
      "text/plain": [
       "(None, None, None)"
      ]
     },
     "execution_count": 65,
     "metadata": {},
     "output_type": "execute_result"
    }
   ],
   "source": [
    "print(len(Brand_name1[:100])),print(len(Price1[:100])),print(len(Prod_desc1[:100]))"
   ]
  },
  {
   "cell_type": "markdown",
   "id": "62b7502c",
   "metadata": {},
   "source": [
    "# Q7: Go to webpage https://www.amazon.in/ Enter “Laptop” in the search field and then click the search icon. Then\n",
    "set CPU Type filter to “Intel Core i7” as shown in the below image:\n",
    "After setting the filters scrape first 10 laptops data. You have to scrape 3 attributes for each laptop:\n",
    "1. Title\n",
    "2. Ratings\n",
    "3. Price"
   ]
  },
  {
   "cell_type": "code",
   "execution_count": 75,
   "id": "4d6f5d7b",
   "metadata": {},
   "outputs": [],
   "source": [
    "#connecting to webdriver\n",
    "driver = webdriver.Chrome(service=Service(ChromeDriverManager().install()))"
   ]
  },
  {
   "cell_type": "code",
   "execution_count": 76,
   "id": "51e89d86",
   "metadata": {},
   "outputs": [],
   "source": [
    "#fetching url\n",
    "url2=(\"https://www.amazon.in/\")\n",
    "driver.get(url2)"
   ]
  },
  {
   "cell_type": "code",
   "execution_count": 78,
   "id": "74d1cdf4",
   "metadata": {},
   "outputs": [],
   "source": [
    "#searching for the laptops \n",
    "lap=driver.find_element(By.XPATH,\"//input[@type='text']\")\n",
    "lap.send_keys(\"laptop\")"
   ]
  },
  {
   "cell_type": "code",
   "execution_count": 83,
   "id": "01a6ea01",
   "metadata": {},
   "outputs": [],
   "source": [
    "#SEARCH CLICK\n",
    "#search_1=driver.find_elements(By.XPATH,\"//input[@id='nav-search-submit-button']\")\n",
    "\n",
    "\n",
    "#search1=driver.find_element(By.CLASS_NAME,\"nav-input nav-progressive-attribute\")\n",
    "#earch_1.click()"
   ]
  },
  {
   "cell_type": "code",
   "execution_count": 86,
   "id": "22d7c949",
   "metadata": {},
   "outputs": [
    {
     "data": {
      "text/plain": [
       "[<selenium.webdriver.remote.webelement.WebElement (session=\"c8415805801ad1b99efb2cc7f5208e46\", element=\"A61024D0A676EBAA560D9E2D32878C50_element_24\")>]"
      ]
     },
     "execution_count": 86,
     "metadata": {},
     "output_type": "execute_result"
    }
   ],
   "source": [
    "search_btn=driver.find_elements(By.XPATH,\"//input[@id='nav-search-submit-button']\")\n",
    "search_btn"
   ]
  },
  {
   "cell_type": "code",
   "execution_count": 21,
   "id": "e8839a72",
   "metadata": {},
   "outputs": [],
   "source": [
    "search_btn=driver.find_elements(By.XPATH,\"//input[@id='nav-search-submit-button']\")\n",
    "search_btn.click()"
   ]
  },
  {
   "cell_type": "code",
   "execution_count": 99,
   "id": "f678b270",
   "metadata": {},
   "outputs": [],
   "source": [
    "Title=[]\n",
    "Price=[]\n",
    "Ratings=[]\n",
    "\n",
    "\n",
    "for i in range(1,2,3):\n",
    "    tit=driver.find_elements(By.XPATH,'//span[@class=\"a-size-medium a-color-base a-text-normal\"]')\n",
    "    rat=driver.find_elements(By.XPATH,'//i[@class=\"a-icon a-icon-star-small a-star-small-4 aok-align-bottom\"]')\n",
    "    pri=driver.find_elements(By.XPATH,'//span[@class=\"a-price-whole\"]')\n",
    "                                                                                 \n",
    "for j  in tit:\n",
    "    Title.append(j.text)\n",
    "    Title\n",
    "for k in rat:\n",
    "    Ratings.append(k.text)\n",
    "    Ratings\n",
    "for l in pri:\n",
    "        Price.append(l.text)\n",
    "        Price \n",
    "    \n",
    "\n",
    "\n"
   ]
  },
  {
   "cell_type": "markdown",
   "id": "a9f410ab",
   "metadata": {},
   "source": [
    "# Q8: Write a python program to scrape data for Top 1000 Quotes of All Time.\n",
    "The above task will be done in following steps:\n",
    "1. First get the webpagehttps://www.azquotes.com/\n",
    "2. Click on TopQuotes\n",
    "3. Than scrap a) Quote b) Author c) Type Of Quotes"
   ]
  },
  {
   "cell_type": "code",
   "execution_count": 7,
   "id": "e4de9fd3",
   "metadata": {},
   "outputs": [],
   "source": [
    "#connecting to webdriver\n",
    "driver = webdriver.Chrome(service=Service(ChromeDriverManager().install()))"
   ]
  },
  {
   "cell_type": "code",
   "execution_count": 5,
   "id": "e535e0af",
   "metadata": {},
   "outputs": [],
   "source": [
    "driver.get(\"https://www.azquotes.com/\")"
   ]
  },
  {
   "cell_type": "code",
   "execution_count": 6,
   "id": "81d4814b",
   "metadata": {},
   "outputs": [],
   "source": [
    "\n",
    "#Click on Top Quotes\n",
    "\n",
    "search_button=driver.find_element(By.XPATH,\"/html/body/div[1]/div[1]/div[1]/div/div[3]/ul/li[5]/a\")\n",
    "                                  \n",
    "search_button.click()\n",
    "                                  \n",
    "                                  "
   ]
  },
  {
   "cell_type": "code",
   "execution_count": 18,
   "id": "f4738b6f",
   "metadata": {},
   "outputs": [],
   "source": [
    "quotes=[]\n",
    "start=0\n",
    "end=10\n",
    "for page in range(start,end):\n",
    "    tit=driver.find_elements(By.XPATH,'//a[@class=\"title\"]')\n",
    "\n",
    "for i in tit:\n",
    "    quotes.append(i.text)\n",
    "    "
   ]
  },
  {
   "cell_type": "code",
   "execution_count": 27,
   "id": "a48b607a",
   "metadata": {},
   "outputs": [],
   "source": [
    "author=[]\n",
    "typequote=[]\n",
    "\n",
    "aut=driver.find_elements(By.XPATH,'//div[@class=\"author\"]')\n",
    "\n",
    "for j in aut:\n",
    "    author.append(j.text)\n",
    "    \n",
    "typ=driver.find_elements(By.XPATH,'//div[@class=\"tags\"]')\n",
    "    \n",
    "for k in typ:\n",
    "    typequote.append(k.text)\n"
   ]
  },
  {
   "cell_type": "code",
   "execution_count": 22,
   "id": "24f60c3e",
   "metadata": {},
   "outputs": [
    {
     "data": {
      "text/plain": [
       "['The essence of strategy is choosing what not to do.',\n",
       " 'One cannot and must not try to erase the past merely because it does not fit the present.',\n",
       " 'Patriotism means to stand by the country. It does not mean to stand by the president.',\n",
       " 'Death is something inevitable. When a man has done what he considers to be his duty to his people and his country, he can rest in peace. I believe I have made that effort and that is, therefore, why I will sleep for the eternity.',\n",
       " 'You have to love a nation that celebrates its independence every July 4, not with a parade of guns, tanks, and soldiers who file by the White House in a show of strength and muscle, but with family picnics where kids throw Frisbees, the potato salad gets iffy, and the flies die from happiness. You may think you have overeaten, but it is patriotism.',\n",
       " 'Be more concerned with your character than your reputation, because your character is what you really are, while your reputation is merely what others think you are.',\n",
       " 'Weak people revenge. Strong people forgive. Intelligent People Ignore.',\n",
       " \"A mind is like a parachute. It doesn't work if it is not open.\",\n",
       " 'Never be afraid to raise your voice for honesty and truth and compassion against injustice and lying and greed. If people all over the world...would do this, it would change the earth.',\n",
       " 'There are three kinds of men. The one that learns by reading. The few who learn by observation. The rest of them have to pee on the electric fence for themselves.',\n",
       " \"A strong nation, like a strong person, can afford to be gentle, firm, thoughtful, and restrained. It can afford to extend a helping hand to others. It's a weak nation, like a weak person, that must behave with bluster and boasting and rashness and other signs of insecurity.\",\n",
       " 'The difference between stupidity and genius is that genius has its limits.',\n",
       " 'We the people are the rightful masters of both Congress and the courts, not to overthrow the Constitution but to overthrow the men who pervert the Constitution.',\n",
       " 'With or without religion, you would have good people doing good things and evil people doing evil things. But for good people to do evil things, that takes religion.',\n",
       " 'Human kindness has never weakened the stamina or softened the fiber of a free people. A nation does not have to be cruel to be tough.',\n",
       " 'A person who never made a mistake never tried anything new.',\n",
       " 'My mission in life is not merely to survive, but to thrive; and to do so with some passion, some compassion, some humor, and some style',\n",
       " 'Life is short, Break the Rules. Forgive quickly, Kiss slowly. Love truly. Laugh uncontrollably And never regret ANYTHING That makes you smile.',\n",
       " 'This country will not be a good place for any of us to live in unless we make it a good place for all of us to live in.',\n",
       " 'In a world filled with hate, we must still dare to hope. In a world filled with anger, we must still dare to comfort. In a world filled with despair, we must still dare to dream. And in a world filled with distrust, we must still dare to believe.']"
      ]
     },
     "execution_count": 22,
     "metadata": {},
     "output_type": "execute_result"
    }
   ],
   "source": [
    "quotes[:20]"
   ]
  },
  {
   "cell_type": "code",
   "execution_count": 25,
   "id": "4b499bdb",
   "metadata": {},
   "outputs": [
    {
     "name": "stdout",
     "output_type": "stream",
     "text": [
      "100\n"
     ]
    }
   ],
   "source": [
    "print(len(author))"
   ]
  },
  {
   "cell_type": "code",
   "execution_count": 26,
   "id": "704a3e7e",
   "metadata": {},
   "outputs": [
    {
     "data": {
      "text/plain": [
       "['Golda Meir',\n",
       " 'Theodore Roosevelt',\n",
       " 'Nelson Mandela',\n",
       " 'Erma Bombeck',\n",
       " 'John Wooden',\n",
       " 'Albert Einstein',\n",
       " 'Frank Zappa',\n",
       " 'William Faulkner',\n",
       " 'Will Rogers']"
      ]
     },
     "execution_count": 26,
     "metadata": {},
     "output_type": "execute_result"
    }
   ],
   "source": [
    "author[1:10]"
   ]
  },
  {
   "cell_type": "code",
   "execution_count": 28,
   "id": "d532a6df",
   "metadata": {},
   "outputs": [
    {
     "data": {
      "text/plain": [
       "['Inspiration, Past, Trying',\n",
       " 'Country, Peace, War',\n",
       " 'Inspirational, Motivational, Death',\n",
       " '4th Of July, Food, Patriotic',\n",
       " 'Inspirational, Success, Basketball',\n",
       " 'Strong, Revenge, Intelligent',\n",
       " 'Inspirational, Teacher, Religious',\n",
       " 'Truth, Honesty, Lying',\n",
       " 'Funny, Reading, Learning']"
      ]
     },
     "execution_count": 28,
     "metadata": {},
     "output_type": "execute_result"
    }
   ],
   "source": [
    "typequote[1:10]"
   ]
  },
  {
   "cell_type": "code",
   "execution_count": 29,
   "id": "24905352",
   "metadata": {},
   "outputs": [
    {
     "name": "stdout",
     "output_type": "stream",
     "text": [
      "100\n"
     ]
    }
   ],
   "source": [
    "print(len(typequote))"
   ]
  },
  {
   "cell_type": "markdown",
   "id": "b45a6d9d",
   "metadata": {},
   "source": [
    "# Q9: Write a python program to display list of respected former Prime Ministers of India(i.e. Name, Born-Dead,\n",
    "Term of office, Remarks) from https://www.jagranjosh.com/.\n",
    "This task will be done in following steps:\n",
    "1. First get the webpagehttps://www.jagranjosh.com/\n",
    "2. Then You have to click on the GK option\n",
    "3. Then click on the List of all Prime Ministers of India\n",
    "4. Then scrap the mentioned data and make theDataFrame."
   ]
  },
  {
   "cell_type": "code",
   "execution_count": 33,
   "id": "de696bac",
   "metadata": {},
   "outputs": [],
   "source": [
    "#connecting to webdriver\n",
    "driver = webdriver.Chrome(service=Service(ChromeDriverManager().install()))"
   ]
  },
  {
   "cell_type": "code",
   "execution_count": 34,
   "id": "dbd68994",
   "metadata": {},
   "outputs": [],
   "source": [
    "#connecting to website\n",
    "driver.get(\"https://www.jagranjosh.com/\")"
   ]
  },
  {
   "cell_type": "code",
   "execution_count": 42,
   "id": "191509ac",
   "metadata": {},
   "outputs": [],
   "source": [
    "#click gk seaerch button\n",
    "gkbutton=driver.find_element(By.XPATH,'//*[@id=\"1675771483529\"]/section/div/ul/li[1]/span/b/a')\n",
    "gkbutton.click()"
   ]
  },
  {
   "cell_type": "code",
   "execution_count": 49,
   "id": "1a4da05e",
   "metadata": {},
   "outputs": [],
   "source": [
    "#search and click all pm of india\n",
    "#pmlist=driver.find_element(By.XPATH,'/html/body/div[1]/div/div/div[2]/div/div[10]/div/div/ul/li[2]/a')\n",
    "pmlist=driver.find_element(By.XPATH,'//*[@id=\"popluarGK\"]/ul/li[2]/a')\n",
    "pmlist.click()"
   ]
  },
  {
   "cell_type": "code",
   "execution_count": 52,
   "id": "2c520ede",
   "metadata": {},
   "outputs": [],
   "source": [
    "#scraping datas for name birthdeath,term of office and remarks\n",
    "names=[]\n",
    "birth_death=[]\n",
    "terms=[]\n",
    "remarks=[]\n",
    "\n",
    "name = driver.find_elements(By.XPATH,'//div[@class=\\\"table-box\\\"]/table/tbody/tr/td[2]/p')\n",
    "\n",
    "for i in name:\n",
    "    names.append(i.text)\n"
   ]
  },
  {
   "cell_type": "code",
   "execution_count": 53,
   "id": "f16d7c25",
   "metadata": {},
   "outputs": [
    {
     "data": {
      "text/plain": [
       "['Jawahar Lal Nehru',\n",
       " 'Gulzarilal Nanda (Acting)',\n",
       " 'Lal Bahadur Shastri',\n",
       " 'Gulzari Lal Nanda  (Acting)',\n",
       " 'Indira Gandhi',\n",
       " 'Morarji Desai',\n",
       " 'Charan Singh',\n",
       " 'Indira Gandhi',\n",
       " 'Rajiv Gandhi',\n",
       " 'V. P. Singh',\n",
       " 'Chandra Shekhar',\n",
       " 'P. V. Narasimha Rao',\n",
       " 'Atal Bihari Vajpayee',\n",
       " 'H. D. Deve Gowda',\n",
       " 'Inder Kumar Gujral',\n",
       " 'Atal Bihari Vajpayee',\n",
       " 'Manmohan Singh',\n",
       " 'Narendra Modi',\n",
       " 'Narendra Modi']"
      ]
     },
     "execution_count": 53,
     "metadata": {},
     "output_type": "execute_result"
    }
   ],
   "source": [
    "names\n"
   ]
  },
  {
   "cell_type": "code",
   "execution_count": 56,
   "id": "3a8e399f",
   "metadata": {},
   "outputs": [],
   "source": [
    "\n",
    "bd = driver.find_elements(By.XPATH,'//div[@class=\\\"table-box\\\"]/table/tbody/tr/td[3]/p')\n",
    "\n",
    "for j in bd: \n",
    "    birth_death.append(j.text)\n",
    "    \n",
    "#terms_of_office\n",
    "tof = driver.find_elements(By.XPATH,'//div[@class=\\\"table-box\\\"]/table/tbody/tr/td[4]')\n",
    "\n",
    "for k in tof:    \n",
    "    terms.append(k.text.replace('\\\\n', ''))\n",
    "                 \n",
    "#Remarks\n",
    "                 \n",
    "rem=driver.find_elements(By.XPATH,'//div[@class=\\\"table-box\\\"]/table/tbody/tr/td[5]/p')\n",
    "                 \n",
    "for l in rem:\n",
    "                 remarks.append(l.text)\n",
    "                 "
   ]
  },
  {
   "cell_type": "code",
   "execution_count": 58,
   "id": "9e50de39",
   "metadata": {},
   "outputs": [
    {
     "data": {
      "text/plain": [
       "['(1889–1964)',\n",
       " '(1898-1998)',\n",
       " '(1904–1966)',\n",
       " '(1898-1998)',\n",
       " '(1917–1984)',\n",
       " '(1896–1995)',\n",
       " '(1902–1987)',\n",
       " '(1917–1984)',\n",
       " '(1944–1991)',\n",
       " '(1931–2008)',\n",
       " '(1927–2007)',\n",
       " '(1921–2004)',\n",
       " '(1924- 2018)',\n",
       " '(born 1933)',\n",
       " '(1919–2012)',\n",
       " '(1924-2018)',\n",
       " '(born 1932)',\n",
       " '(born 1950)',\n",
       " '(born 1950)']"
      ]
     },
     "execution_count": 58,
     "metadata": {},
     "output_type": "execute_result"
    }
   ],
   "source": [
    "birth_death"
   ]
  },
  {
   "cell_type": "code",
   "execution_count": 59,
   "id": "db3c526c",
   "metadata": {},
   "outputs": [
    {
     "data": {
      "text/plain": [
       "['15 August 1947 to 27 May 1964\\n16 years, 286 days',\n",
       " '27 May 1964 to 9 June 1964,\\n13 days',\n",
       " '9 June 1964 to 11 January 1966\\n1 year, 216 days',\n",
       " '11 January 1966 to 24 January 1966\\n13 days',\n",
       " '24 January 1966 to 24 March 1977\\n11 years, 59 days',\n",
       " '24 March 1977 to  28 July 1979 \\n2 year, 126 days',\n",
       " '28 July 1979 to 14 January 1980\\n170 days',\n",
       " '14 January 1980 to 31 October 1984\\n4 years, 291 days',\n",
       " '31 October 1984 to 2 December 1989\\n5 years, 32 days',\n",
       " '2 December 1989 to 10 November 1990\\n343 days',\n",
       " '10 November 1990 to 21 June 1991\\n223 days',\n",
       " '21 June 1991 to 16 May 1996\\n4 years, 330 days',\n",
       " '16 May 1996 to 1 June 1996\\n16 days',\n",
       " '1 June 1996 to 21 April 1997\\n324 days',\n",
       " '21 April 1997 to 19 March 1998 \\n332 days',\n",
       " '19 March 1998 to 22 May 2004 \\n6 years, 64 days',\n",
       " '22 May 2004 to 26 May 2014   \\n10 years, 4 days',\n",
       " '26 May 2014 - 2019',\n",
       " '30 May 2019- Incumbent']"
      ]
     },
     "execution_count": 59,
     "metadata": {},
     "output_type": "execute_result"
    }
   ],
   "source": [
    "terms"
   ]
  },
  {
   "cell_type": "code",
   "execution_count": 60,
   "id": "87723775",
   "metadata": {},
   "outputs": [
    {
     "data": {
      "text/plain": [
       "['The first prime minister of India and the longest-serving PM of India, the first to die in office.',\n",
       " 'First acting PM of India',\n",
       " \"He has given the slogan of 'Jai Jawan Jai Kisan' during the Indo-Pak war of 1965\",\n",
       " '-',\n",
       " 'First female Prime Minister of India',\n",
       " 'Oldest to become PM (81 years old) and first to resign from office',\n",
       " 'Only PM who did not face the Parliament',\n",
       " 'The first lady who served as PM for the second term',\n",
       " 'Youngest to become PM (40 years old)',\n",
       " 'First PM to step down after a vote of no confidence',\n",
       " 'He belongs to  Samajwadi Janata Party',\n",
       " 'First PM from South India',\n",
       " 'PM for shortest tenure',\n",
       " 'He belongs to  Janata Dal',\n",
       " '------',\n",
       " ' The first non-congress PM who completed a full term as PM',\n",
       " ' First Sikh PM',\n",
       " '4th Prime Minister of India who served two consecutive tenures',\n",
       " 'First non-congress PM with two consecutive tenures']"
      ]
     },
     "execution_count": 60,
     "metadata": {},
     "output_type": "execute_result"
    }
   ],
   "source": [
    "remarks"
   ]
  },
  {
   "cell_type": "code",
   "execution_count": 64,
   "id": "5b56c75e",
   "metadata": {},
   "outputs": [
    {
     "data": {
      "text/html": [
       "<div>\n",
       "<style scoped>\n",
       "    .dataframe tbody tr th:only-of-type {\n",
       "        vertical-align: middle;\n",
       "    }\n",
       "\n",
       "    .dataframe tbody tr th {\n",
       "        vertical-align: top;\n",
       "    }\n",
       "\n",
       "    .dataframe thead th {\n",
       "        text-align: right;\n",
       "    }\n",
       "</style>\n",
       "<table border=\"1\" class=\"dataframe\">\n",
       "  <thead>\n",
       "    <tr style=\"text-align: right;\">\n",
       "      <th></th>\n",
       "      <th>PM _names</th>\n",
       "      <th>Birth_death</th>\n",
       "      <th>Term_of_office</th>\n",
       "      <th>Remarks</th>\n",
       "    </tr>\n",
       "  </thead>\n",
       "  <tbody>\n",
       "    <tr>\n",
       "      <th>0</th>\n",
       "      <td>Jawahar Lal Nehru</td>\n",
       "      <td>(1889–1964)</td>\n",
       "      <td>15 August 1947 to 27 May 1964\\n16 years, 286 days</td>\n",
       "      <td>The first prime minister of India and the long...</td>\n",
       "    </tr>\n",
       "    <tr>\n",
       "      <th>1</th>\n",
       "      <td>Gulzarilal Nanda (Acting)</td>\n",
       "      <td>(1898-1998)</td>\n",
       "      <td>27 May 1964 to 9 June 1964,\\n13 days</td>\n",
       "      <td>First acting PM of India</td>\n",
       "    </tr>\n",
       "    <tr>\n",
       "      <th>2</th>\n",
       "      <td>Lal Bahadur Shastri</td>\n",
       "      <td>(1904–1966)</td>\n",
       "      <td>9 June 1964 to 11 January 1966\\n1 year, 216 days</td>\n",
       "      <td>He has given the slogan of 'Jai Jawan Jai Kisa...</td>\n",
       "    </tr>\n",
       "    <tr>\n",
       "      <th>3</th>\n",
       "      <td>Gulzari Lal Nanda  (Acting)</td>\n",
       "      <td>(1898-1998)</td>\n",
       "      <td>11 January 1966 to 24 January 1966\\n13 days</td>\n",
       "      <td>-</td>\n",
       "    </tr>\n",
       "    <tr>\n",
       "      <th>4</th>\n",
       "      <td>Indira Gandhi</td>\n",
       "      <td>(1917–1984)</td>\n",
       "      <td>24 January 1966 to 24 March 1977\\n11 years, 59...</td>\n",
       "      <td>First female Prime Minister of India</td>\n",
       "    </tr>\n",
       "    <tr>\n",
       "      <th>5</th>\n",
       "      <td>Morarji Desai</td>\n",
       "      <td>(1896–1995)</td>\n",
       "      <td>24 March 1977 to  28 July 1979 \\n2 year, 126 days</td>\n",
       "      <td>Oldest to become PM (81 years old) and first t...</td>\n",
       "    </tr>\n",
       "    <tr>\n",
       "      <th>6</th>\n",
       "      <td>Charan Singh</td>\n",
       "      <td>(1902–1987)</td>\n",
       "      <td>28 July 1979 to 14 January 1980\\n170 days</td>\n",
       "      <td>Only PM who did not face the Parliament</td>\n",
       "    </tr>\n",
       "    <tr>\n",
       "      <th>7</th>\n",
       "      <td>Indira Gandhi</td>\n",
       "      <td>(1917–1984)</td>\n",
       "      <td>14 January 1980 to 31 October 1984\\n4 years, 2...</td>\n",
       "      <td>The first lady who served as PM for the second...</td>\n",
       "    </tr>\n",
       "    <tr>\n",
       "      <th>8</th>\n",
       "      <td>Rajiv Gandhi</td>\n",
       "      <td>(1944–1991)</td>\n",
       "      <td>31 October 1984 to 2 December 1989\\n5 years, 3...</td>\n",
       "      <td>Youngest to become PM (40 years old)</td>\n",
       "    </tr>\n",
       "    <tr>\n",
       "      <th>9</th>\n",
       "      <td>V. P. Singh</td>\n",
       "      <td>(1931–2008)</td>\n",
       "      <td>2 December 1989 to 10 November 1990\\n343 days</td>\n",
       "      <td>First PM to step down after a vote of no confi...</td>\n",
       "    </tr>\n",
       "    <tr>\n",
       "      <th>10</th>\n",
       "      <td>Chandra Shekhar</td>\n",
       "      <td>(1927–2007)</td>\n",
       "      <td>10 November 1990 to 21 June 1991\\n223 days</td>\n",
       "      <td>He belongs to  Samajwadi Janata Party</td>\n",
       "    </tr>\n",
       "    <tr>\n",
       "      <th>11</th>\n",
       "      <td>P. V. Narasimha Rao</td>\n",
       "      <td>(1921–2004)</td>\n",
       "      <td>21 June 1991 to 16 May 1996\\n4 years, 330 days</td>\n",
       "      <td>First PM from South India</td>\n",
       "    </tr>\n",
       "    <tr>\n",
       "      <th>12</th>\n",
       "      <td>Atal Bihari Vajpayee</td>\n",
       "      <td>(1924- 2018)</td>\n",
       "      <td>16 May 1996 to 1 June 1996\\n16 days</td>\n",
       "      <td>PM for shortest tenure</td>\n",
       "    </tr>\n",
       "    <tr>\n",
       "      <th>13</th>\n",
       "      <td>H. D. Deve Gowda</td>\n",
       "      <td>(born 1933)</td>\n",
       "      <td>1 June 1996 to 21 April 1997\\n324 days</td>\n",
       "      <td>He belongs to  Janata Dal</td>\n",
       "    </tr>\n",
       "    <tr>\n",
       "      <th>14</th>\n",
       "      <td>Inder Kumar Gujral</td>\n",
       "      <td>(1919–2012)</td>\n",
       "      <td>21 April 1997 to 19 March 1998 \\n332 days</td>\n",
       "      <td>------</td>\n",
       "    </tr>\n",
       "    <tr>\n",
       "      <th>15</th>\n",
       "      <td>Atal Bihari Vajpayee</td>\n",
       "      <td>(1924-2018)</td>\n",
       "      <td>19 March 1998 to 22 May 2004 \\n6 years, 64 days</td>\n",
       "      <td>The first non-congress PM who completed a ful...</td>\n",
       "    </tr>\n",
       "    <tr>\n",
       "      <th>16</th>\n",
       "      <td>Manmohan Singh</td>\n",
       "      <td>(born 1932)</td>\n",
       "      <td>22 May 2004 to 26 May 2014   \\n10 years, 4 days</td>\n",
       "      <td>First Sikh PM</td>\n",
       "    </tr>\n",
       "    <tr>\n",
       "      <th>17</th>\n",
       "      <td>Narendra Modi</td>\n",
       "      <td>(born 1950)</td>\n",
       "      <td>26 May 2014 - 2019</td>\n",
       "      <td>4th Prime Minister of India who served two con...</td>\n",
       "    </tr>\n",
       "    <tr>\n",
       "      <th>18</th>\n",
       "      <td>Narendra Modi</td>\n",
       "      <td>(born 1950)</td>\n",
       "      <td>30 May 2019- Incumbent</td>\n",
       "      <td>First non-congress PM with two consecutive ten...</td>\n",
       "    </tr>\n",
       "  </tbody>\n",
       "</table>\n",
       "</div>"
      ],
      "text/plain": [
       "                      PM _names   Birth_death  \\\n",
       "0             Jawahar Lal Nehru   (1889–1964)   \n",
       "1     Gulzarilal Nanda (Acting)   (1898-1998)   \n",
       "2           Lal Bahadur Shastri   (1904–1966)   \n",
       "3   Gulzari Lal Nanda  (Acting)   (1898-1998)   \n",
       "4                 Indira Gandhi   (1917–1984)   \n",
       "5                 Morarji Desai   (1896–1995)   \n",
       "6                  Charan Singh   (1902–1987)   \n",
       "7                 Indira Gandhi   (1917–1984)   \n",
       "8                  Rajiv Gandhi   (1944–1991)   \n",
       "9                   V. P. Singh   (1931–2008)   \n",
       "10              Chandra Shekhar   (1927–2007)   \n",
       "11          P. V. Narasimha Rao   (1921–2004)   \n",
       "12         Atal Bihari Vajpayee  (1924- 2018)   \n",
       "13             H. D. Deve Gowda   (born 1933)   \n",
       "14           Inder Kumar Gujral   (1919–2012)   \n",
       "15         Atal Bihari Vajpayee   (1924-2018)   \n",
       "16               Manmohan Singh   (born 1932)   \n",
       "17                Narendra Modi   (born 1950)   \n",
       "18                Narendra Modi   (born 1950)   \n",
       "\n",
       "                                       Term_of_office  \\\n",
       "0   15 August 1947 to 27 May 1964\\n16 years, 286 days   \n",
       "1                27 May 1964 to 9 June 1964,\\n13 days   \n",
       "2    9 June 1964 to 11 January 1966\\n1 year, 216 days   \n",
       "3         11 January 1966 to 24 January 1966\\n13 days   \n",
       "4   24 January 1966 to 24 March 1977\\n11 years, 59...   \n",
       "5   24 March 1977 to  28 July 1979 \\n2 year, 126 days   \n",
       "6           28 July 1979 to 14 January 1980\\n170 days   \n",
       "7   14 January 1980 to 31 October 1984\\n4 years, 2...   \n",
       "8   31 October 1984 to 2 December 1989\\n5 years, 3...   \n",
       "9       2 December 1989 to 10 November 1990\\n343 days   \n",
       "10         10 November 1990 to 21 June 1991\\n223 days   \n",
       "11     21 June 1991 to 16 May 1996\\n4 years, 330 days   \n",
       "12                16 May 1996 to 1 June 1996\\n16 days   \n",
       "13             1 June 1996 to 21 April 1997\\n324 days   \n",
       "14          21 April 1997 to 19 March 1998 \\n332 days   \n",
       "15    19 March 1998 to 22 May 2004 \\n6 years, 64 days   \n",
       "16    22 May 2004 to 26 May 2014   \\n10 years, 4 days   \n",
       "17                                 26 May 2014 - 2019   \n",
       "18                             30 May 2019- Incumbent   \n",
       "\n",
       "                                              Remarks  \n",
       "0   The first prime minister of India and the long...  \n",
       "1                            First acting PM of India  \n",
       "2   He has given the slogan of 'Jai Jawan Jai Kisa...  \n",
       "3                                                   -  \n",
       "4                First female Prime Minister of India  \n",
       "5   Oldest to become PM (81 years old) and first t...  \n",
       "6             Only PM who did not face the Parliament  \n",
       "7   The first lady who served as PM for the second...  \n",
       "8                Youngest to become PM (40 years old)  \n",
       "9   First PM to step down after a vote of no confi...  \n",
       "10              He belongs to  Samajwadi Janata Party  \n",
       "11                          First PM from South India  \n",
       "12                             PM for shortest tenure  \n",
       "13                          He belongs to  Janata Dal  \n",
       "14                                             ------  \n",
       "15   The first non-congress PM who completed a ful...  \n",
       "16                                      First Sikh PM  \n",
       "17  4th Prime Minister of India who served two con...  \n",
       "18  First non-congress PM with two consecutive ten...  "
      ]
     },
     "execution_count": 64,
     "metadata": {},
     "output_type": "execute_result"
    }
   ],
   "source": [
    "import pandas as pd\n",
    "pmlist=pd.DataFrame({'PM _names':names,'Birth_death':birth_death,'Term_of_office':terms,'Remarks':remarks})\n",
    "pmlist"
   ]
  },
  {
   "cell_type": "markdown",
   "id": "2e2183f2",
   "metadata": {},
   "source": [
    "# Q10: Write a python program to display list of 50 Most expensive cars in the world (i.e.\n",
    "Car name and Price) from https://www.motor1.com/\n",
    "This task will be done in following steps:\n",
    "1. First get the webpagehttps://www.motor1.com/\n",
    "2. Then You have to type in the search bar ’50 most expensive cars’\n",
    "3. Then click on 50 most expensive carsin the world..\n",
    "4. Then scrap the mentioned data and make the dataframe."
   ]
  },
  {
   "cell_type": "code",
   "execution_count": 65,
   "id": "c993b208",
   "metadata": {},
   "outputs": [],
   "source": [
    "\n",
    "#connecting to webdriver\n",
    "driver = webdriver.Chrome(service=Service(ChromeDriverManager().install()))"
   ]
  },
  {
   "cell_type": "code",
   "execution_count": 66,
   "id": "7eabe401",
   "metadata": {},
   "outputs": [],
   "source": [
    "#go to url\n",
    "driver.get(\"https://www.motor1.com/\")"
   ]
  },
  {
   "cell_type": "code",
   "execution_count": 67,
   "id": "1af1b93a",
   "metadata": {},
   "outputs": [],
   "source": [
    "#go and search with keywords\n",
    "\n",
    "search=driver.find_element(By.XPATH,'//input[@class=\"m1-search-panel-input m1-search-form-text\"]')\n",
    "\n",
    "search.send_keys(\"50 most expensive cars\")\n"
   ]
  },
  {
   "cell_type": "code",
   "execution_count": 69,
   "id": "e96932e3",
   "metadata": {},
   "outputs": [],
   "source": [
    "#search and click \n",
    "se_cli=driver.find_element(By.XPATH,'//button[@class=\"m1-search-panel-button m1-search-form-button-animate icon-search-svg\"]')\n",
    "se_cli.click()"
   ]
  },
  {
   "cell_type": "code",
   "execution_count": 70,
   "id": "73426a43",
   "metadata": {},
   "outputs": [],
   "source": [
    "#clicking in the listing of 50 most exp cars in world by jeff perez\n",
    "\n",
    "listing=driver.find_element(By.XPATH,'/html/body/div[10]/div[9]/div/div[1]/div/div/div[2]/div/div[1]/h3/a')\n",
    "listing.click()"
   ]
  },
  {
   "cell_type": "code",
   "execution_count": 74,
   "id": "3d93f881",
   "metadata": {},
   "outputs": [],
   "source": [
    "car_names=[]\n",
    "\n",
    "car=driver.find_elements(By.XPATH,'//h3[@class=\"subheader\"]')\n",
    "\n",
    "for i in car:\n",
    "    car_names.append(i.text)\n",
    "    \n",
    "    "
   ]
  },
  {
   "cell_type": "code",
   "execution_count": 75,
   "id": "f5919cb0",
   "metadata": {},
   "outputs": [
    {
     "data": {
      "text/plain": [
       "['De Tomaso P72',\n",
       " 'Ferrari LaFerrari',\n",
       " 'Pagani Huayra',\n",
       " 'McLaren Elva',\n",
       " 'Czinger 21C',\n",
       " 'Ferrari Monza',\n",
       " 'Gordon Murray T.33',\n",
       " 'Koenigsegg Gemera',\n",
       " 'Zenvo TSR-S',\n",
       " 'Hennessey Venom F5',\n",
       " 'Bentley Bacalar',\n",
       " 'Hispano Suiza Carmen Boulogne',\n",
       " 'Bentley Mulliner Batur',\n",
       " 'Deus Vayanne',\n",
       " 'SSC Tuatara',\n",
       " 'Lotus Evija',\n",
       " 'Aston Martin Vulcan',\n",
       " 'Delage D12',\n",
       " 'McLaren Speedtail',\n",
       " 'Rimac Nevera',\n",
       " 'Pagani Utopia',\n",
       " 'Pininfarina Battista',\n",
       " 'Ferrari FXX K Evo',\n",
       " 'Gordon Murray T.50',\n",
       " 'Lamborghini Countach',\n",
       " 'Mercedes-AMG Project One',\n",
       " 'Aston Martin Victor',\n",
       " 'Hennessey Venom F5 Roadster',\n",
       " 'Koenigsegg Jesko',\n",
       " 'Aston Martin Valkyrie',\n",
       " 'W Motors Lykan Hypersport',\n",
       " 'McLaren Solus',\n",
       " 'Pagani Huayra Roadster BC',\n",
       " 'Bugatti Chiron Pur Sport',\n",
       " 'Lamborghini Sian',\n",
       " 'Koenigsegg CC850',\n",
       " 'Bugatti Chiron Super Sport 300+',\n",
       " 'Lamborghini Veneno',\n",
       " 'Bugatti Bolide',\n",
       " 'Bugatti Mistral',\n",
       " 'Pagani Huayra Imola',\n",
       " 'Bugatti Divo',\n",
       " 'SP Automotive Chaos',\n",
       " 'Pagani Codalunga',\n",
       " 'Mercedes-Maybach Exelero',\n",
       " 'Bugatti Centodieci',\n",
       " 'Bugatti Chiron Profilée',\n",
       " 'Rolls-Royce Sweptail',\n",
       " 'Bugatti La Voiture Noire',\n",
       " 'Rolls-Royce Boat Tail*',\n",
       " 'Most Expensive Cars In The World']"
      ]
     },
     "execution_count": 75,
     "metadata": {},
     "output_type": "execute_result"
    }
   ],
   "source": [
    "car_names"
   ]
  },
  {
   "cell_type": "code",
   "execution_count": 76,
   "id": "a5ef8789",
   "metadata": {},
   "outputs": [
    {
     "name": "stdout",
     "output_type": "stream",
     "text": [
      "51\n"
     ]
    }
   ],
   "source": [
    "print(len(car_names))"
   ]
  },
  {
   "cell_type": "code",
   "execution_count": 79,
   "id": "b88ba32c",
   "metadata": {},
   "outputs": [],
   "source": [
    "prices = []\n",
    "expcars = driver.find_elements(By.XPATH,\"//strong\")\n",
    "                                        \n",
    "for j in expcars:\n",
    "                               prices.append(j.text)"
   ]
  },
  {
   "cell_type": "code",
   "execution_count": 80,
   "id": "a81ae279",
   "metadata": {},
   "outputs": [
    {
     "data": {
      "text/plain": [
       "['Price: $1.3 Million',\n",
       " 'Price: $1.4 Million',\n",
       " 'Price: $1.4 Million',\n",
       " '',\n",
       " 'Price: $1.7 Million',\n",
       " 'Price: $1.7 Million',\n",
       " 'Price: $1.7 Million',\n",
       " 'Price: $1.7 Million',\n",
       " 'Price: $1.7 Million',\n",
       " 'Price: $1.7 Million',\n",
       " 'Price: $1.8 Million',\n",
       " 'Price: $1.9 Million',\n",
       " 'Price: $1.9 Million',\n",
       " 'Price: $2.0 Million',\n",
       " 'Price: $2.0 Million',\n",
       " 'Price: $2.0 Million*',\n",
       " 'Price: $2.1 Million',\n",
       " 'Price: $2.3 Million',\n",
       " 'Price: $2.3 Million',\n",
       " 'Price: $2.3 Million',\n",
       " 'Price: $2.4 Million',\n",
       " 'Price: $2.5 Million',\n",
       " 'Price: $2.5 Million',\n",
       " 'Price: $2.6 Million',\n",
       " 'Price: $2.6 Million',\n",
       " 'Price: $2.6 Million',\n",
       " 'Price: $2.7 Million',\n",
       " 'Price: $3.0 Million',\n",
       " '$3.0 Million',\n",
       " 'Price: $3.0 Million',\n",
       " 'Price: $3.2 Million',\n",
       " 'Price: $3.4 Million',\n",
       " '$3.5 Million',\n",
       " 'Price: $3.5 Million',\n",
       " 'Price: $3.6 Million',\n",
       " 'Price: $3.6 million',\n",
       " 'Price: $3.7 Million',\n",
       " 'Price: $3.9 Million',\n",
       " 'Price: $4.5 Million',\n",
       " 'Price: $4.7 Million',\n",
       " 'Price: $5.0 Million',\n",
       " 'Price: $5.4 Million',\n",
       " 'Price: $5.8 Million',\n",
       " 'Price: $6.4 Million',\n",
       " 'Price: $7.4 Million',\n",
       " 'Price: $8.0 Million',\n",
       " 'Price: $9.0 Million',\n",
       " 'Price: $10.8 Million',\n",
       " 'Price: $12.8 Million',\n",
       " 'Price: $13.4 Million',\n",
       " 'Price: $28.0 Million (est.)']"
      ]
     },
     "execution_count": 80,
     "metadata": {},
     "output_type": "execute_result"
    }
   ],
   "source": [
    "prices"
   ]
  },
  {
   "cell_type": "code",
   "execution_count": 81,
   "id": "e6a81085",
   "metadata": {},
   "outputs": [
    {
     "name": "stdout",
     "output_type": "stream",
     "text": [
      "51\n"
     ]
    }
   ],
   "source": [
    "print(len(prices))"
   ]
  },
  {
   "cell_type": "code",
   "execution_count": 82,
   "id": "7175e3b2",
   "metadata": {},
   "outputs": [
    {
     "data": {
      "text/html": [
       "<div>\n",
       "<style scoped>\n",
       "    .dataframe tbody tr th:only-of-type {\n",
       "        vertical-align: middle;\n",
       "    }\n",
       "\n",
       "    .dataframe tbody tr th {\n",
       "        vertical-align: top;\n",
       "    }\n",
       "\n",
       "    .dataframe thead th {\n",
       "        text-align: right;\n",
       "    }\n",
       "</style>\n",
       "<table border=\"1\" class=\"dataframe\">\n",
       "  <thead>\n",
       "    <tr style=\"text-align: right;\">\n",
       "      <th></th>\n",
       "      <th>Expensivecar_names</th>\n",
       "      <th>Pricesin$</th>\n",
       "    </tr>\n",
       "  </thead>\n",
       "  <tbody>\n",
       "    <tr>\n",
       "      <th>0</th>\n",
       "      <td>De Tomaso P72</td>\n",
       "      <td>Price: $1.3 Million</td>\n",
       "    </tr>\n",
       "    <tr>\n",
       "      <th>1</th>\n",
       "      <td>Ferrari LaFerrari</td>\n",
       "      <td>Price: $1.4 Million</td>\n",
       "    </tr>\n",
       "    <tr>\n",
       "      <th>2</th>\n",
       "      <td>Pagani Huayra</td>\n",
       "      <td>Price: $1.4 Million</td>\n",
       "    </tr>\n",
       "    <tr>\n",
       "      <th>3</th>\n",
       "      <td>McLaren Elva</td>\n",
       "      <td></td>\n",
       "    </tr>\n",
       "    <tr>\n",
       "      <th>4</th>\n",
       "      <td>Czinger 21C</td>\n",
       "      <td>Price: $1.7 Million</td>\n",
       "    </tr>\n",
       "    <tr>\n",
       "      <th>5</th>\n",
       "      <td>Ferrari Monza</td>\n",
       "      <td>Price: $1.7 Million</td>\n",
       "    </tr>\n",
       "    <tr>\n",
       "      <th>6</th>\n",
       "      <td>Gordon Murray T.33</td>\n",
       "      <td>Price: $1.7 Million</td>\n",
       "    </tr>\n",
       "    <tr>\n",
       "      <th>7</th>\n",
       "      <td>Koenigsegg Gemera</td>\n",
       "      <td>Price: $1.7 Million</td>\n",
       "    </tr>\n",
       "    <tr>\n",
       "      <th>8</th>\n",
       "      <td>Zenvo TSR-S</td>\n",
       "      <td>Price: $1.7 Million</td>\n",
       "    </tr>\n",
       "    <tr>\n",
       "      <th>9</th>\n",
       "      <td>Hennessey Venom F5</td>\n",
       "      <td>Price: $1.7 Million</td>\n",
       "    </tr>\n",
       "    <tr>\n",
       "      <th>10</th>\n",
       "      <td>Bentley Bacalar</td>\n",
       "      <td>Price: $1.8 Million</td>\n",
       "    </tr>\n",
       "    <tr>\n",
       "      <th>11</th>\n",
       "      <td>Hispano Suiza Carmen Boulogne</td>\n",
       "      <td>Price: $1.9 Million</td>\n",
       "    </tr>\n",
       "    <tr>\n",
       "      <th>12</th>\n",
       "      <td>Bentley Mulliner Batur</td>\n",
       "      <td>Price: $1.9 Million</td>\n",
       "    </tr>\n",
       "    <tr>\n",
       "      <th>13</th>\n",
       "      <td>Deus Vayanne</td>\n",
       "      <td>Price: $2.0 Million</td>\n",
       "    </tr>\n",
       "    <tr>\n",
       "      <th>14</th>\n",
       "      <td>SSC Tuatara</td>\n",
       "      <td>Price: $2.0 Million</td>\n",
       "    </tr>\n",
       "    <tr>\n",
       "      <th>15</th>\n",
       "      <td>Lotus Evija</td>\n",
       "      <td>Price: $2.0 Million*</td>\n",
       "    </tr>\n",
       "    <tr>\n",
       "      <th>16</th>\n",
       "      <td>Aston Martin Vulcan</td>\n",
       "      <td>Price: $2.1 Million</td>\n",
       "    </tr>\n",
       "    <tr>\n",
       "      <th>17</th>\n",
       "      <td>Delage D12</td>\n",
       "      <td>Price: $2.3 Million</td>\n",
       "    </tr>\n",
       "    <tr>\n",
       "      <th>18</th>\n",
       "      <td>McLaren Speedtail</td>\n",
       "      <td>Price: $2.3 Million</td>\n",
       "    </tr>\n",
       "    <tr>\n",
       "      <th>19</th>\n",
       "      <td>Rimac Nevera</td>\n",
       "      <td>Price: $2.3 Million</td>\n",
       "    </tr>\n",
       "    <tr>\n",
       "      <th>20</th>\n",
       "      <td>Pagani Utopia</td>\n",
       "      <td>Price: $2.4 Million</td>\n",
       "    </tr>\n",
       "    <tr>\n",
       "      <th>21</th>\n",
       "      <td>Pininfarina Battista</td>\n",
       "      <td>Price: $2.5 Million</td>\n",
       "    </tr>\n",
       "    <tr>\n",
       "      <th>22</th>\n",
       "      <td>Ferrari FXX K Evo</td>\n",
       "      <td>Price: $2.5 Million</td>\n",
       "    </tr>\n",
       "    <tr>\n",
       "      <th>23</th>\n",
       "      <td>Gordon Murray T.50</td>\n",
       "      <td>Price: $2.6 Million</td>\n",
       "    </tr>\n",
       "    <tr>\n",
       "      <th>24</th>\n",
       "      <td>Lamborghini Countach</td>\n",
       "      <td>Price: $2.6 Million</td>\n",
       "    </tr>\n",
       "    <tr>\n",
       "      <th>25</th>\n",
       "      <td>Mercedes-AMG Project One</td>\n",
       "      <td>Price: $2.6 Million</td>\n",
       "    </tr>\n",
       "    <tr>\n",
       "      <th>26</th>\n",
       "      <td>Aston Martin Victor</td>\n",
       "      <td>Price: $2.7 Million</td>\n",
       "    </tr>\n",
       "    <tr>\n",
       "      <th>27</th>\n",
       "      <td>Hennessey Venom F5 Roadster</td>\n",
       "      <td>Price: $3.0 Million</td>\n",
       "    </tr>\n",
       "    <tr>\n",
       "      <th>28</th>\n",
       "      <td>Koenigsegg Jesko</td>\n",
       "      <td>$3.0 Million</td>\n",
       "    </tr>\n",
       "    <tr>\n",
       "      <th>29</th>\n",
       "      <td>Aston Martin Valkyrie</td>\n",
       "      <td>Price: $3.0 Million</td>\n",
       "    </tr>\n",
       "    <tr>\n",
       "      <th>30</th>\n",
       "      <td>W Motors Lykan Hypersport</td>\n",
       "      <td>Price: $3.2 Million</td>\n",
       "    </tr>\n",
       "    <tr>\n",
       "      <th>31</th>\n",
       "      <td>McLaren Solus</td>\n",
       "      <td>Price: $3.4 Million</td>\n",
       "    </tr>\n",
       "    <tr>\n",
       "      <th>32</th>\n",
       "      <td>Pagani Huayra Roadster BC</td>\n",
       "      <td>$3.5 Million</td>\n",
       "    </tr>\n",
       "    <tr>\n",
       "      <th>33</th>\n",
       "      <td>Bugatti Chiron Pur Sport</td>\n",
       "      <td>Price: $3.5 Million</td>\n",
       "    </tr>\n",
       "    <tr>\n",
       "      <th>34</th>\n",
       "      <td>Lamborghini Sian</td>\n",
       "      <td>Price: $3.6 Million</td>\n",
       "    </tr>\n",
       "    <tr>\n",
       "      <th>35</th>\n",
       "      <td>Koenigsegg CC850</td>\n",
       "      <td>Price: $3.6 million</td>\n",
       "    </tr>\n",
       "    <tr>\n",
       "      <th>36</th>\n",
       "      <td>Bugatti Chiron Super Sport 300+</td>\n",
       "      <td>Price: $3.7 Million</td>\n",
       "    </tr>\n",
       "    <tr>\n",
       "      <th>37</th>\n",
       "      <td>Lamborghini Veneno</td>\n",
       "      <td>Price: $3.9 Million</td>\n",
       "    </tr>\n",
       "    <tr>\n",
       "      <th>38</th>\n",
       "      <td>Bugatti Bolide</td>\n",
       "      <td>Price: $4.5 Million</td>\n",
       "    </tr>\n",
       "    <tr>\n",
       "      <th>39</th>\n",
       "      <td>Bugatti Mistral</td>\n",
       "      <td>Price: $4.7 Million</td>\n",
       "    </tr>\n",
       "    <tr>\n",
       "      <th>40</th>\n",
       "      <td>Pagani Huayra Imola</td>\n",
       "      <td>Price: $5.0 Million</td>\n",
       "    </tr>\n",
       "    <tr>\n",
       "      <th>41</th>\n",
       "      <td>Bugatti Divo</td>\n",
       "      <td>Price: $5.4 Million</td>\n",
       "    </tr>\n",
       "    <tr>\n",
       "      <th>42</th>\n",
       "      <td>SP Automotive Chaos</td>\n",
       "      <td>Price: $5.8 Million</td>\n",
       "    </tr>\n",
       "    <tr>\n",
       "      <th>43</th>\n",
       "      <td>Pagani Codalunga</td>\n",
       "      <td>Price: $6.4 Million</td>\n",
       "    </tr>\n",
       "    <tr>\n",
       "      <th>44</th>\n",
       "      <td>Mercedes-Maybach Exelero</td>\n",
       "      <td>Price: $7.4 Million</td>\n",
       "    </tr>\n",
       "    <tr>\n",
       "      <th>45</th>\n",
       "      <td>Bugatti Centodieci</td>\n",
       "      <td>Price: $8.0 Million</td>\n",
       "    </tr>\n",
       "    <tr>\n",
       "      <th>46</th>\n",
       "      <td>Bugatti Chiron Profilée</td>\n",
       "      <td>Price: $9.0 Million</td>\n",
       "    </tr>\n",
       "    <tr>\n",
       "      <th>47</th>\n",
       "      <td>Rolls-Royce Sweptail</td>\n",
       "      <td>Price: $10.8 Million</td>\n",
       "    </tr>\n",
       "    <tr>\n",
       "      <th>48</th>\n",
       "      <td>Bugatti La Voiture Noire</td>\n",
       "      <td>Price: $12.8 Million</td>\n",
       "    </tr>\n",
       "    <tr>\n",
       "      <th>49</th>\n",
       "      <td>Rolls-Royce Boat Tail*</td>\n",
       "      <td>Price: $13.4 Million</td>\n",
       "    </tr>\n",
       "    <tr>\n",
       "      <th>50</th>\n",
       "      <td>Most Expensive Cars In The World</td>\n",
       "      <td>Price: $28.0 Million (est.)</td>\n",
       "    </tr>\n",
       "  </tbody>\n",
       "</table>\n",
       "</div>"
      ],
      "text/plain": [
       "                  Expensivecar_names                    Pricesin$\n",
       "0                      De Tomaso P72          Price: $1.3 Million\n",
       "1                  Ferrari LaFerrari          Price: $1.4 Million\n",
       "2                      Pagani Huayra          Price: $1.4 Million\n",
       "3                       McLaren Elva                             \n",
       "4                        Czinger 21C          Price: $1.7 Million\n",
       "5                      Ferrari Monza          Price: $1.7 Million\n",
       "6                 Gordon Murray T.33          Price: $1.7 Million\n",
       "7                  Koenigsegg Gemera          Price: $1.7 Million\n",
       "8                        Zenvo TSR-S          Price: $1.7 Million\n",
       "9                 Hennessey Venom F5          Price: $1.7 Million\n",
       "10                   Bentley Bacalar          Price: $1.8 Million\n",
       "11     Hispano Suiza Carmen Boulogne          Price: $1.9 Million\n",
       "12            Bentley Mulliner Batur          Price: $1.9 Million\n",
       "13                      Deus Vayanne          Price: $2.0 Million\n",
       "14                       SSC Tuatara          Price: $2.0 Million\n",
       "15                       Lotus Evija         Price: $2.0 Million*\n",
       "16               Aston Martin Vulcan          Price: $2.1 Million\n",
       "17                        Delage D12          Price: $2.3 Million\n",
       "18                 McLaren Speedtail          Price: $2.3 Million\n",
       "19                      Rimac Nevera          Price: $2.3 Million\n",
       "20                     Pagani Utopia          Price: $2.4 Million\n",
       "21              Pininfarina Battista          Price: $2.5 Million\n",
       "22                 Ferrari FXX K Evo          Price: $2.5 Million\n",
       "23                Gordon Murray T.50          Price: $2.6 Million\n",
       "24              Lamborghini Countach          Price: $2.6 Million\n",
       "25          Mercedes-AMG Project One          Price: $2.6 Million\n",
       "26               Aston Martin Victor          Price: $2.7 Million\n",
       "27       Hennessey Venom F5 Roadster          Price: $3.0 Million\n",
       "28                  Koenigsegg Jesko                 $3.0 Million\n",
       "29             Aston Martin Valkyrie          Price: $3.0 Million\n",
       "30         W Motors Lykan Hypersport          Price: $3.2 Million\n",
       "31                     McLaren Solus          Price: $3.4 Million\n",
       "32         Pagani Huayra Roadster BC                 $3.5 Million\n",
       "33          Bugatti Chiron Pur Sport          Price: $3.5 Million\n",
       "34                  Lamborghini Sian          Price: $3.6 Million\n",
       "35                  Koenigsegg CC850          Price: $3.6 million\n",
       "36   Bugatti Chiron Super Sport 300+          Price: $3.7 Million\n",
       "37                Lamborghini Veneno          Price: $3.9 Million\n",
       "38                    Bugatti Bolide          Price: $4.5 Million\n",
       "39                   Bugatti Mistral          Price: $4.7 Million\n",
       "40               Pagani Huayra Imola          Price: $5.0 Million\n",
       "41                      Bugatti Divo          Price: $5.4 Million\n",
       "42               SP Automotive Chaos          Price: $5.8 Million\n",
       "43                  Pagani Codalunga          Price: $6.4 Million\n",
       "44          Mercedes-Maybach Exelero          Price: $7.4 Million\n",
       "45                Bugatti Centodieci          Price: $8.0 Million\n",
       "46           Bugatti Chiron Profilée          Price: $9.0 Million\n",
       "47              Rolls-Royce Sweptail         Price: $10.8 Million\n",
       "48          Bugatti La Voiture Noire         Price: $12.8 Million\n",
       "49            Rolls-Royce Boat Tail*         Price: $13.4 Million\n",
       "50  Most Expensive Cars In The World  Price: $28.0 Million (est.)"
      ]
     },
     "execution_count": 82,
     "metadata": {},
     "output_type": "execute_result"
    }
   ],
   "source": [
    "import pandas as pd\n",
    "carlist=pd.DataFrame({'Expensivecar_names':car_names,'Pricesin$':prices})\n",
    "carlist"
   ]
  },
  {
   "cell_type": "code",
   "execution_count": null,
   "id": "e98ed243",
   "metadata": {},
   "outputs": [],
   "source": []
  }
 ],
 "metadata": {
  "kernelspec": {
   "display_name": "Python 3 (ipykernel)",
   "language": "python",
   "name": "python3"
  },
  "language_info": {
   "codemirror_mode": {
    "name": "ipython",
    "version": 3
   },
   "file_extension": ".py",
   "mimetype": "text/x-python",
   "name": "python",
   "nbconvert_exporter": "python",
   "pygments_lexer": "ipython3",
   "version": "3.9.13"
  }
 },
 "nbformat": 4,
 "nbformat_minor": 5
}
